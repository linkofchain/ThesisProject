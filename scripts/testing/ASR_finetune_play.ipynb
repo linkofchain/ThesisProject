{
 "cells": [
  {
   "cell_type": "markdown",
   "metadata": {},
   "source": [
    "# playground for dataprep"
   ]
  },
  {
   "cell_type": "code",
   "execution_count": 5,
   "metadata": {},
   "outputs": [],
   "source": [
    "import mozilla2csv\n",
    "import os\n",
    "import pandas as pd"
   ]
  },
  {
   "cell_type": "code",
   "execution_count": 5,
   "metadata": {},
   "outputs": [],
   "source": [
    "tsv_path = \"/home/peter/Desktop/Studies/Thesis/data/cv-corpus-20.0-2024-12-06-ga-IE/cv-corpus-20.0-2024-12-06/ga-IE\"\n",
    "output_path = \"/home/peter/Desktop/Studies/Thesis/data/cv-corpus-20.0-2024-12-06-ga-IE\""
   ]
  },
  {
   "cell_type": "code",
   "execution_count": 4,
   "metadata": {},
   "outputs": [
    {
     "data": {
      "text/plain": [
       "['validated_sentences.tsv',\n",
       " 'invalidated.tsv',\n",
       " '.~lock.train.tsv#',\n",
       " 'validated.tsv',\n",
       " 'clips',\n",
       " 'unvalidated_sentences.tsv',\n",
       " 'other.tsv',\n",
       " 'clip_durations.tsv',\n",
       " 'reported.tsv',\n",
       " 'dev.tsv',\n",
       " 'test.tsv',\n",
       " 'train.tsv']"
      ]
     },
     "execution_count": 4,
     "metadata": {},
     "output_type": "execute_result"
    }
   ],
   "source": [
    "os.listdir(tsv_path)"
   ]
  },
  {
   "cell_type": "code",
   "execution_count": 13,
   "metadata": {},
   "outputs": [
    {
     "data": {
      "text/html": [
       "<div>\n",
       "<style scoped>\n",
       "    .dataframe tbody tr th:only-of-type {\n",
       "        vertical-align: middle;\n",
       "    }\n",
       "\n",
       "    .dataframe tbody tr th {\n",
       "        vertical-align: top;\n",
       "    }\n",
       "\n",
       "    .dataframe thead th {\n",
       "        text-align: right;\n",
       "    }\n",
       "</style>\n",
       "<table border=\"1\" class=\"dataframe\">\n",
       "  <thead>\n",
       "    <tr style=\"text-align: right;\">\n",
       "      <th></th>\n",
       "      <th>client_id</th>\n",
       "      <th>path</th>\n",
       "      <th>sentence_id</th>\n",
       "      <th>sentence</th>\n",
       "      <th>sentence_domain</th>\n",
       "      <th>up_votes</th>\n",
       "      <th>down_votes</th>\n",
       "      <th>age</th>\n",
       "      <th>gender</th>\n",
       "      <th>accents</th>\n",
       "      <th>variant</th>\n",
       "      <th>locale</th>\n",
       "      <th>segment</th>\n",
       "    </tr>\n",
       "  </thead>\n",
       "  <tbody>\n",
       "    <tr>\n",
       "      <th>0</th>\n",
       "      <td>c1d05e6aa30ec2982073814640b1a5365c09e53fc52dd3...</td>\n",
       "      <td>common_voice_ga-IE_17571418.mp3</td>\n",
       "      <td>12e384c909a7793008d93b71d5b5b808372007d9463df5...</td>\n",
       "      <td>Tá a mála ar an urlár</td>\n",
       "      <td>NaN</td>\n",
       "      <td>2</td>\n",
       "      <td>1</td>\n",
       "      <td>thirties</td>\n",
       "      <td>male_masculine</td>\n",
       "      <td>Gaeilge Chonnacht</td>\n",
       "      <td>NaN</td>\n",
       "      <td>ga-IE</td>\n",
       "      <td>NaN</td>\n",
       "    </tr>\n",
       "    <tr>\n",
       "      <th>1</th>\n",
       "      <td>c1d05e6aa30ec2982073814640b1a5365c09e53fc52dd3...</td>\n",
       "      <td>common_voice_ga-IE_17571419.mp3</td>\n",
       "      <td>4d5c6e7d628d5a00550e4022fb1797dd41dffbc3172e42...</td>\n",
       "      <td>An Phoblacht Doiminiceach</td>\n",
       "      <td>NaN</td>\n",
       "      <td>2</td>\n",
       "      <td>0</td>\n",
       "      <td>thirties</td>\n",
       "      <td>male_masculine</td>\n",
       "      <td>Gaeilge Chonnacht</td>\n",
       "      <td>NaN</td>\n",
       "      <td>ga-IE</td>\n",
       "      <td>NaN</td>\n",
       "    </tr>\n",
       "    <tr>\n",
       "      <th>2</th>\n",
       "      <td>c1d05e6aa30ec2982073814640b1a5365c09e53fc52dd3...</td>\n",
       "      <td>common_voice_ga-IE_17571420.mp3</td>\n",
       "      <td>9f95ffcd6f2428b00c7ed675f307ae20788a6a618d9a08...</td>\n",
       "      <td>Do ghnó féin déan a dhuine</td>\n",
       "      <td>NaN</td>\n",
       "      <td>2</td>\n",
       "      <td>0</td>\n",
       "      <td>thirties</td>\n",
       "      <td>male_masculine</td>\n",
       "      <td>Gaeilge Chonnacht</td>\n",
       "      <td>NaN</td>\n",
       "      <td>ga-IE</td>\n",
       "      <td>NaN</td>\n",
       "    </tr>\n",
       "    <tr>\n",
       "      <th>3</th>\n",
       "      <td>c1d05e6aa30ec2982073814640b1a5365c09e53fc52dd3...</td>\n",
       "      <td>common_voice_ga-IE_17571424.mp3</td>\n",
       "      <td>56da7e8f95ca495e1d91db46cb4a07b21e09394090553f...</td>\n",
       "      <td>Ní raibh mé</td>\n",
       "      <td>NaN</td>\n",
       "      <td>2</td>\n",
       "      <td>1</td>\n",
       "      <td>thirties</td>\n",
       "      <td>male_masculine</td>\n",
       "      <td>Gaeilge Chonnacht</td>\n",
       "      <td>NaN</td>\n",
       "      <td>ga-IE</td>\n",
       "      <td>NaN</td>\n",
       "    </tr>\n",
       "    <tr>\n",
       "      <th>4</th>\n",
       "      <td>c1d05e6aa30ec2982073814640b1a5365c09e53fc52dd3...</td>\n",
       "      <td>common_voice_ga-IE_17571428.mp3</td>\n",
       "      <td>da021995eee94400c8eea98ad5db21d2eddaf2060ae9e1...</td>\n",
       "      <td>Dún do bhéal.</td>\n",
       "      <td>NaN</td>\n",
       "      <td>2</td>\n",
       "      <td>0</td>\n",
       "      <td>thirties</td>\n",
       "      <td>male_masculine</td>\n",
       "      <td>Gaeilge Chonnacht</td>\n",
       "      <td>NaN</td>\n",
       "      <td>ga-IE</td>\n",
       "      <td>NaN</td>\n",
       "    </tr>\n",
       "  </tbody>\n",
       "</table>\n",
       "</div>"
      ],
      "text/plain": [
       "                                           client_id  \\\n",
       "0  c1d05e6aa30ec2982073814640b1a5365c09e53fc52dd3...   \n",
       "1  c1d05e6aa30ec2982073814640b1a5365c09e53fc52dd3...   \n",
       "2  c1d05e6aa30ec2982073814640b1a5365c09e53fc52dd3...   \n",
       "3  c1d05e6aa30ec2982073814640b1a5365c09e53fc52dd3...   \n",
       "4  c1d05e6aa30ec2982073814640b1a5365c09e53fc52dd3...   \n",
       "\n",
       "                              path  \\\n",
       "0  common_voice_ga-IE_17571418.mp3   \n",
       "1  common_voice_ga-IE_17571419.mp3   \n",
       "2  common_voice_ga-IE_17571420.mp3   \n",
       "3  common_voice_ga-IE_17571424.mp3   \n",
       "4  common_voice_ga-IE_17571428.mp3   \n",
       "\n",
       "                                         sentence_id  \\\n",
       "0  12e384c909a7793008d93b71d5b5b808372007d9463df5...   \n",
       "1  4d5c6e7d628d5a00550e4022fb1797dd41dffbc3172e42...   \n",
       "2  9f95ffcd6f2428b00c7ed675f307ae20788a6a618d9a08...   \n",
       "3  56da7e8f95ca495e1d91db46cb4a07b21e09394090553f...   \n",
       "4  da021995eee94400c8eea98ad5db21d2eddaf2060ae9e1...   \n",
       "\n",
       "                     sentence  sentence_domain  up_votes  down_votes  \\\n",
       "0       Tá a mála ar an urlár              NaN         2           1   \n",
       "1   An Phoblacht Doiminiceach              NaN         2           0   \n",
       "2  Do ghnó féin déan a dhuine              NaN         2           0   \n",
       "3                 Ní raibh mé              NaN         2           1   \n",
       "4               Dún do bhéal.              NaN         2           0   \n",
       "\n",
       "        age          gender            accents  variant locale  segment  \n",
       "0  thirties  male_masculine  Gaeilge Chonnacht      NaN  ga-IE      NaN  \n",
       "1  thirties  male_masculine  Gaeilge Chonnacht      NaN  ga-IE      NaN  \n",
       "2  thirties  male_masculine  Gaeilge Chonnacht      NaN  ga-IE      NaN  \n",
       "3  thirties  male_masculine  Gaeilge Chonnacht      NaN  ga-IE      NaN  \n",
       "4  thirties  male_masculine  Gaeilge Chonnacht      NaN  ga-IE      NaN  "
      ]
     },
     "execution_count": 13,
     "metadata": {},
     "output_type": "execute_result"
    }
   ],
   "source": [
    "train = pd.read_csv(tsv_path+\"/\"+\"train.tsv\",sep=\"\\t\")\n",
    "train.head()"
   ]
  },
  {
   "cell_type": "code",
   "execution_count": 14,
   "metadata": {},
   "outputs": [],
   "source": [
    "train = train[[\"path\",\"sentence\"]].copy()"
   ]
  },
  {
   "cell_type": "code",
   "execution_count": 15,
   "metadata": {},
   "outputs": [],
   "source": [
    "train[\"path\"] = \"audio/001/\" + train[\"path\"]"
   ]
  },
  {
   "cell_type": "code",
   "execution_count": 16,
   "metadata": {},
   "outputs": [
    {
     "data": {
      "text/html": [
       "<div>\n",
       "<style scoped>\n",
       "    .dataframe tbody tr th:only-of-type {\n",
       "        vertical-align: middle;\n",
       "    }\n",
       "\n",
       "    .dataframe tbody tr th {\n",
       "        vertical-align: top;\n",
       "    }\n",
       "\n",
       "    .dataframe thead th {\n",
       "        text-align: right;\n",
       "    }\n",
       "</style>\n",
       "<table border=\"1\" class=\"dataframe\">\n",
       "  <thead>\n",
       "    <tr style=\"text-align: right;\">\n",
       "      <th></th>\n",
       "      <th>path</th>\n",
       "      <th>sentence</th>\n",
       "    </tr>\n",
       "  </thead>\n",
       "  <tbody>\n",
       "    <tr>\n",
       "      <th>0</th>\n",
       "      <td>audio/001/common_voice_ga-IE_17571418.mp3</td>\n",
       "      <td>Tá a mála ar an urlár</td>\n",
       "    </tr>\n",
       "    <tr>\n",
       "      <th>1</th>\n",
       "      <td>audio/001/common_voice_ga-IE_17571419.mp3</td>\n",
       "      <td>An Phoblacht Doiminiceach</td>\n",
       "    </tr>\n",
       "    <tr>\n",
       "      <th>2</th>\n",
       "      <td>audio/001/common_voice_ga-IE_17571420.mp3</td>\n",
       "      <td>Do ghnó féin déan a dhuine</td>\n",
       "    </tr>\n",
       "    <tr>\n",
       "      <th>3</th>\n",
       "      <td>audio/001/common_voice_ga-IE_17571424.mp3</td>\n",
       "      <td>Ní raibh mé</td>\n",
       "    </tr>\n",
       "    <tr>\n",
       "      <th>4</th>\n",
       "      <td>audio/001/common_voice_ga-IE_17571428.mp3</td>\n",
       "      <td>Dún do bhéal.</td>\n",
       "    </tr>\n",
       "  </tbody>\n",
       "</table>\n",
       "</div>"
      ],
      "text/plain": [
       "                                        path                    sentence\n",
       "0  audio/001/common_voice_ga-IE_17571418.mp3       Tá a mála ar an urlár\n",
       "1  audio/001/common_voice_ga-IE_17571419.mp3   An Phoblacht Doiminiceach\n",
       "2  audio/001/common_voice_ga-IE_17571420.mp3  Do ghnó féin déan a dhuine\n",
       "3  audio/001/common_voice_ga-IE_17571424.mp3                 Ní raibh mé\n",
       "4  audio/001/common_voice_ga-IE_17571428.mp3               Dún do bhéal."
      ]
     },
     "execution_count": 16,
     "metadata": {},
     "output_type": "execute_result"
    }
   ],
   "source": [
    "train.head()"
   ]
  },
  {
   "cell_type": "code",
   "execution_count": 17,
   "metadata": {},
   "outputs": [],
   "source": [
    "train.to_csv(output_path+\"/transcription/owsm_v3.1/001.csv\")"
   ]
  },
  {
   "cell_type": "markdown",
   "metadata": {},
   "source": [
    "# Finetune_owsm"
   ]
  },
  {
   "cell_type": "code",
   "execution_count": 6,
   "metadata": {},
   "outputs": [],
   "source": [
    "import os\n",
    "from glob import glob\n",
    "\n",
    "import numpy as np\n",
    "import librosa\n",
    "\n",
    "import torch\n",
    "from espnet2.bin.s2t_inference import Speech2Text\n",
    "from espnet2.layers.create_adapter_fn import create_lora_adapter\n",
    "import espnetez as ez\n",
    "\n",
    "# Define hyper parameters\n",
    "DUMP_DIR = output_path+f\"/dump\"\n",
    "CSV_DIR = output_path+f\"/transcription\"\n",
    "EXP_DIR = output_path+f\"/exp/finetune\"\n",
    "STATS_DIR = output_path+f\"/exp/stats_finetune\"\n",
    "\n",
    "FINETUNE_MODEL = \"espnet/owsm_v3.1_ebf\"\n",
    "LORA_TARGET = [\n",
    "    \"w_1\", \"w_2\", \"merge_proj\"\n",
    "]\n",
    "LANGUAGE = \"gae\""
   ]
  },
  {
   "cell_type": "code",
   "execution_count": 9,
   "metadata": {},
   "outputs": [
    {
     "name": "stderr",
     "output_type": "stream",
     "text": [
      "Fetching 37 files: 100%|██████████| 37/37 [00:00<00:00, 416056.97it/s]\n"
     ]
    },
    {
     "ename": "FileNotFoundError",
     "evalue": "[Errno 2] No such file or directory: 'finetune_with_lora.yaml'",
     "output_type": "error",
     "traceback": [
      "\u001b[0;31m---------------------------------------------------------------------------\u001b[0m",
      "\u001b[0;31mFileNotFoundError\u001b[0m                         Traceback (most recent call last)",
      "Cell \u001b[0;32mIn[9], line 12\u001b[0m\n\u001b[1;32m      9\u001b[0m \u001b[38;5;28;01mdel\u001b[39;00m pretrained_model\n\u001b[1;32m     11\u001b[0m \u001b[38;5;66;03m# For the configuration, please refer to the last cell in this notebook.\u001b[39;00m\n\u001b[0;32m---> 12\u001b[0m finetune_config \u001b[38;5;241m=\u001b[39m \u001b[43mez\u001b[49m\u001b[38;5;241;43m.\u001b[39;49m\u001b[43mconfig\u001b[49m\u001b[38;5;241;43m.\u001b[39;49m\u001b[43mupdate_finetune_config\u001b[49m\u001b[43m(\u001b[49m\n\u001b[1;32m     13\u001b[0m \u001b[43m\t\u001b[49m\u001b[38;5;124;43m'\u001b[39;49m\u001b[38;5;124;43ms2t\u001b[39;49m\u001b[38;5;124;43m'\u001b[39;49m\u001b[43m,\u001b[49m\n\u001b[1;32m     14\u001b[0m \u001b[43m\t\u001b[49m\u001b[43mpretrain_config\u001b[49m\u001b[43m,\u001b[49m\n\u001b[1;32m     15\u001b[0m \u001b[43m\t\u001b[49m\u001b[38;5;124;43mf\u001b[39;49m\u001b[38;5;124;43m\"\u001b[39;49m\u001b[38;5;124;43mfinetune_with_lora.yaml\u001b[39;49m\u001b[38;5;124;43m\"\u001b[39;49m\n\u001b[1;32m     16\u001b[0m \u001b[43m)\u001b[49m\n\u001b[1;32m     18\u001b[0m \u001b[38;5;66;03m# When you don't use yaml file, you can load finetune_config in the following way.\u001b[39;00m\n\u001b[1;32m     19\u001b[0m \u001b[38;5;66;03m# task_class = ez.task.get_ez_task(\"s2t\")\u001b[39;00m\n\u001b[1;32m     20\u001b[0m \u001b[38;5;66;03m# default_config = task_class.get_default_config()\u001b[39;00m\n\u001b[1;32m     21\u001b[0m \u001b[38;5;66;03m# training_config = default_config.update(your_config_in_dict)\u001b[39;00m\n\u001b[1;32m     22\u001b[0m \n\u001b[1;32m     23\u001b[0m \u001b[38;5;66;03m# define model loading function\u001b[39;00m\n\u001b[1;32m     24\u001b[0m \u001b[38;5;28;01mdef\u001b[39;00m\u001b[38;5;250m \u001b[39m\u001b[38;5;21mcount_parameters\u001b[39m(model):\n",
      "File \u001b[0;32m~/Desktop/Studies/Thesis/ThesisProject/venv/lib/python3.10/site-packages/espnetez/config.py:136\u001b[0m, in \u001b[0;36mupdate_finetune_config\u001b[0;34m(task, pretrain_config, path)\u001b[0m\n\u001b[1;32m     91\u001b[0m \u001b[38;5;28;01mdef\u001b[39;00m\u001b[38;5;250m \u001b[39m\u001b[38;5;21mupdate_finetune_config\u001b[39m(task, pretrain_config, path):\n\u001b[1;32m     92\u001b[0m \u001b[38;5;250m    \u001b[39m\u001b[38;5;124;03m\"\"\"\u001b[39;00m\n\u001b[1;32m     93\u001b[0m \u001b[38;5;124;03m    Update the fine-tuning configuration with values from a specified YAML file.\u001b[39;00m\n\u001b[1;32m     94\u001b[0m \n\u001b[0;32m   (...)\u001b[0m\n\u001b[1;32m    134\u001b[0m \u001b[38;5;124;03m        `get_default_config()` which returns the default configuration as a dictionary.\u001b[39;00m\n\u001b[1;32m    135\u001b[0m \u001b[38;5;124;03m    \"\"\"\u001b[39;00m\n\u001b[0;32m--> 136\u001b[0m     \u001b[38;5;28;01mwith\u001b[39;00m \u001b[38;5;28;43mopen\u001b[39;49m\u001b[43m(\u001b[49m\u001b[43mpath\u001b[49m\u001b[43m,\u001b[49m\u001b[43m \u001b[49m\u001b[38;5;124;43m\"\u001b[39;49m\u001b[38;5;124;43mr\u001b[39;49m\u001b[38;5;124;43m\"\u001b[39;49m\u001b[43m)\u001b[49m \u001b[38;5;28;01mas\u001b[39;00m f:\n\u001b[1;32m    137\u001b[0m         finetune_config \u001b[38;5;241m=\u001b[39m yaml\u001b[38;5;241m.\u001b[39mload(f, Loader\u001b[38;5;241m=\u001b[39myaml\u001b[38;5;241m.\u001b[39mLoader)\n\u001b[1;32m    138\u001b[0m     default_config \u001b[38;5;241m=\u001b[39m get_ez_task(task)\u001b[38;5;241m.\u001b[39mget_default_config()\n",
      "\u001b[0;31mFileNotFoundError\u001b[0m: [Errno 2] No such file or directory: 'finetune_with_lora.yaml'"
     ]
    }
   ],
   "source": [
    "pretrained_model = Speech2Text.from_pretrained(\n",
    "    FINETUNE_MODEL,\n",
    "    #category_sym=f\"<{LANGUAGE}>\",\n",
    "    beam_size=10,\n",
    ") # Load model to extract configs.\n",
    "pretrain_config = vars(pretrained_model.s2t_train_args)\n",
    "tokenizer = pretrained_model.tokenizer\n",
    "converter = pretrained_model.converter\n",
    "del pretrained_model\n",
    "\n",
    "# For the configuration, please refer to the last cell in this notebook.\n",
    "finetune_config = ez.config.update_finetune_config(\n",
    "\t's2t',\n",
    "\tpretrain_config,\n",
    "\t#f\"finetune_with_lora.yaml\"\n",
    ")\n",
    "\n",
    "# When you don't use yaml file, you can load finetune_config in the following way.\n",
    "task_class = ez.task.get_ez_task(\"s2t\")\n",
    "default_config = task_class.get_default_config()\n",
    "training_config = default_config.update(your_config_in_dict)\n",
    "\n",
    "# define model loading function\n",
    "def count_parameters(model):\n",
    "    return sum(p.numel() for p in model.parameters() if p.requires_grad)\n",
    "\n",
    "def freeze_parameters(model):\n",
    "    for p in model.parameters():\n",
    "        if p.requires_grad:\n",
    "            p.requires_grad = False\n",
    "\n",
    "def build_model_fn(args):\n",
    "    pretrained_model = Speech2Text.from_pretrained(\n",
    "        FINETUNE_MODEL,\n",
    "        category_sym=f\"<{LANGUAGE}>\",\n",
    "        beam_size=10,\n",
    "    )\n",
    "    model = pretrained_model.s2t_model\n",
    "    model.train()\n",
    "    print(f'Trainable parameters: {count_parameters(model)}')\n",
    "    freeze_parameters(model)\n",
    "\n",
    "    # apply lora\n",
    "    create_lora_adapter(model, target_modules=LORA_TARGET)\n",
    "    print(f'Trainable parameters after LORA: {count_parameters(model)}')\n",
    "    return model"
   ]
  }
 ],
 "metadata": {
  "kernelspec": {
   "display_name": "venv",
   "language": "python",
   "name": "python3"
  },
  "language_info": {
   "codemirror_mode": {
    "name": "ipython",
    "version": 3
   },
   "file_extension": ".py",
   "mimetype": "text/x-python",
   "name": "python",
   "nbconvert_exporter": "python",
   "pygments_lexer": "ipython3",
   "version": "3.10.12"
  }
 },
 "nbformat": 4,
 "nbformat_minor": 2
}
