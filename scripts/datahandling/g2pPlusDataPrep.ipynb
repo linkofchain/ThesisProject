{
 "cells": [
  {
   "cell_type": "markdown",
   "metadata": {},
   "source": [
    "# Convert irish words\n",
    "converts orthographic representation in common voice corpus to phonemic (IPA) representaions using Ulster pronunciation as standard"
   ]
  },
  {
   "cell_type": "code",
   "execution_count": 1,
   "metadata": {},
   "outputs": [],
   "source": [
    "# imports\n",
    "import pandas as pd\n",
    "import nltk, os\n"
   ]
  },
  {
   "cell_type": "code",
   "execution_count": 2,
   "metadata": {},
   "outputs": [],
   "source": [
    "tsvPath = \"/home/peter/Desktop/Studies/Thesis/ThesisProject/data/g2P/ulster.tsv\"\n",
    "g2pFile = pd.read_csv(tsvPath,sep=\"\\t\", names=[\"word\",\"phonemes\"])"
   ]
  },
  {
   "cell_type": "code",
   "execution_count": 3,
   "metadata": {},
   "outputs": [
    {
     "data": {
      "application/vnd.microsoft.datawrangler.viewer.v0+json": {
       "columns": [
        {
         "name": "index",
         "rawType": "int64",
         "type": "integer"
        },
        {
         "name": "word",
         "rawType": "object",
         "type": "string"
        },
        {
         "name": "phonemes",
         "rawType": "object",
         "type": "string"
        }
       ],
       "conversionMethod": "pd.DataFrame",
       "ref": "61b34c23-587c-4fc8-aecb-4d70990ba570",
       "rows": [
        [
         "0",
         "á",
         "aː"
        ],
        [
         "1",
         "a",
         "ə"
        ],
        [
         "2",
         "a'am",
         "a mˠ"
        ],
        [
         "3",
         "a'at",
         "a t̪ˠ"
        ],
        [
         "4",
         "ab",
         "a bˠ"
        ]
       ],
       "shape": {
        "columns": 2,
        "rows": 5
       }
      },
      "text/html": [
       "<div>\n",
       "<style scoped>\n",
       "    .dataframe tbody tr th:only-of-type {\n",
       "        vertical-align: middle;\n",
       "    }\n",
       "\n",
       "    .dataframe tbody tr th {\n",
       "        vertical-align: top;\n",
       "    }\n",
       "\n",
       "    .dataframe thead th {\n",
       "        text-align: right;\n",
       "    }\n",
       "</style>\n",
       "<table border=\"1\" class=\"dataframe\">\n",
       "  <thead>\n",
       "    <tr style=\"text-align: right;\">\n",
       "      <th></th>\n",
       "      <th>word</th>\n",
       "      <th>phonemes</th>\n",
       "    </tr>\n",
       "  </thead>\n",
       "  <tbody>\n",
       "    <tr>\n",
       "      <th>0</th>\n",
       "      <td>á</td>\n",
       "      <td>aː</td>\n",
       "    </tr>\n",
       "    <tr>\n",
       "      <th>1</th>\n",
       "      <td>a</td>\n",
       "      <td>ə</td>\n",
       "    </tr>\n",
       "    <tr>\n",
       "      <th>2</th>\n",
       "      <td>a'am</td>\n",
       "      <td>a mˠ</td>\n",
       "    </tr>\n",
       "    <tr>\n",
       "      <th>3</th>\n",
       "      <td>a'at</td>\n",
       "      <td>a t̪ˠ</td>\n",
       "    </tr>\n",
       "    <tr>\n",
       "      <th>4</th>\n",
       "      <td>ab</td>\n",
       "      <td>a bˠ</td>\n",
       "    </tr>\n",
       "  </tbody>\n",
       "</table>\n",
       "</div>"
      ],
      "text/plain": [
       "   word phonemes\n",
       "0     á       aː\n",
       "1     a        ə\n",
       "2  a'am     a mˠ\n",
       "3  a'at    a t̪ˠ\n",
       "4    ab     a bˠ"
      ]
     },
     "execution_count": 3,
     "metadata": {},
     "output_type": "execute_result"
    }
   ],
   "source": [
    "g2pFile.head()"
   ]
  },
  {
   "cell_type": "markdown",
   "metadata": {},
   "source": [
    "# process text for Common Voice recordings"
   ]
  },
  {
   "cell_type": "code",
   "execution_count": 4,
   "metadata": {},
   "outputs": [],
   "source": [
    "cVRecPath = \"../../data/commonVoiceData/transcription/owsm_v3.1/001.csv\"\n"
   ]
  },
  {
   "cell_type": "markdown",
   "metadata": {},
   "source": [
    "## task flow\n",
    "1. Read the TSV into a Pandas DataFrame (or a dictionary).\n",
    "    * Left column = words\n",
    "    * Right column = phoneme transcriptions\n",
    "2. Tokenize your input text.\n",
    "    * Split the sentence into words\n",
    "    * For each word, do a lookup in your DataFrame/dictionary.\n",
    "3. Replace each word with its phoneme sequence using the mapping.\n",
    "    * If a word is not in your dictionary, \"<unk>\"\n",
    "4. Join the phonemes for each word in order to form the full phoneme sequence (should I use word separator? i think \"|\" is standard)"
   ]
  },
  {
   "cell_type": "code",
   "execution_count": 5,
   "metadata": {},
   "outputs": [],
   "source": [
    "transcriptions = pd.read_csv(cVRecPath)"
   ]
  },
  {
   "cell_type": "code",
   "execution_count": 6,
   "metadata": {},
   "outputs": [
    {
     "data": {
      "application/vnd.microsoft.datawrangler.viewer.v0+json": {
       "columns": [
        {
         "name": "index",
         "rawType": "int64",
         "type": "integer"
        },
        {
         "name": "Unnamed: 0",
         "rawType": "int64",
         "type": "integer"
        },
        {
         "name": "path",
         "rawType": "object",
         "type": "string"
        },
        {
         "name": "sentence",
         "rawType": "object",
         "type": "string"
        }
       ],
       "conversionMethod": "pd.DataFrame",
       "ref": "91f56c04-9133-41e1-9412-ff19690ee1a1",
       "rows": [
        [
         "0",
         "0",
         "audio/001/common_voice_ga-IE_17571418.mp3",
         "Tá a mála ar an urlár"
        ],
        [
         "1",
         "1",
         "audio/001/common_voice_ga-IE_17571419.mp3",
         "An Phoblacht Doiminiceach"
        ],
        [
         "2",
         "2",
         "audio/001/common_voice_ga-IE_17571420.mp3",
         "Do ghnó féin déan a dhuine"
        ],
        [
         "3",
         "3",
         "audio/001/common_voice_ga-IE_17571424.mp3",
         "Ní raibh mé"
        ],
        [
         "4",
         "4",
         "audio/001/common_voice_ga-IE_17571428.mp3",
         "Dún do bhéal."
        ]
       ],
       "shape": {
        "columns": 3,
        "rows": 5
       }
      },
      "text/html": [
       "<div>\n",
       "<style scoped>\n",
       "    .dataframe tbody tr th:only-of-type {\n",
       "        vertical-align: middle;\n",
       "    }\n",
       "\n",
       "    .dataframe tbody tr th {\n",
       "        vertical-align: top;\n",
       "    }\n",
       "\n",
       "    .dataframe thead th {\n",
       "        text-align: right;\n",
       "    }\n",
       "</style>\n",
       "<table border=\"1\" class=\"dataframe\">\n",
       "  <thead>\n",
       "    <tr style=\"text-align: right;\">\n",
       "      <th></th>\n",
       "      <th>Unnamed: 0</th>\n",
       "      <th>path</th>\n",
       "      <th>sentence</th>\n",
       "    </tr>\n",
       "  </thead>\n",
       "  <tbody>\n",
       "    <tr>\n",
       "      <th>0</th>\n",
       "      <td>0</td>\n",
       "      <td>audio/001/common_voice_ga-IE_17571418.mp3</td>\n",
       "      <td>Tá a mála ar an urlár</td>\n",
       "    </tr>\n",
       "    <tr>\n",
       "      <th>1</th>\n",
       "      <td>1</td>\n",
       "      <td>audio/001/common_voice_ga-IE_17571419.mp3</td>\n",
       "      <td>An Phoblacht Doiminiceach</td>\n",
       "    </tr>\n",
       "    <tr>\n",
       "      <th>2</th>\n",
       "      <td>2</td>\n",
       "      <td>audio/001/common_voice_ga-IE_17571420.mp3</td>\n",
       "      <td>Do ghnó féin déan a dhuine</td>\n",
       "    </tr>\n",
       "    <tr>\n",
       "      <th>3</th>\n",
       "      <td>3</td>\n",
       "      <td>audio/001/common_voice_ga-IE_17571424.mp3</td>\n",
       "      <td>Ní raibh mé</td>\n",
       "    </tr>\n",
       "    <tr>\n",
       "      <th>4</th>\n",
       "      <td>4</td>\n",
       "      <td>audio/001/common_voice_ga-IE_17571428.mp3</td>\n",
       "      <td>Dún do bhéal.</td>\n",
       "    </tr>\n",
       "  </tbody>\n",
       "</table>\n",
       "</div>"
      ],
      "text/plain": [
       "   Unnamed: 0                                       path  \\\n",
       "0           0  audio/001/common_voice_ga-IE_17571418.mp3   \n",
       "1           1  audio/001/common_voice_ga-IE_17571419.mp3   \n",
       "2           2  audio/001/common_voice_ga-IE_17571420.mp3   \n",
       "3           3  audio/001/common_voice_ga-IE_17571424.mp3   \n",
       "4           4  audio/001/common_voice_ga-IE_17571428.mp3   \n",
       "\n",
       "                     sentence  \n",
       "0       Tá a mála ar an urlár  \n",
       "1   An Phoblacht Doiminiceach  \n",
       "2  Do ghnó féin déan a dhuine  \n",
       "3                 Ní raibh mé  \n",
       "4               Dún do bhéal.  "
      ]
     },
     "execution_count": 6,
     "metadata": {},
     "output_type": "execute_result"
    }
   ],
   "source": [
    "transcriptions.head()"
   ]
  },
  {
   "cell_type": "code",
   "execution_count": 7,
   "metadata": {},
   "outputs": [],
   "source": [
    "# make dict for easy look up\n",
    "g2p_dict = g2pFile.set_index(\"word\")[\"phonemes\"].to_dict()"
   ]
  },
  {
   "cell_type": "code",
   "execution_count": 8,
   "metadata": {},
   "outputs": [],
   "source": [
    "def sent2phones(sentence):\n",
    "    words = [x.strip(\" .,!?:;\") for x in sentence.split()]\n",
    "    \n",
    "    phoneme_seq = []\n",
    "    for word in words:\n",
    "        if word in g2p_dict:\n",
    "            phoneme_seq.append(g2p_dict[word])\n",
    "        elif word.lower() in g2p_dict:\n",
    "            phoneme_seq.append(g2p_dict[word.lower()])\n",
    "        else:\n",
    "            phoneme_seq.append(\"[UNK]\")\n",
    "    \n",
    "    return \" \".join(phoneme_seq)"
   ]
  },
  {
   "cell_type": "code",
   "execution_count": 9,
   "metadata": {},
   "outputs": [],
   "source": [
    "transcriptions[\"phoneme_sentence\"] = transcriptions[\"sentence\"].apply(sent2phones)"
   ]
  },
  {
   "cell_type": "code",
   "execution_count": 10,
   "metadata": {},
   "outputs": [
    {
     "data": {
      "application/vnd.microsoft.datawrangler.viewer.v0+json": {
       "columns": [
        {
         "name": "index",
         "rawType": "int64",
         "type": "integer"
        },
        {
         "name": "Unnamed: 0",
         "rawType": "int64",
         "type": "integer"
        },
        {
         "name": "path",
         "rawType": "object",
         "type": "string"
        },
        {
         "name": "sentence",
         "rawType": "object",
         "type": "string"
        },
        {
         "name": "phoneme_sentence",
         "rawType": "object",
         "type": "string"
        }
       ],
       "conversionMethod": "pd.DataFrame",
       "ref": "50831ce7-9d17-4622-963f-f48028d9548f",
       "rows": [
        [
         "0",
         "0",
         "audio/001/common_voice_ga-IE_17571418.mp3",
         "Tá a mála ar an urlár",
         "ˈ t̪ˠ aː ə ˈ mˠ aː l̻ˠ ə ˈ e ɾʲ ˈ ə n̻ˠ ˈ uː ɾˠ l̻ˠ a ɾˠ"
        ],
        [
         "1",
         "1",
         "audio/001/common_voice_ga-IE_17571419.mp3",
         "An Phoblacht Doiminiceach",
         "ˈ ə n̻ˠ ˈ fˠ o bˠ l̻ˠ a x t̪ˠ ˈ d̪ˠ i mʲ ə nʲ ə c a h"
        ],
        [
         "2",
         "2",
         "audio/001/common_voice_ga-IE_17571420.mp3",
         "Do ghnó féin déan a dhuine",
         "ˈ d̪ˠ ə ɣ n̻ˠ oː ˈ h eː nʲ ˈ dʲ eː n̻ˠ ə ˈ ɣ i nʲ ə"
        ],
        [
         "3",
         "3",
         "audio/001/common_voice_ga-IE_17571424.mp3",
         "Ní raibh mé",
         "ˈ n̻ʲ iː ˈ ɾˠ oː vˠ ˈ mʲ eː"
        ],
        [
         "4",
         "4",
         "audio/001/common_voice_ga-IE_17571428.mp3",
         "Dún do bhéal.",
         "ˈ d̪ˠ uː n̻ˠ ˈ d̪ˠ ə ˈ vʲ eː l̻ˠ"
        ]
       ],
       "shape": {
        "columns": 4,
        "rows": 5
       }
      },
      "text/html": [
       "<div>\n",
       "<style scoped>\n",
       "    .dataframe tbody tr th:only-of-type {\n",
       "        vertical-align: middle;\n",
       "    }\n",
       "\n",
       "    .dataframe tbody tr th {\n",
       "        vertical-align: top;\n",
       "    }\n",
       "\n",
       "    .dataframe thead th {\n",
       "        text-align: right;\n",
       "    }\n",
       "</style>\n",
       "<table border=\"1\" class=\"dataframe\">\n",
       "  <thead>\n",
       "    <tr style=\"text-align: right;\">\n",
       "      <th></th>\n",
       "      <th>Unnamed: 0</th>\n",
       "      <th>path</th>\n",
       "      <th>sentence</th>\n",
       "      <th>phoneme_sentence</th>\n",
       "    </tr>\n",
       "  </thead>\n",
       "  <tbody>\n",
       "    <tr>\n",
       "      <th>0</th>\n",
       "      <td>0</td>\n",
       "      <td>audio/001/common_voice_ga-IE_17571418.mp3</td>\n",
       "      <td>Tá a mála ar an urlár</td>\n",
       "      <td>ˈ t̪ˠ aː ə ˈ mˠ aː l̻ˠ ə ˈ e ɾʲ ˈ ə n̻ˠ ˈ uː ɾ...</td>\n",
       "    </tr>\n",
       "    <tr>\n",
       "      <th>1</th>\n",
       "      <td>1</td>\n",
       "      <td>audio/001/common_voice_ga-IE_17571419.mp3</td>\n",
       "      <td>An Phoblacht Doiminiceach</td>\n",
       "      <td>ˈ ə n̻ˠ ˈ fˠ o bˠ l̻ˠ a x t̪ˠ ˈ d̪ˠ i mʲ ə nʲ ...</td>\n",
       "    </tr>\n",
       "    <tr>\n",
       "      <th>2</th>\n",
       "      <td>2</td>\n",
       "      <td>audio/001/common_voice_ga-IE_17571420.mp3</td>\n",
       "      <td>Do ghnó féin déan a dhuine</td>\n",
       "      <td>ˈ d̪ˠ ə ɣ n̻ˠ oː ˈ h eː nʲ ˈ dʲ eː n̻ˠ ə ˈ ɣ i...</td>\n",
       "    </tr>\n",
       "    <tr>\n",
       "      <th>3</th>\n",
       "      <td>3</td>\n",
       "      <td>audio/001/common_voice_ga-IE_17571424.mp3</td>\n",
       "      <td>Ní raibh mé</td>\n",
       "      <td>ˈ n̻ʲ iː ˈ ɾˠ oː vˠ ˈ mʲ eː</td>\n",
       "    </tr>\n",
       "    <tr>\n",
       "      <th>4</th>\n",
       "      <td>4</td>\n",
       "      <td>audio/001/common_voice_ga-IE_17571428.mp3</td>\n",
       "      <td>Dún do bhéal.</td>\n",
       "      <td>ˈ d̪ˠ uː n̻ˠ ˈ d̪ˠ ə ˈ vʲ eː l̻ˠ</td>\n",
       "    </tr>\n",
       "  </tbody>\n",
       "</table>\n",
       "</div>"
      ],
      "text/plain": [
       "   Unnamed: 0                                       path  \\\n",
       "0           0  audio/001/common_voice_ga-IE_17571418.mp3   \n",
       "1           1  audio/001/common_voice_ga-IE_17571419.mp3   \n",
       "2           2  audio/001/common_voice_ga-IE_17571420.mp3   \n",
       "3           3  audio/001/common_voice_ga-IE_17571424.mp3   \n",
       "4           4  audio/001/common_voice_ga-IE_17571428.mp3   \n",
       "\n",
       "                     sentence  \\\n",
       "0       Tá a mála ar an urlár   \n",
       "1   An Phoblacht Doiminiceach   \n",
       "2  Do ghnó féin déan a dhuine   \n",
       "3                 Ní raibh mé   \n",
       "4               Dún do bhéal.   \n",
       "\n",
       "                                    phoneme_sentence  \n",
       "0  ˈ t̪ˠ aː ə ˈ mˠ aː l̻ˠ ə ˈ e ɾʲ ˈ ə n̻ˠ ˈ uː ɾ...  \n",
       "1  ˈ ə n̻ˠ ˈ fˠ o bˠ l̻ˠ a x t̪ˠ ˈ d̪ˠ i mʲ ə nʲ ...  \n",
       "2  ˈ d̪ˠ ə ɣ n̻ˠ oː ˈ h eː nʲ ˈ dʲ eː n̻ˠ ə ˈ ɣ i...  \n",
       "3                        ˈ n̻ʲ iː ˈ ɾˠ oː vˠ ˈ mʲ eː  \n",
       "4                   ˈ d̪ˠ uː n̻ˠ ˈ d̪ˠ ə ˈ vʲ eː l̻ˠ  "
      ]
     },
     "execution_count": 10,
     "metadata": {},
     "output_type": "execute_result"
    }
   ],
   "source": [
    "transcriptions.head()"
   ]
  },
  {
   "cell_type": "markdown",
   "metadata": {},
   "source": [
    "Okay, great. now we have a new column with phonemic transcriptions. We can tokenize using wav2vec2 or wav2vec2phoneme tokenizer. Let's create a vocabulary unique to the phonemes present in the Ulster g2p Jim generated.\n",
    "\n",
    "https://huggingface.co/docs/tokenizers/en/api/tokenizer"
   ]
  },
  {
   "cell_type": "code",
   "execution_count": 12,
   "metadata": {},
   "outputs": [],
   "source": [
    "import json"
   ]
  },
  {
   "cell_type": "code",
   "execution_count": 13,
   "metadata": {},
   "outputs": [],
   "source": [
    "vocab_file_path = \"../../data/phoneme_vocab.json\"\n",
    "\n",
    "phoneme_vocab = set()\n",
    "for phonemes in g2p_dict.values():\n",
    "    phoneme_vocab.update(phonemes.split())\n",
    "# add some special tokens that are present in https://huggingface.co/docs/transformers/model_doc/wav2vec2_phoneme    \n",
    "phoneme_vocab.update([\"<s>\", \"</s>\", \"<unk>\", \"<pad>\"])\n",
    "\n",
    "# now sort and index the set as dict as \"phoneme: index\"\n",
    "sorted_ph_vocab = {ph: i for i, ph in enumerate(sorted(phoneme_vocab))}\n",
    "\n",
    "with open(vocab_file_path, \"w\") as file:\n",
    "    json.dump(sorted_ph_vocab, file)"
   ]
  },
  {
   "cell_type": "markdown",
   "metadata": {},
   "source": [
    "# Data preparation\n",
    "https://huggingface.co/blog/fine-tune-wav2vec2-english"
   ]
  },
  {
   "cell_type": "code",
   "execution_count": 2,
   "metadata": {},
   "outputs": [
    {
     "name": "stderr",
     "output_type": "stream",
     "text": [
      "/home/peter/Desktop/Studies/Thesis/ThesisProject/venv/lib/python3.10/site-packages/tqdm/auto.py:21: TqdmWarning: IProgress not found. Please update jupyter and ipywidgets. See https://ipywidgets.readthedocs.io/en/stable/user_install.html\n",
      "  from .autonotebook import tqdm as notebook_tqdm\n"
     ]
    }
   ],
   "source": [
    "from transformers import Wav2Vec2FeatureExtractor, Wav2Vec2Processor, Wav2Vec2PhonemeCTCTokenizer\n",
    "import torchaudio"
   ]
  },
  {
   "cell_type": "markdown",
   "metadata": {},
   "source": [
    "## tokenize"
   ]
  },
  {
   "cell_type": "code",
   "execution_count": 14,
   "metadata": {},
   "outputs": [
    {
     "name": "stderr",
     "output_type": "stream",
     "text": [
      "/home/peter/Desktop/Studies/Thesis/ThesisProject/venv/lib/python3.10/site-packages/tqdm/auto.py:21: TqdmWarning: IProgress not found. Please update jupyter and ipywidgets. See https://ipywidgets.readthedocs.io/en/stable/user_install.html\n",
      "  from .autonotebook import tqdm as notebook_tqdm\n"
     ]
    }
   ],
   "source": [
    "tokenizer = Wav2Vec2PhonemeCTCTokenizer(\n",
    "    vocab_file_path\n",
    ")"
   ]
  },
  {
   "cell_type": "code",
   "execution_count": 18,
   "metadata": {},
   "outputs": [],
   "source": [
    "feature_extractor = Wav2Vec2FeatureExtractor(\n",
    "    feature_size=1,         # feature dimension of extracted features\n",
    "    sampling_rate=16000,    # in Hz\n",
    "    padding_value=0.0,      # value used to fill padding\n",
    "    do_normalize=True,      # zero mean unit-variance normalize input. can improve performance\n",
    "    return_attention_mask=True# whether call() should return attention mask\n",
    "\n",
    ")\n",
    "# wraps FE and tokenizer to a single processor\n",
    "processor = Wav2Vec2Processor(feature_extractor,tokenizer)"
   ]
  },
  {
   "cell_type": "markdown",
   "metadata": {},
   "source": [
    "## preprocess data\n",
    "Okay now we start with the audio. First I need to resample my audio since it's in .mp3 format with 48000 Hz sampling rate (wav2vec2 takes .wav with 16k)\n",
    "https://pytorch.org/audio/stable/transforms.html\n",
    "https://pytorch.org/audio/stable/generated/torchaudio.transforms.Resample.html#torchaudio.transforms.Resample"
   ]
  },
  {
   "cell_type": "markdown",
   "metadata": {},
   "source": [
    "### resample audio"
   ]
  },
  {
   "cell_type": "code",
   "execution_count": null,
   "metadata": {},
   "outputs": [],
   "source": [
    "audio_folder_path = \"../../data/commonVoiceData/audio/001/\"\n",
    "output_path = audio_folder_path[:-1]+\"wav/\"\n",
    "\n",
    "for file_path in os.listdir(audio_folder_path):\n",
    "    waveform, orig_sample_rate = torchaudio.load(audio_folder_path+file_path)\n",
    "    \n",
    "    resampler = torchaudio.transforms.Resample(\n",
    "        orig_freq=orig_sample_rate,\n",
    "        new_freq=16000\n",
    "        )\n",
    "    \n",
    "    new_waveform = resampler(waveform)\n",
    "    \n",
    "    torchaudio.save(output_path+file_path[:-3]+\"wav\", \n",
    "                    new_waveform, \n",
    "                    16000)"
   ]
  },
  {
   "cell_type": "markdown",
   "metadata": {},
   "source": [
    "### preprocess dataset"
   ]
  },
  {
   "cell_type": "code",
   "execution_count": null,
   "metadata": {},
   "outputs": [],
   "source": [
    "def process sample"
   ]
  },
  {
   "cell_type": "markdown",
   "metadata": {},
   "source": [
    "# Finetune Wav2Vec2 model "
   ]
  },
  {
   "cell_type": "code",
   "execution_count": null,
   "metadata": {},
   "outputs": [],
   "source": [
    "from transformers import Wav2Vec2ModelForCTC\n",
    "model = Wav2Vec2ModelForCTC.from_pretrained(\n",
    "    \"facebook/wav2vec2-base\",\n",
    "    ctc_loss_reduction=\"mean\",\n",
    "    torch_dtype=torch.float16, \n",
    "    attn_implementation=\"flash_attention_2\"\n",
    "    )\n"
   ]
  }
 ],
 "metadata": {
  "kernelspec": {
   "display_name": "venv",
   "language": "python",
   "name": "python3"
  },
  "language_info": {
   "codemirror_mode": {
    "name": "ipython",
    "version": 3
   },
   "file_extension": ".py",
   "mimetype": "text/x-python",
   "name": "python",
   "nbconvert_exporter": "python",
   "pygments_lexer": "ipython3",
   "version": "3.10.12"
  }
 },
 "nbformat": 4,
 "nbformat_minor": 2
}
