{
 "cells": [
  {
   "cell_type": "markdown",
   "metadata": {},
   "source": [
    "# fetch data and inspect"
   ]
  },
  {
   "cell_type": "code",
   "execution_count": 1,
   "metadata": {},
   "outputs": [
    {
     "name": "stderr",
     "output_type": "stream",
     "text": [
      "/home/peter/Desktop/Studies/Thesis/ThesisProject/venv/lib/python3.10/site-packages/tqdm/auto.py:21: TqdmWarning: IProgress not found. Please update jupyter and ipywidgets. See https://ipywidgets.readthedocs.io/en/stable/user_install.html\n",
      "  from .autonotebook import tqdm as notebook_tqdm\n"
     ]
    }
   ],
   "source": [
    "from datasets import load_dataset\n",
    "train = load_dataset(\"google/fleurs\", \"ga_ie\", split=\"train\")\n",
    "val = load_dataset(\"google/fleurs\", \"ga_ie\", split=\"validation\")\n",
    "test = load_dataset(\"google/fleurs\", \"ga_ie\", split=\"test\")"
   ]
  },
  {
   "cell_type": "code",
   "execution_count": 2,
   "metadata": {},
   "outputs": [],
   "source": [
    "audio_input = train[0][\"audio\"]"
   ]
  },
  {
   "cell_type": "code",
   "execution_count": 3,
   "metadata": {},
   "outputs": [
    {
     "name": "stdout",
     "output_type": "stream",
     "text": [
      "{'path': 'train/10009174761044778838.wav', 'array': array([ 0.        ,  0.        ,  0.        , ..., -0.00030464,\n",
      "       -0.00026166, -0.00036532]), 'sampling_rate': 16000}\n"
     ]
    }
   ],
   "source": [
    "print(audio_input)"
   ]
  },
  {
   "cell_type": "code",
   "execution_count": 4,
   "metadata": {},
   "outputs": [
    {
     "data": {
      "text/plain": [
       "['id',\n",
       " 'num_samples',\n",
       " 'path',\n",
       " 'audio',\n",
       " 'transcription',\n",
       " 'raw_transcription',\n",
       " 'gender',\n",
       " 'lang_id',\n",
       " 'language',\n",
       " 'lang_group_id']"
      ]
     },
     "execution_count": 4,
     "metadata": {},
     "output_type": "execute_result"
    }
   ],
   "source": [
    "train.column_names"
   ]
  },
  {
   "cell_type": "markdown",
   "metadata": {},
   "source": [
    "# Add phoneme transcriptions"
   ]
  },
  {
   "cell_type": "code",
   "execution_count": 5,
   "metadata": {},
   "outputs": [],
   "source": [
    "import pandas as pd"
   ]
  },
  {
   "cell_type": "code",
   "execution_count": 6,
   "metadata": {},
   "outputs": [],
   "source": [
    "g2p_path=\"../../data/g2P/ulster.tsv\"\n",
    "g2p_file = pd.read_csv(g2p_path,sep=\"\\t\", names=[\"word\",\"phonemes\"])\n",
    "# turn df into dict for simple lookup\n",
    "g2p_dict = g2p_file.set_index(\"word\")[\"phonemes\"].to_dict()"
   ]
  },
  {
   "cell_type": "code",
   "execution_count": 7,
   "metadata": {},
   "outputs": [],
   "source": [
    "def sent2phones(row):\n",
    "    sentence = row[\"transcription\"]\n",
    "    words = [x.strip(\" .,!?:;\") for x in sentence.split()]\n",
    "    \n",
    "    phoneme_seq = []\n",
    "    for word in words:\n",
    "        if word in g2p_dict:\n",
    "            phoneme_seq.append(g2p_dict[word].replace(\" \",\"\"))\n",
    "        elif word.lower() in g2p_dict:\n",
    "            phoneme_seq.append(g2p_dict[word.lower()].replace(\" \",\"\"))\n",
    "        else:\n",
    "            phoneme_seq.append(\"[UNK]\")\n",
    "    \n",
    "    return {\"phoneme_sentence\": \"|\".join(phoneme_seq)}"
   ]
  },
  {
   "cell_type": "code",
   "execution_count": 8,
   "metadata": {},
   "outputs": [
    {
     "data": {
      "text/plain": [
       "{'phoneme_sentence': 'ˈdʲia|ˈd̪ˠitʲ'}"
      ]
     },
     "execution_count": 8,
     "metadata": {},
     "output_type": "execute_result"
    }
   ],
   "source": [
    "sent2phones({\"transcription\":\"dia duit\"})"
   ]
  },
  {
   "cell_type": "code",
   "execution_count": 9,
   "metadata": {},
   "outputs": [
    {
     "data": {
      "text/plain": [
       "Dataset({\n",
       "    features: ['id', 'num_samples', 'path', 'audio', 'transcription', 'raw_transcription', 'gender', 'lang_id', 'language', 'lang_group_id'],\n",
       "    num_rows: 2845\n",
       "})"
      ]
     },
     "execution_count": 9,
     "metadata": {},
     "output_type": "execute_result"
    }
   ],
   "source": [
    "train"
   ]
  },
  {
   "cell_type": "code",
   "execution_count": 10,
   "metadata": {},
   "outputs": [],
   "source": [
    "train = train.map(sent2phones)"
   ]
  },
  {
   "cell_type": "code",
   "execution_count": 11,
   "metadata": {},
   "outputs": [],
   "source": [
    "val = val.map(sent2phones)"
   ]
  },
  {
   "cell_type": "code",
   "execution_count": 12,
   "metadata": {},
   "outputs": [],
   "source": [
    "test = test.map(sent2phones)"
   ]
  },
  {
   "cell_type": "code",
   "execution_count": 24,
   "metadata": {},
   "outputs": [
    {
     "data": {
      "text/plain": [
       "{'id': 571,\n",
       " 'num_samples': 172800,\n",
       " 'path': '/home/peter/.cache/huggingface/datasets/downloads/extracted/a870d8d6658a3c263aa78e1d5ab46b448872cfe59db75af5d50a98907d873444/10009174761044778838.wav',\n",
       " 'audio': {'path': 'train/10009174761044778838.wav',\n",
       "  'array': array([ 0.        ,  0.        ,  0.        , ..., -0.00030464,\n",
       "         -0.00026166, -0.00036532]),\n",
       "  'sampling_rate': 16000},\n",
       " 'transcription': 'nuair a bhíonn tréith feinitíopach ar leith i bpáirt ag gach duine i ndaonra áirithe tugtar daonra monómorfach orthu',\n",
       " 'raw_transcription': 'Nuair a bhíonn tréith feinitíopach ar leith i bpáirt ag gach duine i ndaonra áirithe, tugtar daonra monómorfach orthu.',\n",
       " 'gender': 0,\n",
       " 'lang_id': 27,\n",
       " 'language': 'Irish',\n",
       " 'lang_group_id': 0,\n",
       " 'phoneme_sentence': 'ˈn̻ˠuːɾʲ|ə|ˈvʲiːn̻ˠ|ˈtʲɾʲeː|[UNK]|ˈeɾʲ|ˈl̻ʲehʲ|ˈi|bˠaːɾˠtʲ|ˈeɟ|ˈɡah|ˈd̪ˠinʲə|ˈi|n̻ˠiːn̻ˠɾˠə|ˈaːɾʲihʲə|t̪ˠuɡt̪ˠəɾˠ|ˈd̪ˠiːn̻ˠɾˠə|[UNK]|ˈoɾˠhu'}"
      ]
     },
     "execution_count": 24,
     "metadata": {},
     "output_type": "execute_result"
    }
   ],
   "source": [
    "train[0]"
   ]
  },
  {
   "cell_type": "markdown",
   "metadata": {},
   "source": [
    "# Save to disk"
   ]
  },
  {
   "cell_type": "code",
   "execution_count": 57,
   "metadata": {},
   "outputs": [
    {
     "name": "stderr",
     "output_type": "stream",
     "text": [
      "Saving the dataset (6/6 shards): 100%|██████████| 2845/2845 [00:06<00:00, 448.87 examples/s]\n",
      "Saving the dataset (1/1 shards): 100%|██████████| 369/369 [00:09<00:00, 37.59 examples/s] \n",
      "Saving the dataset (2/2 shards): 100%|██████████| 842/842 [00:06<00:00, 123.53 examples/s]\n"
     ]
    }
   ],
   "source": [
    "fleurs_path = \"/home/peter/Desktop/Studies/Thesis/ThesisProject/data/fleurs\"\n",
    "train.save_to_disk(fleurs_path+\"/train\")\n",
    "val.save_to_disk(fleurs_path+\"/val\")\n",
    "test.save_to_disk(fleurs_path+\"/test\")\n"
   ]
  },
  {
   "cell_type": "markdown",
   "metadata": {},
   "source": [
    "To reload, use...\n",
    "\n",
    "from datasets import load_from_disk\n",
    "\n",
    "reloaded_encoded_dataset = load_from_disk(\"path/of/my/dataset/directory\")"
   ]
  },
  {
   "cell_type": "markdown",
   "metadata": {},
   "source": [
    "## save as csv"
   ]
  },
  {
   "cell_type": "code",
   "execution_count": 36,
   "metadata": {},
   "outputs": [
    {
     "data": {
      "text/plain": [
       "dict_keys(['bytes', 'path'])"
      ]
     },
     "execution_count": 36,
     "metadata": {},
     "output_type": "execute_result"
    }
   ],
   "source": [
    "train_df['audio'][0].keys()"
   ]
  },
  {
   "cell_type": "code",
   "execution_count": 37,
   "metadata": {},
   "outputs": [],
   "source": [
    "train_df = train.to_pandas()\n",
    "\n",
    "train_out = train_df[['audio', 'transcription', 'phoneme_sentence']]"
   ]
  },
  {
   "cell_type": "code",
   "execution_count": 38,
   "metadata": {},
   "outputs": [
    {
     "name": "stderr",
     "output_type": "stream",
     "text": [
      "/tmp/ipykernel_8736/3083480373.py:1: SettingWithCopyWarning: \n",
      "A value is trying to be set on a copy of a slice from a DataFrame.\n",
      "Try using .loc[row_indexer,col_indexer] = value instead\n",
      "\n",
      "See the caveats in the documentation: https://pandas.pydata.org/pandas-docs/stable/user_guide/indexing.html#returning-a-view-versus-a-copy\n",
      "  train_out['audio_path'] = train_out['audio'].apply(lambda x: x['path'])\n"
     ]
    }
   ],
   "source": [
    "train_out['audio_path'] = train_out['audio'].apply(lambda x: x['path'])\n",
    "\n",
    "train_out = train_out.drop(columns=['audio'])\n"
   ]
  },
  {
   "cell_type": "code",
   "execution_count": 39,
   "metadata": {},
   "outputs": [
    {
     "data": {
      "text/html": [
       "<div>\n",
       "<style scoped>\n",
       "    .dataframe tbody tr th:only-of-type {\n",
       "        vertical-align: middle;\n",
       "    }\n",
       "\n",
       "    .dataframe tbody tr th {\n",
       "        vertical-align: top;\n",
       "    }\n",
       "\n",
       "    .dataframe thead th {\n",
       "        text-align: right;\n",
       "    }\n",
       "</style>\n",
       "<table border=\"1\" class=\"dataframe\">\n",
       "  <thead>\n",
       "    <tr style=\"text-align: right;\">\n",
       "      <th></th>\n",
       "      <th>transcription</th>\n",
       "      <th>phoneme_sentence</th>\n",
       "      <th>audio_path</th>\n",
       "    </tr>\n",
       "  </thead>\n",
       "  <tbody>\n",
       "    <tr>\n",
       "      <th>0</th>\n",
       "      <td>nuair a bhíonn tréith feinitíopach ar leith i ...</td>\n",
       "      <td>ˈn̻ˠuːɾʲ|ə|ˈvʲiːn̻ˠ|ˈtʲɾʲeː|[UNK]|ˈeɾʲ|ˈl̻ʲehʲ...</td>\n",
       "      <td>train/10009174761044778838.wav</td>\n",
       "    </tr>\n",
       "    <tr>\n",
       "      <th>1</th>\n",
       "      <td>250 bliain ina dhiadh tá guinness fásta ina gh...</td>\n",
       "      <td>[UNK]|ˈbʲlʲianʲ|ˈin̻ˠə|[UNK]|ˈt̪ˠaː|[UNK]|ˈfˠa...</td>\n",
       "      <td>train/10011062099947436666.wav</td>\n",
       "    </tr>\n",
       "    <tr>\n",
       "      <th>2</th>\n",
       "      <td>sa tuarascáil mhíosúil is déanaí dúirt opec go...</td>\n",
       "      <td>ˈsˠə|ˈt̪ˠuaɾˠəsˠkalʲ|vʲiːsˠulʲ|ˈisˠ|ˈdʲeːn̻ˠiː...</td>\n",
       "      <td>train/10011703409297587839.wav</td>\n",
       "    </tr>\n",
       "    <tr>\n",
       "      <th>3</th>\n",
       "      <td>ba iad na tráchtanna a rinneadh beo ar an teil...</td>\n",
       "      <td>ˈbˠə|ˈiad̪ˠ|ˈn̻ˠə|t̪ˠɾˠaːɾˠt̪ˠən̻ˠə|ə|ˈɾˠin̻ʲu...</td>\n",
       "      <td>train/10012130565025110261.wav</td>\n",
       "    </tr>\n",
       "    <tr>\n",
       "      <th>4</th>\n",
       "      <td>tá rith meánraoin ina spórt measartha saor tá ...</td>\n",
       "      <td>ˈt̪ˠaː|ˈɾˠihʲ|ˈmʲaːn̻ˠˈɾˠiːnʲ|ˈin̻ˠə|ˈsˠpˠoːɾˠ...</td>\n",
       "      <td>train/10014922500849696344.wav</td>\n",
       "    </tr>\n",
       "  </tbody>\n",
       "</table>\n",
       "</div>"
      ],
      "text/plain": [
       "                                       transcription  \\\n",
       "0  nuair a bhíonn tréith feinitíopach ar leith i ...   \n",
       "1  250 bliain ina dhiadh tá guinness fásta ina gh...   \n",
       "2  sa tuarascáil mhíosúil is déanaí dúirt opec go...   \n",
       "3  ba iad na tráchtanna a rinneadh beo ar an teil...   \n",
       "4  tá rith meánraoin ina spórt measartha saor tá ...   \n",
       "\n",
       "                                    phoneme_sentence  \\\n",
       "0  ˈn̻ˠuːɾʲ|ə|ˈvʲiːn̻ˠ|ˈtʲɾʲeː|[UNK]|ˈeɾʲ|ˈl̻ʲehʲ...   \n",
       "1  [UNK]|ˈbʲlʲianʲ|ˈin̻ˠə|[UNK]|ˈt̪ˠaː|[UNK]|ˈfˠa...   \n",
       "2  ˈsˠə|ˈt̪ˠuaɾˠəsˠkalʲ|vʲiːsˠulʲ|ˈisˠ|ˈdʲeːn̻ˠiː...   \n",
       "3  ˈbˠə|ˈiad̪ˠ|ˈn̻ˠə|t̪ˠɾˠaːɾˠt̪ˠən̻ˠə|ə|ˈɾˠin̻ʲu...   \n",
       "4  ˈt̪ˠaː|ˈɾˠihʲ|ˈmʲaːn̻ˠˈɾˠiːnʲ|ˈin̻ˠə|ˈsˠpˠoːɾˠ...   \n",
       "\n",
       "                       audio_path  \n",
       "0  train/10009174761044778838.wav  \n",
       "1  train/10011062099947436666.wav  \n",
       "2  train/10011703409297587839.wav  \n",
       "3  train/10012130565025110261.wav  \n",
       "4  train/10014922500849696344.wav  "
      ]
     },
     "execution_count": 39,
     "metadata": {},
     "output_type": "execute_result"
    }
   ],
   "source": [
    "train_out.head()"
   ]
  },
  {
   "cell_type": "code",
   "execution_count": 40,
   "metadata": {},
   "outputs": [],
   "source": [
    "train_out.to_csv(\"../../data/fleurs/fleurs_phonemes.csv\", index=False)"
   ]
  }
 ],
 "metadata": {
  "kernelspec": {
   "display_name": "venv",
   "language": "python",
   "name": "python3"
  },
  "language_info": {
   "codemirror_mode": {
    "name": "ipython",
    "version": 3
   },
   "file_extension": ".py",
   "mimetype": "text/x-python",
   "name": "python",
   "nbconvert_exporter": "python",
   "pygments_lexer": "ipython3",
   "version": "3.10.12"
  }
 },
 "nbformat": 4,
 "nbformat_minor": 2
}
