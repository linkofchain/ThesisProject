{
 "cells": [
  {
   "cell_type": "markdown",
   "metadata": {},
   "source": [
    "# fetch data and inspect"
   ]
  },
  {
   "cell_type": "code",
   "execution_count": 1,
   "metadata": {},
   "outputs": [
    {
     "name": "stderr",
     "output_type": "stream",
     "text": [
      "/home/peter/Desktop/Studies/Thesis/ThesisProject/venv/lib/python3.10/site-packages/tqdm/auto.py:21: TqdmWarning: IProgress not found. Please update jupyter and ipywidgets. See https://ipywidgets.readthedocs.io/en/stable/user_install.html\n",
      "  from .autonotebook import tqdm as notebook_tqdm\n"
     ]
    }
   ],
   "source": [
    "from datasets import load_dataset\n",
    "train = load_dataset(\"google/fleurs\", \"ga_ie\", split=\"train\")\n",
    "val = load_dataset(\"google/fleurs\", \"ga_ie\", split=\"validation\")\n",
    "test = load_dataset(\"google/fleurs\", \"ga_ie\", split=\"test\")"
   ]
  },
  {
   "cell_type": "code",
   "execution_count": 2,
   "metadata": {},
   "outputs": [],
   "source": [
    "audio_input = train[0][\"audio\"]"
   ]
  },
  {
   "cell_type": "code",
   "execution_count": 3,
   "metadata": {},
   "outputs": [
    {
     "name": "stdout",
     "output_type": "stream",
     "text": [
      "{'path': 'train/10009174761044778838.wav', 'array': array([ 0.        ,  0.        ,  0.        , ..., -0.00030464,\n",
      "       -0.00026166, -0.00036532]), 'sampling_rate': 16000}\n"
     ]
    }
   ],
   "source": [
    "print(audio_input)"
   ]
  },
  {
   "cell_type": "code",
   "execution_count": 4,
   "metadata": {},
   "outputs": [
    {
     "data": {
      "text/plain": [
       "['id',\n",
       " 'num_samples',\n",
       " 'path',\n",
       " 'audio',\n",
       " 'transcription',\n",
       " 'raw_transcription',\n",
       " 'gender',\n",
       " 'lang_id',\n",
       " 'language',\n",
       " 'lang_group_id']"
      ]
     },
     "execution_count": 4,
     "metadata": {},
     "output_type": "execute_result"
    }
   ],
   "source": [
    "train.column_names"
   ]
  },
  {
   "cell_type": "markdown",
   "metadata": {},
   "source": [
    "# Add phoneme transcriptions"
   ]
  },
  {
   "cell_type": "code",
   "execution_count": 5,
   "metadata": {},
   "outputs": [],
   "source": [
    "import pandas as pd"
   ]
  },
  {
   "cell_type": "code",
   "execution_count": 8,
   "metadata": {},
   "outputs": [],
   "source": [
    "g2p_path=\"../../data/g2P/ulster.tsv\"\n",
    "g2p_file = pd.read_csv(g2p_path,sep=\"\\t\", names=[\"word\",\"phonemes\"])\n",
    "# turn df into dict for simple lookup\n",
    "g2p_dict = g2p_file.set_index(\"word\")[\"phonemes\"].to_dict()"
   ]
  },
  {
   "cell_type": "code",
   "execution_count": 19,
   "metadata": {},
   "outputs": [],
   "source": [
    "def sent2phones(row):\n",
    "    sentence = row[\"transcription\"]\n",
    "    words = [x.strip(\" .,!?:;\") for x in sentence.split()]\n",
    "    \n",
    "    phoneme_seq = []\n",
    "    for word in words:\n",
    "        if word in g2p_dict:\n",
    "            phoneme_seq.append(g2p_dict[word].replace(\" \",\"\"))\n",
    "        elif word.lower() in g2p_dict:\n",
    "            phoneme_seq.append(g2p_dict[word.lower()].replace(\" \",\"\"))\n",
    "        else:\n",
    "            phoneme_seq.append(\"[UNK]\")\n",
    "    \n",
    "    return {\"phoneme_sentence\": \"|\".join(phoneme_seq)}"
   ]
  },
  {
   "cell_type": "code",
   "execution_count": 20,
   "metadata": {},
   "outputs": [
    {
     "data": {
      "text/plain": [
       "{'phoneme_sentence': 'ˈdʲia|ˈd̪ˠitʲ'}"
      ]
     },
     "execution_count": 20,
     "metadata": {},
     "output_type": "execute_result"
    }
   ],
   "source": [
    "sent2phones({\"transcription\":\"dia duit\"})"
   ]
  },
  {
   "cell_type": "code",
   "execution_count": 15,
   "metadata": {},
   "outputs": [
    {
     "data": {
      "text/plain": [
       "Dataset({\n",
       "    features: ['id', 'num_samples', 'path', 'audio', 'transcription', 'raw_transcription', 'gender', 'lang_id', 'language', 'lang_group_id'],\n",
       "    num_rows: 2845\n",
       "})"
      ]
     },
     "execution_count": 15,
     "metadata": {},
     "output_type": "execute_result"
    }
   ],
   "source": [
    "train"
   ]
  },
  {
   "cell_type": "code",
   "execution_count": 21,
   "metadata": {},
   "outputs": [
    {
     "name": "stderr",
     "output_type": "stream",
     "text": [
      "Map: 100%|██████████| 2845/2845 [00:05<00:00, 506.93 examples/s]\n"
     ]
    }
   ],
   "source": [
    "train = train.map(sent2phones)"
   ]
  },
  {
   "cell_type": "code",
   "execution_count": 22,
   "metadata": {},
   "outputs": [
    {
     "name": "stderr",
     "output_type": "stream",
     "text": [
      "Map: 100%|██████████| 369/369 [00:00<00:00, 578.52 examples/s]\n"
     ]
    }
   ],
   "source": [
    "val = val.map(sent2phones)"
   ]
  },
  {
   "cell_type": "code",
   "execution_count": 23,
   "metadata": {},
   "outputs": [
    {
     "name": "stderr",
     "output_type": "stream",
     "text": [
      "Map: 100%|██████████| 842/842 [00:01<00:00, 598.16 examples/s]\n"
     ]
    }
   ],
   "source": [
    "test = test.map(sent2phones)"
   ]
  },
  {
   "cell_type": "code",
   "execution_count": 24,
   "metadata": {},
   "outputs": [
    {
     "data": {
      "text/plain": [
       "{'id': 571,\n",
       " 'num_samples': 172800,\n",
       " 'path': '/home/peter/.cache/huggingface/datasets/downloads/extracted/a870d8d6658a3c263aa78e1d5ab46b448872cfe59db75af5d50a98907d873444/10009174761044778838.wav',\n",
       " 'audio': {'path': 'train/10009174761044778838.wav',\n",
       "  'array': array([ 0.        ,  0.        ,  0.        , ..., -0.00030464,\n",
       "         -0.00026166, -0.00036532]),\n",
       "  'sampling_rate': 16000},\n",
       " 'transcription': 'nuair a bhíonn tréith feinitíopach ar leith i bpáirt ag gach duine i ndaonra áirithe tugtar daonra monómorfach orthu',\n",
       " 'raw_transcription': 'Nuair a bhíonn tréith feinitíopach ar leith i bpáirt ag gach duine i ndaonra áirithe, tugtar daonra monómorfach orthu.',\n",
       " 'gender': 0,\n",
       " 'lang_id': 27,\n",
       " 'language': 'Irish',\n",
       " 'lang_group_id': 0,\n",
       " 'phoneme_sentence': 'ˈn̻ˠuːɾʲ|ə|ˈvʲiːn̻ˠ|ˈtʲɾʲeː|[UNK]|ˈeɾʲ|ˈl̻ʲehʲ|ˈi|bˠaːɾˠtʲ|ˈeɟ|ˈɡah|ˈd̪ˠinʲə|ˈi|n̻ˠiːn̻ˠɾˠə|ˈaːɾʲihʲə|t̪ˠuɡt̪ˠəɾˠ|ˈd̪ˠiːn̻ˠɾˠə|[UNK]|ˈoɾˠhu'}"
      ]
     },
     "execution_count": 24,
     "metadata": {},
     "output_type": "execute_result"
    }
   ],
   "source": [
    "train[0]"
   ]
  },
  {
   "cell_type": "markdown",
   "metadata": {},
   "source": [
    "# Save to disk"
   ]
  },
  {
   "cell_type": "code",
   "execution_count": 57,
   "metadata": {},
   "outputs": [
    {
     "name": "stderr",
     "output_type": "stream",
     "text": [
      "Saving the dataset (6/6 shards): 100%|██████████| 2845/2845 [00:06<00:00, 448.87 examples/s]\n",
      "Saving the dataset (1/1 shards): 100%|██████████| 369/369 [00:09<00:00, 37.59 examples/s] \n",
      "Saving the dataset (2/2 shards): 100%|██████████| 842/842 [00:06<00:00, 123.53 examples/s]\n"
     ]
    }
   ],
   "source": [
    "fleurs_path = \"/home/peter/Desktop/Studies/Thesis/ThesisProject/data/fleurs\"\n",
    "train.save_to_disk(fleurs_path+\"/train\")\n",
    "val.save_to_disk(fleurs_path+\"/val\")\n",
    "test.save_to_disk(fleurs_path+\"/test\")\n"
   ]
  },
  {
   "cell_type": "markdown",
   "metadata": {},
   "source": [
    "To reload, use...\n",
    "\n",
    "from datasets import load_from_disk\n",
    "\n",
    "reloaded_encoded_dataset = load_from_disk(\"path/of/my/dataset/directory\")"
   ]
  }
 ],
 "metadata": {
  "kernelspec": {
   "display_name": "venv",
   "language": "python",
   "name": "python3"
  },
  "language_info": {
   "codemirror_mode": {
    "name": "ipython",
    "version": 3
   },
   "file_extension": ".py",
   "mimetype": "text/x-python",
   "name": "python",
   "nbconvert_exporter": "python",
   "pygments_lexer": "ipython3",
   "version": "3.10.12"
  }
 },
 "nbformat": 4,
 "nbformat_minor": 2
}
