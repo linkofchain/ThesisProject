{
 "cells": [
  {
   "cell_type": "markdown",
   "metadata": {},
   "source": [
    "# interactive audio paste for annotations"
   ]
  },
  {
   "cell_type": "code",
   "execution_count": null,
   "metadata": {},
   "outputs": [
    {
     "name": "stdout",
     "output_type": "stream",
     "text": [
      "playing sound\n",
      "please enter next file\n"
     ]
    }
   ],
   "source": [
    "# import required module\n",
    "import os, sys\n",
    "from playsound import playsound\n",
    "\n",
    "data_folder = \"/home/peter/Desktop/Studies/Thesis/ThesisProject/data/fleurs/audio/train/normalized/\"\n",
    "non_norm = \"/home/peter/Desktop/Studies/Thesis/ThesisProject/data/fleurs/audio/train/\"\n",
    "\n",
    "# play sound\n",
    "while True:\n",
    "    response = input(\"please paste audio file path ('r' to repeat, 'q' to quit): \")\n",
    "    \n",
    "    if response == \"q\":\n",
    "        break\n",
    "    elif response != \"r\":\n",
    "        file_path = data_folder+response.split(\"/\")[-1]\n",
    "    print('playing sound')\n",
    "    playsound(file_path)\n",
    "    print('please enter next file')"
   ]
  }
 ],
 "metadata": {
  "kernelspec": {
   "display_name": "venv",
   "language": "python",
   "name": "python3"
  },
  "language_info": {
   "codemirror_mode": {
    "name": "ipython",
    "version": 3
   },
   "file_extension": ".py",
   "mimetype": "text/x-python",
   "name": "python",
   "nbconvert_exporter": "python",
   "pygments_lexer": "ipython3",
   "version": "3.10.12"
  }
 },
 "nbformat": 4,
 "nbformat_minor": 2
}
