{
 "cells": [
  {
   "cell_type": "markdown",
   "metadata": {},
   "source": [
    "# Convert irish words\n",
    "converts orthographic representation in common voice corpus to phonemic (IPA) representaions using Ulster pronunciation as standard"
   ]
  },
  {
   "cell_type": "code",
   "execution_count": 1,
   "metadata": {},
   "outputs": [],
   "source": [
    "# imports\n",
    "import pandas as pd\n",
    "import nltk, os\n"
   ]
  },
  {
   "cell_type": "code",
   "execution_count": 2,
   "metadata": {},
   "outputs": [],
   "source": [
    "tsvPath = \"/home/peter/Desktop/Studies/Thesis/ThesisProject/data/g2P/ulster.tsv\"\n",
    "g2pFile = pd.read_csv(tsvPath,sep=\"\\t\", names=[\"word\",\"phonemes\"])"
   ]
  },
  {
   "cell_type": "code",
   "execution_count": 3,
   "metadata": {},
   "outputs": [
    {
     "data": {
      "text/html": [
       "<div>\n",
       "<style scoped>\n",
       "    .dataframe tbody tr th:only-of-type {\n",
       "        vertical-align: middle;\n",
       "    }\n",
       "\n",
       "    .dataframe tbody tr th {\n",
       "        vertical-align: top;\n",
       "    }\n",
       "\n",
       "    .dataframe thead th {\n",
       "        text-align: right;\n",
       "    }\n",
       "</style>\n",
       "<table border=\"1\" class=\"dataframe\">\n",
       "  <thead>\n",
       "    <tr style=\"text-align: right;\">\n",
       "      <th></th>\n",
       "      <th>word</th>\n",
       "      <th>phonemes</th>\n",
       "    </tr>\n",
       "  </thead>\n",
       "  <tbody>\n",
       "    <tr>\n",
       "      <th>0</th>\n",
       "      <td>á</td>\n",
       "      <td>aː</td>\n",
       "    </tr>\n",
       "    <tr>\n",
       "      <th>1</th>\n",
       "      <td>a</td>\n",
       "      <td>ə</td>\n",
       "    </tr>\n",
       "    <tr>\n",
       "      <th>2</th>\n",
       "      <td>a'am</td>\n",
       "      <td>a mˠ</td>\n",
       "    </tr>\n",
       "    <tr>\n",
       "      <th>3</th>\n",
       "      <td>a'at</td>\n",
       "      <td>a t̪ˠ</td>\n",
       "    </tr>\n",
       "    <tr>\n",
       "      <th>4</th>\n",
       "      <td>ab</td>\n",
       "      <td>a bˠ</td>\n",
       "    </tr>\n",
       "  </tbody>\n",
       "</table>\n",
       "</div>"
      ],
      "text/plain": [
       "   word phonemes\n",
       "0     á       aː\n",
       "1     a        ə\n",
       "2  a'am     a mˠ\n",
       "3  a'at    a t̪ˠ\n",
       "4    ab     a bˠ"
      ]
     },
     "execution_count": 3,
     "metadata": {},
     "output_type": "execute_result"
    }
   ],
   "source": [
    "g2pFile.head()"
   ]
  },
  {
   "cell_type": "markdown",
   "metadata": {},
   "source": [
    "# process text for Common Voice recordings"
   ]
  },
  {
   "cell_type": "code",
   "execution_count": 4,
   "metadata": {},
   "outputs": [],
   "source": [
    "cVRecPath = \"../../data/commonVoiceData/transcription/owsm_v3.1/001.csv\"\n"
   ]
  },
  {
   "cell_type": "markdown",
   "metadata": {},
   "source": [
    "## task flow\n",
    "1. Read the TSV into a Pandas DataFrame (or a dictionary).\n",
    "    * Left column = words (e.g., “abacais”)\n",
    "    * Right column = phoneme transcriptions (e.g., “a bˠ ə k ə ʃ”)\n",
    "2. Tokenize your input text (if you have entire sentences).\n",
    "    * Split the sentence into words (taking care of punctuation or special symbols).\n",
    "    * For each word, do a lookup in your DataFrame/dictionary.\n",
    "3. Replace each word with its phoneme sequence using the mapping.\n",
    "\n",
    "    * If a word is not in your dictionary, you’ll need a fallback strategy (e.g., [UNK] token or run a G2P model).\n",
    "4. Join the phonemes for each word in order to form the full phoneme sequence for the sentence."
   ]
  },
  {
   "cell_type": "code",
   "execution_count": 5,
   "metadata": {},
   "outputs": [],
   "source": [
    "transcriptions = pd.read_csv(cVRecPath)"
   ]
  },
  {
   "cell_type": "code",
   "execution_count": 15,
   "metadata": {},
   "outputs": [
    {
     "data": {
      "text/html": [
       "<div>\n",
       "<style scoped>\n",
       "    .dataframe tbody tr th:only-of-type {\n",
       "        vertical-align: middle;\n",
       "    }\n",
       "\n",
       "    .dataframe tbody tr th {\n",
       "        vertical-align: top;\n",
       "    }\n",
       "\n",
       "    .dataframe thead th {\n",
       "        text-align: right;\n",
       "    }\n",
       "</style>\n",
       "<table border=\"1\" class=\"dataframe\">\n",
       "  <thead>\n",
       "    <tr style=\"text-align: right;\">\n",
       "      <th></th>\n",
       "      <th>Unnamed: 0</th>\n",
       "      <th>path</th>\n",
       "      <th>sentence</th>\n",
       "    </tr>\n",
       "  </thead>\n",
       "  <tbody>\n",
       "    <tr>\n",
       "      <th>0</th>\n",
       "      <td>0</td>\n",
       "      <td>audio/001/common_voice_ga-IE_17571418.mp3</td>\n",
       "      <td>Tá a mála ar an urlár</td>\n",
       "    </tr>\n",
       "    <tr>\n",
       "      <th>1</th>\n",
       "      <td>1</td>\n",
       "      <td>audio/001/common_voice_ga-IE_17571419.mp3</td>\n",
       "      <td>An Phoblacht Doiminiceach</td>\n",
       "    </tr>\n",
       "    <tr>\n",
       "      <th>2</th>\n",
       "      <td>2</td>\n",
       "      <td>audio/001/common_voice_ga-IE_17571420.mp3</td>\n",
       "      <td>Do ghnó féin déan a dhuine</td>\n",
       "    </tr>\n",
       "    <tr>\n",
       "      <th>3</th>\n",
       "      <td>3</td>\n",
       "      <td>audio/001/common_voice_ga-IE_17571424.mp3</td>\n",
       "      <td>Ní raibh mé</td>\n",
       "    </tr>\n",
       "    <tr>\n",
       "      <th>4</th>\n",
       "      <td>4</td>\n",
       "      <td>audio/001/common_voice_ga-IE_17571428.mp3</td>\n",
       "      <td>Dún do bhéal.</td>\n",
       "    </tr>\n",
       "  </tbody>\n",
       "</table>\n",
       "</div>"
      ],
      "text/plain": [
       "   Unnamed: 0                                       path  \\\n",
       "0           0  audio/001/common_voice_ga-IE_17571418.mp3   \n",
       "1           1  audio/001/common_voice_ga-IE_17571419.mp3   \n",
       "2           2  audio/001/common_voice_ga-IE_17571420.mp3   \n",
       "3           3  audio/001/common_voice_ga-IE_17571424.mp3   \n",
       "4           4  audio/001/common_voice_ga-IE_17571428.mp3   \n",
       "\n",
       "                     sentence  \n",
       "0       Tá a mála ar an urlár  \n",
       "1   An Phoblacht Doiminiceach  \n",
       "2  Do ghnó féin déan a dhuine  \n",
       "3                 Ní raibh mé  \n",
       "4               Dún do bhéal.  "
      ]
     },
     "execution_count": 15,
     "metadata": {},
     "output_type": "execute_result"
    }
   ],
   "source": [
    "transcriptions.head()"
   ]
  },
  {
   "cell_type": "code",
   "execution_count": 7,
   "metadata": {},
   "outputs": [],
   "source": [
    "# make dict for easy look up\n",
    "g2p_dict = g2pFile.set_index(\"word\")[\"phonemes\"].to_dict()"
   ]
  },
  {
   "cell_type": "code",
   "execution_count": 32,
   "metadata": {},
   "outputs": [],
   "source": [
    "def sent2phones(sentence):\n",
    "    words = [x.strip(\" .,!?:;\") for x in sentence.split()]\n",
    "    \n",
    "    phoneme_seq = []\n",
    "    for word in words:\n",
    "        if word in g2p_dict:\n",
    "            phoneme_seq.append(g2p_dict[word])\n",
    "        elif word.lower() in g2p_dict:\n",
    "            phoneme_seq.append(g2p_dict[word.lower()])\n",
    "        else:\n",
    "            phoneme_seq.append(\"[UNK]\")\n",
    "    \n",
    "    return \" \".join(phoneme_seq)"
   ]
  },
  {
   "cell_type": "code",
   "execution_count": 33,
   "metadata": {},
   "outputs": [],
   "source": [
    "transcriptions[\"phoneme_sentence\"] = transcriptions[\"sentence\"].apply(sent2phones)"
   ]
  },
  {
   "cell_type": "code",
   "execution_count": 34,
   "metadata": {},
   "outputs": [
    {
     "data": {
      "text/html": [
       "<div>\n",
       "<style scoped>\n",
       "    .dataframe tbody tr th:only-of-type {\n",
       "        vertical-align: middle;\n",
       "    }\n",
       "\n",
       "    .dataframe tbody tr th {\n",
       "        vertical-align: top;\n",
       "    }\n",
       "\n",
       "    .dataframe thead th {\n",
       "        text-align: right;\n",
       "    }\n",
       "</style>\n",
       "<table border=\"1\" class=\"dataframe\">\n",
       "  <thead>\n",
       "    <tr style=\"text-align: right;\">\n",
       "      <th></th>\n",
       "      <th>Unnamed: 0</th>\n",
       "      <th>path</th>\n",
       "      <th>sentence</th>\n",
       "      <th>phoneme_sentence</th>\n",
       "    </tr>\n",
       "  </thead>\n",
       "  <tbody>\n",
       "    <tr>\n",
       "      <th>0</th>\n",
       "      <td>0</td>\n",
       "      <td>audio/001/common_voice_ga-IE_17571418.mp3</td>\n",
       "      <td>Tá a mála ar an urlár</td>\n",
       "      <td>ˈ t̪ˠ aː ə ˈ mˠ aː l̻ˠ ə ˈ e ɾʲ ˈ ə n̻ˠ ˈ uː ɾ...</td>\n",
       "    </tr>\n",
       "    <tr>\n",
       "      <th>1</th>\n",
       "      <td>1</td>\n",
       "      <td>audio/001/common_voice_ga-IE_17571419.mp3</td>\n",
       "      <td>An Phoblacht Doiminiceach</td>\n",
       "      <td>ˈ ə n̻ˠ ˈ fˠ o bˠ l̻ˠ a x t̪ˠ ˈ d̪ˠ i mʲ ə nʲ ...</td>\n",
       "    </tr>\n",
       "    <tr>\n",
       "      <th>2</th>\n",
       "      <td>2</td>\n",
       "      <td>audio/001/common_voice_ga-IE_17571420.mp3</td>\n",
       "      <td>Do ghnó féin déan a dhuine</td>\n",
       "      <td>ˈ d̪ˠ ə ɣ n̻ˠ oː ˈ h eː nʲ ˈ dʲ eː n̻ˠ ə ˈ ɣ i...</td>\n",
       "    </tr>\n",
       "    <tr>\n",
       "      <th>3</th>\n",
       "      <td>3</td>\n",
       "      <td>audio/001/common_voice_ga-IE_17571424.mp3</td>\n",
       "      <td>Ní raibh mé</td>\n",
       "      <td>ˈ n̻ʲ iː ˈ ɾˠ oː vˠ ˈ mʲ eː</td>\n",
       "    </tr>\n",
       "    <tr>\n",
       "      <th>4</th>\n",
       "      <td>4</td>\n",
       "      <td>audio/001/common_voice_ga-IE_17571428.mp3</td>\n",
       "      <td>Dún do bhéal.</td>\n",
       "      <td>ˈ d̪ˠ uː n̻ˠ ˈ d̪ˠ ə ˈ vʲ eː l̻ˠ</td>\n",
       "    </tr>\n",
       "  </tbody>\n",
       "</table>\n",
       "</div>"
      ],
      "text/plain": [
       "   Unnamed: 0                                       path  \\\n",
       "0           0  audio/001/common_voice_ga-IE_17571418.mp3   \n",
       "1           1  audio/001/common_voice_ga-IE_17571419.mp3   \n",
       "2           2  audio/001/common_voice_ga-IE_17571420.mp3   \n",
       "3           3  audio/001/common_voice_ga-IE_17571424.mp3   \n",
       "4           4  audio/001/common_voice_ga-IE_17571428.mp3   \n",
       "\n",
       "                     sentence  \\\n",
       "0       Tá a mála ar an urlár   \n",
       "1   An Phoblacht Doiminiceach   \n",
       "2  Do ghnó féin déan a dhuine   \n",
       "3                 Ní raibh mé   \n",
       "4               Dún do bhéal.   \n",
       "\n",
       "                                    phoneme_sentence  \n",
       "0  ˈ t̪ˠ aː ə ˈ mˠ aː l̻ˠ ə ˈ e ɾʲ ˈ ə n̻ˠ ˈ uː ɾ...  \n",
       "1  ˈ ə n̻ˠ ˈ fˠ o bˠ l̻ˠ a x t̪ˠ ˈ d̪ˠ i mʲ ə nʲ ...  \n",
       "2  ˈ d̪ˠ ə ɣ n̻ˠ oː ˈ h eː nʲ ˈ dʲ eː n̻ˠ ə ˈ ɣ i...  \n",
       "3                        ˈ n̻ʲ iː ˈ ɾˠ oː vˠ ˈ mʲ eː  \n",
       "4                   ˈ d̪ˠ uː n̻ˠ ˈ d̪ˠ ə ˈ vʲ eː l̻ˠ  "
      ]
     },
     "execution_count": 34,
     "metadata": {},
     "output_type": "execute_result"
    }
   ],
   "source": [
    "transcriptions.head()"
   ]
  },
  {
   "cell_type": "code",
   "execution_count": 22,
   "metadata": {},
   "outputs": [
    {
     "data": {
      "text/plain": [
       "'ˈ vʲ eː l̻ˠ'"
      ]
     },
     "execution_count": 22,
     "metadata": {},
     "output_type": "execute_result"
    }
   ],
   "source": [
    "g2p_dict[\"bhéal\"]"
   ]
  },
  {
   "cell_type": "markdown",
   "metadata": {},
   "source": [
    "Okay, great. now we have a new column with phonemic transcriptions. We can tokenize using wav2vec2 tokenizer. For that I think we need a vocabulary of the unique phonemes"
   ]
  },
  {
   "cell_type": "code",
   "execution_count": null,
   "metadata": {},
   "outputs": [],
   "source": [
    "phoneme_vocab = set()\n",
    "phoneme_vocab.update([\"[UNK]\"])\n",
    "for phonemes in g2p_dict.values():\n",
    "    phoneme_vocab.update(phonemes.split())\n"
   ]
  },
  {
   "cell_type": "markdown",
   "metadata": {},
   "source": [
    "# Data preparation"
   ]
  },
  {
   "cell_type": "markdown",
   "metadata": {},
   "source": [
    "## tokenize"
   ]
  },
  {
   "cell_type": "code",
   "execution_count": null,
   "metadata": {},
   "outputs": [],
   "source": [
    "from transformers import Wav2Vec2FeatureExtractor, Wav2Vec2Processor, Wav2Vec2CTCTokenizer\n",
    "\n",
    "tokenizer = Wav2Vec2CTCTokenizer(\n",
    "    \n",
    ")"
   ]
  }
 ],
 "metadata": {
  "kernelspec": {
   "display_name": "venv",
   "language": "python",
   "name": "python3"
  },
  "language_info": {
   "codemirror_mode": {
    "name": "ipython",
    "version": 3
   },
   "file_extension": ".py",
   "mimetype": "text/x-python",
   "name": "python",
   "nbconvert_exporter": "python",
   "pygments_lexer": "ipython3",
   "version": "3.10.12"
  }
 },
 "nbformat": 4,
 "nbformat_minor": 2
}
