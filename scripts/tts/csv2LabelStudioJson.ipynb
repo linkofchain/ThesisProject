{
 "cells": [
  {
   "cell_type": "markdown",
   "id": "bc37d730",
   "metadata": {},
   "source": [
    "This is an initial step in our bootstrapping loop, whereby we use the canonical transcriptions as \"prediction\" to preannotate our data. We feed these into a tts and judge its output based on acceptability of approximate l2 learner speech."
   ]
  },
  {
   "cell_type": "code",
   "execution_count": 1,
   "id": "6ffb94fc",
   "metadata": {},
   "outputs": [],
   "source": [
    "# imports\n",
    "import os, json\n",
    "import pandas as pd"
   ]
  },
  {
   "cell_type": "code",
   "execution_count": null,
   "id": "d0c73dcf",
   "metadata": {},
   "outputs": [
    {
     "name": "stdout",
     "output_type": "stream",
     "text": [
      "/home/pccady/Studies/ThesisProject/scripts/tts/../../data/teanglann/irish_data.csv\n"
     ]
    }
   ],
   "source": [
    "rel_path = \"data/teanglann/irish_data.csv\"\n",
    "data_path = os.path.join(os.getcwd(), \"..\", \"..\", rel_path)\n",
    "print(data_path)"
   ]
  },
  {
   "cell_type": "code",
   "execution_count": 3,
   "id": "cbc204ad",
   "metadata": {},
   "outputs": [
    {
     "data": {
      "application/vnd.microsoft.datawrangler.viewer.v0+json": {
       "columns": [
        {
         "name": "index",
         "rawType": "int64",
         "type": "integer"
        },
        {
         "name": "file",
         "rawType": "object",
         "type": "string"
        },
        {
         "name": "phonemes",
         "rawType": "object",
         "type": "string"
        }
       ],
       "ref": "30e3cf3d-4828-42f8-bd63-b68552f0d5cf",
       "rows": [
        [
         "0",
         "litiam.wav",
         "lʲ i tʲ ia mˠ"
        ],
        [
         "1",
         "codail.wav",
         "ˈ k o d̪ˠ ə lʲ"
        ],
        [
         "2",
         "caeisiam.wav",
         "k eː ʃ ia mˠ"
        ],
        [
         "3",
         "aspalóid.wav",
         "ˈ a sˠ pˠ ə l̻ˠ o dʲ"
        ],
        [
         "4",
         "ceifileapód.wav",
         "c e fʲ i lʲ ə pˠ o d̪ˠ"
        ]
       ],
       "shape": {
        "columns": 2,
        "rows": 5
       }
      },
      "text/html": [
       "<div>\n",
       "<style scoped>\n",
       "    .dataframe tbody tr th:only-of-type {\n",
       "        vertical-align: middle;\n",
       "    }\n",
       "\n",
       "    .dataframe tbody tr th {\n",
       "        vertical-align: top;\n",
       "    }\n",
       "\n",
       "    .dataframe thead th {\n",
       "        text-align: right;\n",
       "    }\n",
       "</style>\n",
       "<table border=\"1\" class=\"dataframe\">\n",
       "  <thead>\n",
       "    <tr style=\"text-align: right;\">\n",
       "      <th></th>\n",
       "      <th>file</th>\n",
       "      <th>phonemes</th>\n",
       "    </tr>\n",
       "  </thead>\n",
       "  <tbody>\n",
       "    <tr>\n",
       "      <th>0</th>\n",
       "      <td>litiam.wav</td>\n",
       "      <td>lʲ i tʲ ia mˠ</td>\n",
       "    </tr>\n",
       "    <tr>\n",
       "      <th>1</th>\n",
       "      <td>codail.wav</td>\n",
       "      <td>ˈ k o d̪ˠ ə lʲ</td>\n",
       "    </tr>\n",
       "    <tr>\n",
       "      <th>2</th>\n",
       "      <td>caeisiam.wav</td>\n",
       "      <td>k eː ʃ ia mˠ</td>\n",
       "    </tr>\n",
       "    <tr>\n",
       "      <th>3</th>\n",
       "      <td>aspalóid.wav</td>\n",
       "      <td>ˈ a sˠ pˠ ə l̻ˠ o dʲ</td>\n",
       "    </tr>\n",
       "    <tr>\n",
       "      <th>4</th>\n",
       "      <td>ceifileapód.wav</td>\n",
       "      <td>c e fʲ i lʲ ə pˠ o d̪ˠ</td>\n",
       "    </tr>\n",
       "  </tbody>\n",
       "</table>\n",
       "</div>"
      ],
      "text/plain": [
       "              file                phonemes\n",
       "0       litiam.wav           lʲ i tʲ ia mˠ\n",
       "1       codail.wav          ˈ k o d̪ˠ ə lʲ\n",
       "2     caeisiam.wav            k eː ʃ ia mˠ\n",
       "3     aspalóid.wav    ˈ a sˠ pˠ ə l̻ˠ o dʲ\n",
       "4  ceifileapód.wav  c e fʲ i lʲ ə pˠ o d̪ˠ"
      ]
     },
     "execution_count": 3,
     "metadata": {},
     "output_type": "execute_result"
    }
   ],
   "source": [
    "df = pd.read_csv(data_path)\n",
    "df.head()"
   ]
  },
  {
   "cell_type": "code",
   "execution_count": 5,
   "id": "e0153782",
   "metadata": {},
   "outputs": [
    {
     "name": "stdout",
     "output_type": "stream",
     "text": [
      "wrote 19226 tasks to annotation_tasks.json\n"
     ]
    }
   ],
   "source": [
    "# config\n",
    "audio_base_url = \"gs://canonical_pron/wav_files/\"    # gcs bucket path with prefix\n",
    "output_path = \"annotation_tasks.json\"\n",
    "\n",
    "# build task jsons according to https://labelstud.io/guide/task_format\n",
    "tasks = []\n",
    "for _, row in df.iterrows():\n",
    "    filename = row[\"file\"]\n",
    "    phonemes = row[\"phonemes\"]\n",
    "    word_id = os.path.splitext(filename)[0] # strip .wav extension\n",
    "\n",
    "    task = {                        # task format: https://labelstud.io/guide/task_format\n",
    "        \"data\": {\n",
    "            \"audio_canon\": f\"{audio_base_url}{filename}\",\n",
    "            \"word\": word_id\n",
    "        },\n",
    "        \"predictions\": [\n",
    "            {\n",
    "                \"model_version\": \"initial\",\n",
    "                \"result\": [\n",
    "                    {\n",
    "                        \"from_name\": \"transcription\",    # name of tag to label the region\n",
    "                        \"to_name\": \"audio_tts\",          # name of tag that provided region to be labeled\n",
    "                        \"type\": \"textarea\",         # type of tag used to annotate task\n",
    "                        \"value\": {                  # tag-specific value that includes details of the result of labeling the task\n",
    "                            \"text\": [phonemes]\n",
    "                        }\n",
    "                    }\n",
    "                ]\n",
    "            }\n",
    "        ]\n",
    "    }\n",
    "    tasks.append(task)\n",
    "\n",
    "# write to json file\n",
    "with open(output_path, \"w\", encoding=\"utf-8\") as f:\n",
    "    json.dump(tasks, f, ensure_ascii=False, indent=2)\n",
    "\n",
    "print(f\"wrote {len(tasks)} tasks to {output_path}\")\n"
   ]
  }
 ],
 "metadata": {
  "kernelspec": {
   "display_name": ".venv",
   "language": "python",
   "name": "python3"
  },
  "language_info": {
   "codemirror_mode": {
    "name": "ipython",
    "version": 3
   },
   "file_extension": ".py",
   "mimetype": "text/x-python",
   "name": "python",
   "nbconvert_exporter": "python",
   "pygments_lexer": "ipython3",
   "version": "3.11.2"
  }
 },
 "nbformat": 4,
 "nbformat_minor": 5
}
