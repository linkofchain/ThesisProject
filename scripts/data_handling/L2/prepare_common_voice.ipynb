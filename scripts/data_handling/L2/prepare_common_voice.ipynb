{
 "cells": [
  {
   "cell_type": "markdown",
   "metadata": {},
   "source": [
    "# Prepare Common Voice Dataset\n",
    "This notebook is for preparing the common voice data for manual annotation"
   ]
  },
  {
   "cell_type": "code",
   "execution_count": null,
   "metadata": {},
   "outputs": [],
   "source": [
    "#imports\n",
    "import pandas as pd"
   ]
  },
  {
   "cell_type": "markdown",
   "metadata": {},
   "source": [
    "## Fetch g2p dictionary"
   ]
  },
  {
   "cell_type": "code",
   "execution_count": null,
   "metadata": {},
   "outputs": [],
   "source": [
    "g2p_path=\"../../data/g2P/ulster.tsv\"\n",
    "g2p_file = pd.read_csv(g2p_path,sep=\"\\t\", names=[\"word\",\"phonemes\"])\n",
    "# turn df into dict for simple lookup\n",
    "g2p_dict = g2p_file.set_index(\"word\")[\"phonemes\"].to_dict()"
   ]
  },
  {
   "cell_type": "markdown",
   "metadata": {},
   "source": []
  },
  {
   "cell_type": "code",
   "execution_count": null,
   "metadata": {},
   "outputs": [],
   "source": [
    "def sent2phones(row):\n",
    "    sentence = row[\"transcription\"]\n",
    "    words = [x.strip(\" .,!?:;\") for x in sentence.split()]\n",
    "    \n",
    "    phoneme_seq = []\n",
    "    for word in words:\n",
    "        if word in g2p_dict:\n",
    "            phoneme_seq.append(g2p_dict[word].replace(\" \",\"\"))\n",
    "        elif word.lower() in g2p_dict:\n",
    "            phoneme_seq.append(g2p_dict[word.lower()].replace(\" \",\"\"))\n",
    "        else:\n",
    "            phoneme_seq.append(\"[UNK]\")\n",
    "    \n",
    "    return {\"phoneme_sentence\": \"|\".join(phoneme_seq)}"
   ]
  }
 ],
 "metadata": {
  "language_info": {
   "name": "python"
  }
 },
 "nbformat": 4,
 "nbformat_minor": 2
}
