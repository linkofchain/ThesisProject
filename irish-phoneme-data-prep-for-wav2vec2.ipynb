{
 "cells": [
  {
   "cell_type": "markdown",
   "id": "2fdacac0",
   "metadata": {
    "papermill": {
     "duration": 0.009825,
     "end_time": "2025-10-16T14:19:41.623724",
     "exception": false,
     "start_time": "2025-10-16T14:19:41.613899",
     "status": "completed"
    },
    "tags": []
   },
   "source": [
    "# Resources\n",
    "Based on https://www.kaggle.com/code/vitouphy/phoneme-recognition-with-wav2vec2 with alterations for my own understanding of the steps.\n",
    "\n",
    "Additional resources:\n",
    "* https://huggingface.co/blog/fine-tune-xlsr-wav2vec2"
   ]
  },
  {
   "cell_type": "code",
   "execution_count": 1,
   "id": "408f3b95",
   "metadata": {
    "execution": {
     "iopub.execute_input": "2025-10-16T14:19:41.643162Z",
     "iopub.status.busy": "2025-10-16T14:19:41.642687Z",
     "iopub.status.idle": "2025-10-16T14:20:22.614642Z",
     "shell.execute_reply": "2025-10-16T14:20:22.613256Z"
    },
    "papermill": {
     "duration": 40.98412,
     "end_time": "2025-10-16T14:20:22.616960",
     "exception": false,
     "start_time": "2025-10-16T14:19:41.632840",
     "status": "completed"
    },
    "tags": []
   },
   "outputs": [
    {
     "name": "stdout",
     "output_type": "stream",
     "text": [
      "Collecting transformers==4.17.0\r\n",
      "  Downloading transformers-4.17.0-py3-none-any.whl.metadata (67 kB)\r\n",
      "\u001b[2K     \u001b[90m━━━━━━━━━━━━━━━━━━━━━━━━━━━━━━━━━━━━━━━━\u001b[0m \u001b[32m67.9/67.9 kB\u001b[0m \u001b[31m2.5 MB/s\u001b[0m eta \u001b[36m0:00:00\u001b[0m\r\n",
      "\u001b[?25hRequirement already satisfied: filelock in /usr/local/lib/python3.10/dist-packages (from transformers==4.17.0) (3.17.0)\r\n",
      "Requirement already satisfied: huggingface-hub<1.0,>=0.1.0 in /usr/local/lib/python3.10/dist-packages (from transformers==4.17.0) (0.29.0)\r\n",
      "Requirement already satisfied: numpy>=1.17 in /usr/local/lib/python3.10/dist-packages (from transformers==4.17.0) (1.26.4)\r\n",
      "Requirement already satisfied: packaging>=20.0 in /usr/local/lib/python3.10/dist-packages (from transformers==4.17.0) (24.2)\r\n",
      "Requirement already satisfied: pyyaml>=5.1 in /usr/local/lib/python3.10/dist-packages (from transformers==4.17.0) (6.0.2)\r\n",
      "Requirement already satisfied: regex!=2019.12.17 in /usr/local/lib/python3.10/dist-packages (from transformers==4.17.0) (2024.11.6)\r\n",
      "Requirement already satisfied: requests in /usr/local/lib/python3.10/dist-packages (from transformers==4.17.0) (2.32.3)\r\n",
      "Collecting sacremoses (from transformers==4.17.0)\r\n",
      "  Downloading sacremoses-0.1.1-py3-none-any.whl.metadata (8.3 kB)\r\n",
      "Requirement already satisfied: tokenizers!=0.11.3,>=0.11.1 in /usr/local/lib/python3.10/dist-packages (from transformers==4.17.0) (0.21.0)\r\n",
      "Requirement already satisfied: tqdm>=4.27 in /usr/local/lib/python3.10/dist-packages (from transformers==4.17.0) (4.67.1)\r\n",
      "Requirement already satisfied: fsspec>=2023.5.0 in /usr/local/lib/python3.10/dist-packages (from huggingface-hub<1.0,>=0.1.0->transformers==4.17.0) (2024.12.0)\r\n",
      "Requirement already satisfied: typing-extensions>=3.7.4.3 in /usr/local/lib/python3.10/dist-packages (from huggingface-hub<1.0,>=0.1.0->transformers==4.17.0) (4.12.2)\r\n",
      "Requirement already satisfied: mkl_fft in /usr/local/lib/python3.10/dist-packages (from numpy>=1.17->transformers==4.17.0) (1.3.8)\r\n",
      "Requirement already satisfied: mkl_random in /usr/local/lib/python3.10/dist-packages (from numpy>=1.17->transformers==4.17.0) (1.2.4)\r\n",
      "Requirement already satisfied: mkl_umath in /usr/local/lib/python3.10/dist-packages (from numpy>=1.17->transformers==4.17.0) (0.1.1)\r\n",
      "Requirement already satisfied: mkl in /usr/local/lib/python3.10/dist-packages (from numpy>=1.17->transformers==4.17.0) (2025.0.1)\r\n",
      "Requirement already satisfied: tbb4py in /usr/local/lib/python3.10/dist-packages (from numpy>=1.17->transformers==4.17.0) (2022.0.0)\r\n",
      "Requirement already satisfied: mkl-service in /usr/local/lib/python3.10/dist-packages (from numpy>=1.17->transformers==4.17.0) (2.4.1)\r\n",
      "Requirement already satisfied: charset-normalizer<4,>=2 in /usr/local/lib/python3.10/dist-packages (from requests->transformers==4.17.0) (3.4.1)\r\n",
      "Requirement already satisfied: idna<4,>=2.5 in /usr/local/lib/python3.10/dist-packages (from requests->transformers==4.17.0) (3.10)\r\n",
      "Requirement already satisfied: urllib3<3,>=1.21.1 in /usr/local/lib/python3.10/dist-packages (from requests->transformers==4.17.0) (2.3.0)\r\n",
      "Requirement already satisfied: certifi>=2017.4.17 in /usr/local/lib/python3.10/dist-packages (from requests->transformers==4.17.0) (2025.1.31)\r\n",
      "Requirement already satisfied: click in /usr/local/lib/python3.10/dist-packages (from sacremoses->transformers==4.17.0) (8.1.7)\r\n",
      "Requirement already satisfied: joblib in /usr/local/lib/python3.10/dist-packages (from sacremoses->transformers==4.17.0) (1.4.2)\r\n",
      "Requirement already satisfied: intel-openmp>=2024 in /usr/local/lib/python3.10/dist-packages (from mkl->numpy>=1.17->transformers==4.17.0) (2024.2.0)\r\n",
      "Requirement already satisfied: tbb==2022.* in /usr/local/lib/python3.10/dist-packages (from mkl->numpy>=1.17->transformers==4.17.0) (2022.0.0)\r\n",
      "Requirement already satisfied: tcmlib==1.* in /usr/local/lib/python3.10/dist-packages (from tbb==2022.*->mkl->numpy>=1.17->transformers==4.17.0) (1.2.0)\r\n",
      "Requirement already satisfied: intel-cmplr-lib-rt in /usr/local/lib/python3.10/dist-packages (from mkl_umath->numpy>=1.17->transformers==4.17.0) (2024.2.0)\r\n",
      "Requirement already satisfied: intel-cmplr-lib-ur==2024.2.0 in /usr/local/lib/python3.10/dist-packages (from intel-openmp>=2024->mkl->numpy>=1.17->transformers==4.17.0) (2024.2.0)\r\n",
      "Downloading transformers-4.17.0-py3-none-any.whl (3.8 MB)\r\n",
      "\u001b[2K   \u001b[90m━━━━━━━━━━━━━━━━━━━━━━━━━━━━━━━━━━━━━━━━\u001b[0m \u001b[32m3.8/3.8 MB\u001b[0m \u001b[31m55.2 MB/s\u001b[0m eta \u001b[36m0:00:00\u001b[0m\r\n",
      "\u001b[?25hDownloading sacremoses-0.1.1-py3-none-any.whl (897 kB)\r\n",
      "\u001b[2K   \u001b[90m━━━━━━━━━━━━━━━━━━━━━━━━━━━━━━━━━━━━━━━━\u001b[0m \u001b[32m897.5/897.5 kB\u001b[0m \u001b[31m32.6 MB/s\u001b[0m eta \u001b[36m0:00:00\u001b[0m\r\n",
      "\u001b[?25hInstalling collected packages: sacremoses, transformers\r\n",
      "  Attempting uninstall: transformers\r\n",
      "    Found existing installation: transformers 4.47.0\r\n",
      "    Uninstalling transformers-4.47.0:\r\n",
      "      Successfully uninstalled transformers-4.47.0\r\n",
      "\u001b[31mERROR: pip's dependency resolver does not currently take into account all the packages that are installed. This behaviour is the source of the following dependency conflicts.\r\n",
      "kaggle-environments 1.16.11 requires transformers>=4.33.1, but you have transformers 4.17.0 which is incompatible.\r\n",
      "sentence-transformers 3.3.1 requires transformers<5.0.0,>=4.41.0, but you have transformers 4.17.0 which is incompatible.\u001b[0m\u001b[31m\r\n",
      "\u001b[0mSuccessfully installed sacremoses-0.1.1 transformers-4.17.0\r\n",
      "Requirement already satisfied: librosa in /usr/local/lib/python3.10/dist-packages (0.10.2.post1)\r\n",
      "Requirement already satisfied: audioread>=2.1.9 in /usr/local/lib/python3.10/dist-packages (from librosa) (3.0.1)\r\n",
      "Requirement already satisfied: numpy!=1.22.0,!=1.22.1,!=1.22.2,>=1.20.3 in /usr/local/lib/python3.10/dist-packages (from librosa) (1.26.4)\r\n",
      "Requirement already satisfied: scipy>=1.2.0 in /usr/local/lib/python3.10/dist-packages (from librosa) (1.13.1)\r\n",
      "Requirement already satisfied: scikit-learn>=0.20.0 in /usr/local/lib/python3.10/dist-packages (from librosa) (1.2.2)\r\n",
      "Requirement already satisfied: joblib>=0.14 in /usr/local/lib/python3.10/dist-packages (from librosa) (1.4.2)\r\n",
      "Requirement already satisfied: decorator>=4.3.0 in /usr/local/lib/python3.10/dist-packages (from librosa) (4.4.2)\r\n",
      "Requirement already satisfied: numba>=0.51.0 in /usr/local/lib/python3.10/dist-packages (from librosa) (0.60.0)\r\n",
      "Requirement already satisfied: soundfile>=0.12.1 in /usr/local/lib/python3.10/dist-packages (from librosa) (0.12.1)\r\n",
      "Requirement already satisfied: pooch>=1.1 in /usr/local/lib/python3.10/dist-packages (from librosa) (1.8.2)\r\n",
      "Requirement already satisfied: soxr>=0.3.2 in /usr/local/lib/python3.10/dist-packages (from librosa) (0.5.0.post1)\r\n",
      "Requirement already satisfied: typing-extensions>=4.1.1 in /usr/local/lib/python3.10/dist-packages (from librosa) (4.12.2)\r\n",
      "Requirement already satisfied: lazy-loader>=0.1 in /usr/local/lib/python3.10/dist-packages (from librosa) (0.4)\r\n",
      "Requirement already satisfied: msgpack>=1.0 in /usr/local/lib/python3.10/dist-packages (from librosa) (1.1.0)\r\n",
      "Requirement already satisfied: packaging in /usr/local/lib/python3.10/dist-packages (from lazy-loader>=0.1->librosa) (24.2)\r\n",
      "Requirement already satisfied: llvmlite<0.44,>=0.43.0dev0 in /usr/local/lib/python3.10/dist-packages (from numba>=0.51.0->librosa) (0.43.0)\r\n",
      "Requirement already satisfied: mkl_fft in /usr/local/lib/python3.10/dist-packages (from numpy!=1.22.0,!=1.22.1,!=1.22.2,>=1.20.3->librosa) (1.3.8)\r\n",
      "Requirement already satisfied: mkl_random in /usr/local/lib/python3.10/dist-packages (from numpy!=1.22.0,!=1.22.1,!=1.22.2,>=1.20.3->librosa) (1.2.4)\r\n",
      "Requirement already satisfied: mkl_umath in /usr/local/lib/python3.10/dist-packages (from numpy!=1.22.0,!=1.22.1,!=1.22.2,>=1.20.3->librosa) (0.1.1)\r\n",
      "Requirement already satisfied: mkl in /usr/local/lib/python3.10/dist-packages (from numpy!=1.22.0,!=1.22.1,!=1.22.2,>=1.20.3->librosa) (2025.0.1)\r\n",
      "Requirement already satisfied: tbb4py in /usr/local/lib/python3.10/dist-packages (from numpy!=1.22.0,!=1.22.1,!=1.22.2,>=1.20.3->librosa) (2022.0.0)\r\n",
      "Requirement already satisfied: mkl-service in /usr/local/lib/python3.10/dist-packages (from numpy!=1.22.0,!=1.22.1,!=1.22.2,>=1.20.3->librosa) (2.4.1)\r\n",
      "Requirement already satisfied: platformdirs>=2.5.0 in /usr/local/lib/python3.10/dist-packages (from pooch>=1.1->librosa) (4.3.6)\r\n",
      "Requirement already satisfied: requests>=2.19.0 in /usr/local/lib/python3.10/dist-packages (from pooch>=1.1->librosa) (2.32.3)\r\n",
      "Requirement already satisfied: threadpoolctl>=2.0.0 in /usr/local/lib/python3.10/dist-packages (from scikit-learn>=0.20.0->librosa) (3.5.0)\r\n",
      "Requirement already satisfied: cffi>=1.0 in /usr/local/lib/python3.10/dist-packages (from soundfile>=0.12.1->librosa) (1.17.1)\r\n",
      "Requirement already satisfied: pycparser in /usr/local/lib/python3.10/dist-packages (from cffi>=1.0->soundfile>=0.12.1->librosa) (2.22)\r\n",
      "Requirement already satisfied: charset-normalizer<4,>=2 in /usr/local/lib/python3.10/dist-packages (from requests>=2.19.0->pooch>=1.1->librosa) (3.4.1)\r\n",
      "Requirement already satisfied: idna<4,>=2.5 in /usr/local/lib/python3.10/dist-packages (from requests>=2.19.0->pooch>=1.1->librosa) (3.10)\r\n",
      "Requirement already satisfied: urllib3<3,>=1.21.1 in /usr/local/lib/python3.10/dist-packages (from requests>=2.19.0->pooch>=1.1->librosa) (2.3.0)\r\n",
      "Requirement already satisfied: certifi>=2017.4.17 in /usr/local/lib/python3.10/dist-packages (from requests>=2.19.0->pooch>=1.1->librosa) (2025.1.31)\r\n",
      "Requirement already satisfied: intel-openmp>=2024 in /usr/local/lib/python3.10/dist-packages (from mkl->numpy!=1.22.0,!=1.22.1,!=1.22.2,>=1.20.3->librosa) (2024.2.0)\r\n",
      "Requirement already satisfied: tbb==2022.* in /usr/local/lib/python3.10/dist-packages (from mkl->numpy!=1.22.0,!=1.22.1,!=1.22.2,>=1.20.3->librosa) (2022.0.0)\r\n",
      "Requirement already satisfied: tcmlib==1.* in /usr/local/lib/python3.10/dist-packages (from tbb==2022.*->mkl->numpy!=1.22.0,!=1.22.1,!=1.22.2,>=1.20.3->librosa) (1.2.0)\r\n",
      "Requirement already satisfied: intel-cmplr-lib-rt in /usr/local/lib/python3.10/dist-packages (from mkl_umath->numpy!=1.22.0,!=1.22.1,!=1.22.2,>=1.20.3->librosa) (2024.2.0)\r\n",
      "Requirement already satisfied: intel-cmplr-lib-ur==2024.2.0 in /usr/local/lib/python3.10/dist-packages (from intel-openmp>=2024->mkl->numpy!=1.22.0,!=1.22.1,!=1.22.2,>=1.20.3->librosa) (2024.2.0)\r\n",
      "Requirement already satisfied: seaborn in /usr/local/lib/python3.10/dist-packages (0.12.2)\r\n",
      "Requirement already satisfied: numpy!=1.24.0,>=1.17 in /usr/local/lib/python3.10/dist-packages (from seaborn) (1.26.4)\r\n",
      "Requirement already satisfied: pandas>=0.25 in /usr/local/lib/python3.10/dist-packages (from seaborn) (2.2.3)\r\n",
      "Requirement already satisfied: matplotlib!=3.6.1,>=3.1 in /usr/local/lib/python3.10/dist-packages (from seaborn) (3.7.5)\r\n",
      "Requirement already satisfied: contourpy>=1.0.1 in /usr/local/lib/python3.10/dist-packages (from matplotlib!=3.6.1,>=3.1->seaborn) (1.3.1)\r\n",
      "Requirement already satisfied: cycler>=0.10 in /usr/local/lib/python3.10/dist-packages (from matplotlib!=3.6.1,>=3.1->seaborn) (0.12.1)\r\n",
      "Requirement already satisfied: fonttools>=4.22.0 in /usr/local/lib/python3.10/dist-packages (from matplotlib!=3.6.1,>=3.1->seaborn) (4.55.3)\r\n",
      "Requirement already satisfied: kiwisolver>=1.0.1 in /usr/local/lib/python3.10/dist-packages (from matplotlib!=3.6.1,>=3.1->seaborn) (1.4.7)\r\n",
      "Requirement already satisfied: packaging>=20.0 in /usr/local/lib/python3.10/dist-packages (from matplotlib!=3.6.1,>=3.1->seaborn) (24.2)\r\n",
      "Requirement already satisfied: pillow>=6.2.0 in /usr/local/lib/python3.10/dist-packages (from matplotlib!=3.6.1,>=3.1->seaborn) (11.0.0)\r\n",
      "Requirement already satisfied: pyparsing>=2.3.1 in /usr/local/lib/python3.10/dist-packages (from matplotlib!=3.6.1,>=3.1->seaborn) (3.2.0)\r\n",
      "Requirement already satisfied: python-dateutil>=2.7 in /usr/local/lib/python3.10/dist-packages (from matplotlib!=3.6.1,>=3.1->seaborn) (2.9.0.post0)\r\n",
      "Requirement already satisfied: mkl_fft in /usr/local/lib/python3.10/dist-packages (from numpy!=1.24.0,>=1.17->seaborn) (1.3.8)\r\n",
      "Requirement already satisfied: mkl_random in /usr/local/lib/python3.10/dist-packages (from numpy!=1.24.0,>=1.17->seaborn) (1.2.4)\r\n",
      "Requirement already satisfied: mkl_umath in /usr/local/lib/python3.10/dist-packages (from numpy!=1.24.0,>=1.17->seaborn) (0.1.1)\r\n",
      "Requirement already satisfied: mkl in /usr/local/lib/python3.10/dist-packages (from numpy!=1.24.0,>=1.17->seaborn) (2025.0.1)\r\n",
      "Requirement already satisfied: tbb4py in /usr/local/lib/python3.10/dist-packages (from numpy!=1.24.0,>=1.17->seaborn) (2022.0.0)\r\n",
      "Requirement already satisfied: mkl-service in /usr/local/lib/python3.10/dist-packages (from numpy!=1.24.0,>=1.17->seaborn) (2.4.1)\r\n",
      "Requirement already satisfied: pytz>=2020.1 in /usr/local/lib/python3.10/dist-packages (from pandas>=0.25->seaborn) (2025.1)\r\n",
      "Requirement already satisfied: tzdata>=2022.7 in /usr/local/lib/python3.10/dist-packages (from pandas>=0.25->seaborn) (2025.1)\r\n",
      "Requirement already satisfied: six>=1.5 in /usr/local/lib/python3.10/dist-packages (from python-dateutil>=2.7->matplotlib!=3.6.1,>=3.1->seaborn) (1.17.0)\r\n",
      "Requirement already satisfied: intel-openmp>=2024 in /usr/local/lib/python3.10/dist-packages (from mkl->numpy!=1.24.0,>=1.17->seaborn) (2024.2.0)\r\n",
      "Requirement already satisfied: tbb==2022.* in /usr/local/lib/python3.10/dist-packages (from mkl->numpy!=1.24.0,>=1.17->seaborn) (2022.0.0)\r\n",
      "Requirement already satisfied: tcmlib==1.* in /usr/local/lib/python3.10/dist-packages (from tbb==2022.*->mkl->numpy!=1.24.0,>=1.17->seaborn) (1.2.0)\r\n",
      "Requirement already satisfied: intel-cmplr-lib-rt in /usr/local/lib/python3.10/dist-packages (from mkl_umath->numpy!=1.24.0,>=1.17->seaborn) (2024.2.0)\r\n",
      "Requirement already satisfied: intel-cmplr-lib-ur==2024.2.0 in /usr/local/lib/python3.10/dist-packages (from intel-openmp>=2024->mkl->numpy!=1.24.0,>=1.17->seaborn) (2024.2.0)\r\n",
      "Collecting jiwer\r\n",
      "  Downloading jiwer-4.0.0-py3-none-any.whl.metadata (3.3 kB)\r\n",
      "Collecting click>=8.1.8 (from jiwer)\r\n",
      "  Downloading click-8.3.0-py3-none-any.whl.metadata (2.6 kB)\r\n",
      "Collecting rapidfuzz>=3.9.7 (from jiwer)\r\n",
      "  Downloading rapidfuzz-3.14.1-cp310-cp310-manylinux_2_27_x86_64.manylinux_2_28_x86_64.whl.metadata (12 kB)\r\n",
      "Downloading jiwer-4.0.0-py3-none-any.whl (23 kB)\r\n",
      "Downloading click-8.3.0-py3-none-any.whl (107 kB)\r\n",
      "\u001b[2K   \u001b[90m━━━━━━━━━━━━━━━━━━━━━━━━━━━━━━━━━━━━━━━━\u001b[0m \u001b[32m107.3/107.3 kB\u001b[0m \u001b[31m4.0 MB/s\u001b[0m eta \u001b[36m0:00:00\u001b[0m\r\n",
      "\u001b[?25hDownloading rapidfuzz-3.14.1-cp310-cp310-manylinux_2_27_x86_64.manylinux_2_28_x86_64.whl (3.2 MB)\r\n",
      "\u001b[2K   \u001b[90m━━━━━━━━━━━━━━━━━━━━━━━━━━━━━━━━━━━━━━━━\u001b[0m \u001b[32m3.2/3.2 MB\u001b[0m \u001b[31m59.0 MB/s\u001b[0m eta \u001b[36m0:00:00\u001b[0m\r\n",
      "\u001b[?25hInstalling collected packages: rapidfuzz, click, jiwer\r\n",
      "  Attempting uninstall: click\r\n",
      "    Found existing installation: click 8.1.7\r\n",
      "    Uninstalling click-8.1.7:\r\n",
      "      Successfully uninstalled click-8.1.7\r\n",
      "\u001b[31mERROR: pip's dependency resolver does not currently take into account all the packages that are installed. This behaviour is the source of the following dependency conflicts.\r\n",
      "kaggle-environments 1.16.11 requires transformers>=4.33.1, but you have transformers 4.17.0 which is incompatible.\u001b[0m\u001b[31m\r\n",
      "\u001b[0mSuccessfully installed click-8.3.0 jiwer-4.0.0 rapidfuzz-3.14.1\r\n",
      "Collecting phonecodes\r\n",
      "  Downloading phonecodes-1.2.2-py3-none-any.whl.metadata (6.7 kB)\r\n",
      "Downloading phonecodes-1.2.2-py3-none-any.whl (16 kB)\r\n",
      "Installing collected packages: phonecodes\r\n",
      "Successfully installed phonecodes-1.2.2\r\n",
      "Collecting evaluate\r\n",
      "  Downloading evaluate-0.4.6-py3-none-any.whl.metadata (9.5 kB)\r\n",
      "Requirement already satisfied: datasets>=2.0.0 in /usr/local/lib/python3.10/dist-packages (from evaluate) (3.3.1)\r\n",
      "Requirement already satisfied: numpy>=1.17 in /usr/local/lib/python3.10/dist-packages (from evaluate) (1.26.4)\r\n",
      "Requirement already satisfied: dill in /usr/local/lib/python3.10/dist-packages (from evaluate) (0.3.8)\r\n",
      "Requirement already satisfied: pandas in /usr/local/lib/python3.10/dist-packages (from evaluate) (2.2.3)\r\n",
      "Requirement already satisfied: requests>=2.19.0 in /usr/local/lib/python3.10/dist-packages (from evaluate) (2.32.3)\r\n",
      "Requirement already satisfied: tqdm>=4.62.1 in /usr/local/lib/python3.10/dist-packages (from evaluate) (4.67.1)\r\n",
      "Requirement already satisfied: xxhash in /usr/local/lib/python3.10/dist-packages (from evaluate) (3.5.0)\r\n",
      "Requirement already satisfied: multiprocess in /usr/local/lib/python3.10/dist-packages (from evaluate) (0.70.16)\r\n",
      "Requirement already satisfied: fsspec>=2021.05.0 in /usr/local/lib/python3.10/dist-packages (from fsspec[http]>=2021.05.0->evaluate) (2024.12.0)\r\n",
      "Requirement already satisfied: huggingface-hub>=0.7.0 in /usr/local/lib/python3.10/dist-packages (from evaluate) (0.29.0)\r\n",
      "Requirement already satisfied: packaging in /usr/local/lib/python3.10/dist-packages (from evaluate) (24.2)\r\n",
      "Requirement already satisfied: filelock in /usr/local/lib/python3.10/dist-packages (from datasets>=2.0.0->evaluate) (3.17.0)\r\n",
      "Requirement already satisfied: pyarrow>=15.0.0 in /usr/local/lib/python3.10/dist-packages (from datasets>=2.0.0->evaluate) (19.0.1)\r\n",
      "Requirement already satisfied: aiohttp in /usr/local/lib/python3.10/dist-packages (from datasets>=2.0.0->evaluate) (3.11.12)\r\n",
      "Requirement already satisfied: pyyaml>=5.1 in /usr/local/lib/python3.10/dist-packages (from datasets>=2.0.0->evaluate) (6.0.2)\r\n",
      "Requirement already satisfied: typing-extensions>=3.7.4.3 in /usr/local/lib/python3.10/dist-packages (from huggingface-hub>=0.7.0->evaluate) (4.12.2)\r\n",
      "Requirement already satisfied: mkl_fft in /usr/local/lib/python3.10/dist-packages (from numpy>=1.17->evaluate) (1.3.8)\r\n",
      "Requirement already satisfied: mkl_random in /usr/local/lib/python3.10/dist-packages (from numpy>=1.17->evaluate) (1.2.4)\r\n",
      "Requirement already satisfied: mkl_umath in /usr/local/lib/python3.10/dist-packages (from numpy>=1.17->evaluate) (0.1.1)\r\n",
      "Requirement already satisfied: mkl in /usr/local/lib/python3.10/dist-packages (from numpy>=1.17->evaluate) (2025.0.1)\r\n",
      "Requirement already satisfied: tbb4py in /usr/local/lib/python3.10/dist-packages (from numpy>=1.17->evaluate) (2022.0.0)\r\n",
      "Requirement already satisfied: mkl-service in /usr/local/lib/python3.10/dist-packages (from numpy>=1.17->evaluate) (2.4.1)\r\n",
      "Requirement already satisfied: charset-normalizer<4,>=2 in /usr/local/lib/python3.10/dist-packages (from requests>=2.19.0->evaluate) (3.4.1)\r\n",
      "Requirement already satisfied: idna<4,>=2.5 in /usr/local/lib/python3.10/dist-packages (from requests>=2.19.0->evaluate) (3.10)\r\n",
      "Requirement already satisfied: urllib3<3,>=1.21.1 in /usr/local/lib/python3.10/dist-packages (from requests>=2.19.0->evaluate) (2.3.0)\r\n",
      "Requirement already satisfied: certifi>=2017.4.17 in /usr/local/lib/python3.10/dist-packages (from requests>=2.19.0->evaluate) (2025.1.31)\r\n",
      "Requirement already satisfied: python-dateutil>=2.8.2 in /usr/local/lib/python3.10/dist-packages (from pandas->evaluate) (2.9.0.post0)\r\n",
      "Requirement already satisfied: pytz>=2020.1 in /usr/local/lib/python3.10/dist-packages (from pandas->evaluate) (2025.1)\r\n",
      "Requirement already satisfied: tzdata>=2022.7 in /usr/local/lib/python3.10/dist-packages (from pandas->evaluate) (2025.1)\r\n",
      "Requirement already satisfied: aiohappyeyeballs>=2.3.0 in /usr/local/lib/python3.10/dist-packages (from aiohttp->datasets>=2.0.0->evaluate) (2.4.6)\r\n",
      "Requirement already satisfied: aiosignal>=1.1.2 in /usr/local/lib/python3.10/dist-packages (from aiohttp->datasets>=2.0.0->evaluate) (1.3.2)\r\n",
      "Requirement already satisfied: async-timeout<6.0,>=4.0 in /usr/local/lib/python3.10/dist-packages (from aiohttp->datasets>=2.0.0->evaluate) (5.0.1)\r\n",
      "Requirement already satisfied: attrs>=17.3.0 in /usr/local/lib/python3.10/dist-packages (from aiohttp->datasets>=2.0.0->evaluate) (25.1.0)\r\n",
      "Requirement already satisfied: frozenlist>=1.1.1 in /usr/local/lib/python3.10/dist-packages (from aiohttp->datasets>=2.0.0->evaluate) (1.5.0)\r\n",
      "Requirement already satisfied: multidict<7.0,>=4.5 in /usr/local/lib/python3.10/dist-packages (from aiohttp->datasets>=2.0.0->evaluate) (6.1.0)\r\n",
      "Requirement already satisfied: propcache>=0.2.0 in /usr/local/lib/python3.10/dist-packages (from aiohttp->datasets>=2.0.0->evaluate) (0.2.1)\r\n",
      "Requirement already satisfied: yarl<2.0,>=1.17.0 in /usr/local/lib/python3.10/dist-packages (from aiohttp->datasets>=2.0.0->evaluate) (1.18.3)\r\n",
      "Requirement already satisfied: six>=1.5 in /usr/local/lib/python3.10/dist-packages (from python-dateutil>=2.8.2->pandas->evaluate) (1.17.0)\r\n",
      "Requirement already satisfied: intel-openmp>=2024 in /usr/local/lib/python3.10/dist-packages (from mkl->numpy>=1.17->evaluate) (2024.2.0)\r\n",
      "Requirement already satisfied: tbb==2022.* in /usr/local/lib/python3.10/dist-packages (from mkl->numpy>=1.17->evaluate) (2022.0.0)\r\n",
      "Requirement already satisfied: tcmlib==1.* in /usr/local/lib/python3.10/dist-packages (from tbb==2022.*->mkl->numpy>=1.17->evaluate) (1.2.0)\r\n",
      "Requirement already satisfied: intel-cmplr-lib-rt in /usr/local/lib/python3.10/dist-packages (from mkl_umath->numpy>=1.17->evaluate) (2024.2.0)\r\n",
      "Requirement already satisfied: intel-cmplr-lib-ur==2024.2.0 in /usr/local/lib/python3.10/dist-packages (from intel-openmp>=2024->mkl->numpy>=1.17->evaluate) (2024.2.0)\r\n",
      "Downloading evaluate-0.4.6-py3-none-any.whl (84 kB)\r\n",
      "\u001b[2K   \u001b[90m━━━━━━━━━━━━━━━━━━━━━━━━━━━━━━━━━━━━━━━━\u001b[0m \u001b[32m84.1/84.1 kB\u001b[0m \u001b[31m2.6 MB/s\u001b[0m eta \u001b[36m0:00:00\u001b[0m\r\n",
      "\u001b[?25hInstalling collected packages: evaluate\r\n",
      "Successfully installed evaluate-0.4.6\r\n"
     ]
    }
   ],
   "source": [
    "!pip install datasets>=1.18.3\n",
    "!pip install transformers==4.17.0\n",
    "!pip install librosa\n",
    "!pip install seaborn\n",
    "!pip install jiwer\n",
    "!pip install phonecodes\n",
    "!pip install evaluate"
   ]
  },
  {
   "cell_type": "markdown",
   "id": "0cc227be",
   "metadata": {
    "papermill": {
     "duration": 0.011112,
     "end_time": "2025-10-16T14:20:22.639630",
     "exception": false,
     "start_time": "2025-10-16T14:20:22.628518",
     "status": "completed"
    },
    "tags": []
   },
   "source": [
    "# Dataset handling"
   ]
  },
  {
   "cell_type": "markdown",
   "id": "13d73dd3",
   "metadata": {
    "papermill": {
     "duration": 0.010261,
     "end_time": "2025-10-16T14:20:22.660598",
     "exception": false,
     "start_time": "2025-10-16T14:20:22.650337",
     "status": "completed"
    },
    "tags": []
   },
   "source": [
    "## load dataset"
   ]
  },
  {
   "cell_type": "code",
   "execution_count": 2,
   "id": "5bbb6093",
   "metadata": {
    "execution": {
     "iopub.execute_input": "2025-10-16T14:20:22.684588Z",
     "iopub.status.busy": "2025-10-16T14:20:22.684062Z",
     "iopub.status.idle": "2025-10-16T14:20:53.648780Z",
     "shell.execute_reply": "2025-10-16T14:20:53.647653Z"
    },
    "papermill": {
     "duration": 30.97948,
     "end_time": "2025-10-16T14:20:53.650946",
     "exception": false,
     "start_time": "2025-10-16T14:20:22.671466",
     "status": "completed"
    },
    "tags": []
   },
   "outputs": [],
   "source": [
    "from datasets import load_dataset, Audio, Dataset\n",
    "from tqdm.auto import tqdm\n",
    "\n",
    "import os\n",
    "import numpy as np\n",
    "import pandas as pd\n",
    "import torchaudio\n",
    "import evaluate\n",
    "from phonecodes import phonecodes\n",
    "\n",
    "\n",
    "# disables weight and bias tracking. I think deprecated?\n",
    "#os.environ[\"WANDB_DISABLED\"] = \"true\""
   ]
  },
  {
   "cell_type": "code",
   "execution_count": 3,
   "id": "90fce699",
   "metadata": {
    "execution": {
     "iopub.execute_input": "2025-10-16T14:20:53.674907Z",
     "iopub.status.busy": "2025-10-16T14:20:53.673914Z",
     "iopub.status.idle": "2025-10-16T14:20:53.679600Z",
     "shell.execute_reply": "2025-10-16T14:20:53.678273Z"
    },
    "papermill": {
     "duration": 0.019714,
     "end_time": "2025-10-16T14:20:53.681594",
     "exception": false,
     "start_time": "2025-10-16T14:20:53.661880",
     "status": "completed"
    },
    "tags": []
   },
   "outputs": [],
   "source": [
    "#add input source from right menu first\n",
    "audio_folder = \"/kaggle/input/ulster-irish-audio/wav_files/\"\n",
    "data_path = \"/kaggle/input/ulster-wav-phon/irish_data_cleaned.csv\""
   ]
  },
  {
   "cell_type": "code",
   "execution_count": 4,
   "id": "b18ebe5e",
   "metadata": {
    "execution": {
     "iopub.execute_input": "2025-10-16T14:20:53.705494Z",
     "iopub.status.busy": "2025-10-16T14:20:53.705032Z",
     "iopub.status.idle": "2025-10-16T14:20:53.774488Z",
     "shell.execute_reply": "2025-10-16T14:20:53.773062Z"
    },
    "papermill": {
     "duration": 0.08376,
     "end_time": "2025-10-16T14:20:53.776898",
     "exception": false,
     "start_time": "2025-10-16T14:20:53.693138",
     "status": "completed"
    },
    "tags": []
   },
   "outputs": [],
   "source": [
    "data_df = pd.read_csv(data_path)"
   ]
  },
  {
   "cell_type": "markdown",
   "id": "5f29587b",
   "metadata": {
    "papermill": {
     "duration": 0.010569,
     "end_time": "2025-10-16T14:20:53.798384",
     "exception": false,
     "start_time": "2025-10-16T14:20:53.787815",
     "status": "completed"
    },
    "tags": []
   },
   "source": [
    "file was decapitalized for some reason when uploading to kaggle"
   ]
  },
  {
   "cell_type": "code",
   "execution_count": 5,
   "id": "2d69881f",
   "metadata": {
    "execution": {
     "iopub.execute_input": "2025-10-16T14:20:53.821721Z",
     "iopub.status.busy": "2025-10-16T14:20:53.821299Z",
     "iopub.status.idle": "2025-10-16T14:20:53.832924Z",
     "shell.execute_reply": "2025-10-16T14:20:53.831585Z"
    },
    "papermill": {
     "duration": 0.026009,
     "end_time": "2025-10-16T14:20:53.835011",
     "exception": false,
     "start_time": "2025-10-16T14:20:53.809002",
     "status": "completed"
    },
    "tags": []
   },
   "outputs": [],
   "source": [
    "data_df.replace(to_replace=\"R.wav\",value=\"r.wav\",inplace=True)"
   ]
  },
  {
   "cell_type": "markdown",
   "id": "cba287a8",
   "metadata": {
    "papermill": {
     "duration": 0.010406,
     "end_time": "2025-10-16T14:20:53.856109",
     "exception": false,
     "start_time": "2025-10-16T14:20:53.845703",
     "status": "completed"
    },
    "tags": []
   },
   "source": [
    "complete file path for easier processing"
   ]
  },
  {
   "cell_type": "code",
   "execution_count": 6,
   "id": "5a40ae0b",
   "metadata": {
    "execution": {
     "iopub.execute_input": "2025-10-16T14:20:53.879160Z",
     "iopub.status.busy": "2025-10-16T14:20:53.878708Z",
     "iopub.status.idle": "2025-10-16T14:20:53.896700Z",
     "shell.execute_reply": "2025-10-16T14:20:53.895514Z"
    },
    "papermill": {
     "duration": 0.031985,
     "end_time": "2025-10-16T14:20:53.898720",
     "exception": false,
     "start_time": "2025-10-16T14:20:53.866735",
     "status": "completed"
    },
    "tags": []
   },
   "outputs": [],
   "source": [
    "data_df[\"file\"] = data_df[\"file\"].map(lambda x: audio_folder + x)"
   ]
  },
  {
   "cell_type": "code",
   "execution_count": 7,
   "id": "320ddf13",
   "metadata": {
    "execution": {
     "iopub.execute_input": "2025-10-16T14:20:53.921428Z",
     "iopub.status.busy": "2025-10-16T14:20:53.921007Z",
     "iopub.status.idle": "2025-10-16T14:20:53.945860Z",
     "shell.execute_reply": "2025-10-16T14:20:53.944484Z"
    },
    "papermill": {
     "duration": 0.038293,
     "end_time": "2025-10-16T14:20:53.947759",
     "exception": false,
     "start_time": "2025-10-16T14:20:53.909466",
     "status": "completed"
    },
    "tags": []
   },
   "outputs": [
    {
     "data": {
      "text/html": [
       "<div>\n",
       "<style scoped>\n",
       "    .dataframe tbody tr th:only-of-type {\n",
       "        vertical-align: middle;\n",
       "    }\n",
       "\n",
       "    .dataframe tbody tr th {\n",
       "        vertical-align: top;\n",
       "    }\n",
       "\n",
       "    .dataframe thead th {\n",
       "        text-align: right;\n",
       "    }\n",
       "</style>\n",
       "<table border=\"1\" class=\"dataframe\">\n",
       "  <thead>\n",
       "    <tr style=\"text-align: right;\">\n",
       "      <th></th>\n",
       "      <th>file</th>\n",
       "      <th>phonemes</th>\n",
       "    </tr>\n",
       "  </thead>\n",
       "  <tbody>\n",
       "    <tr>\n",
       "      <th>0</th>\n",
       "      <td>/kaggle/input/ulster-irish-audio/wav_files/lit...</td>\n",
       "      <td>lʲ i tʲ ia mˠ</td>\n",
       "    </tr>\n",
       "    <tr>\n",
       "      <th>1</th>\n",
       "      <td>/kaggle/input/ulster-irish-audio/wav_files/cod...</td>\n",
       "      <td>ˈ k o d̪ˠ ə lʲ</td>\n",
       "    </tr>\n",
       "    <tr>\n",
       "      <th>2</th>\n",
       "      <td>/kaggle/input/ulster-irish-audio/wav_files/cae...</td>\n",
       "      <td>k eː ʃ ia mˠ</td>\n",
       "    </tr>\n",
       "    <tr>\n",
       "      <th>3</th>\n",
       "      <td>/kaggle/input/ulster-irish-audio/wav_files/asp...</td>\n",
       "      <td>ˈ a sˠ pˠ ə l̻ˠ o dʲ</td>\n",
       "    </tr>\n",
       "    <tr>\n",
       "      <th>4</th>\n",
       "      <td>/kaggle/input/ulster-irish-audio/wav_files/cei...</td>\n",
       "      <td>c e fʲ i lʲ ə pˠ o d̪ˠ</td>\n",
       "    </tr>\n",
       "  </tbody>\n",
       "</table>\n",
       "</div>"
      ],
      "text/plain": [
       "                                                file                phonemes\n",
       "0  /kaggle/input/ulster-irish-audio/wav_files/lit...           lʲ i tʲ ia mˠ\n",
       "1  /kaggle/input/ulster-irish-audio/wav_files/cod...          ˈ k o d̪ˠ ə lʲ\n",
       "2  /kaggle/input/ulster-irish-audio/wav_files/cae...            k eː ʃ ia mˠ\n",
       "3  /kaggle/input/ulster-irish-audio/wav_files/asp...    ˈ a sˠ pˠ ə l̻ˠ o dʲ\n",
       "4  /kaggle/input/ulster-irish-audio/wav_files/cei...  c e fʲ i lʲ ə pˠ o d̪ˠ"
      ]
     },
     "execution_count": 7,
     "metadata": {},
     "output_type": "execute_result"
    }
   ],
   "source": [
    "data_df.head()"
   ]
  },
  {
   "cell_type": "markdown",
   "id": "913f4855",
   "metadata": {
    "papermill": {
     "duration": 0.010736,
     "end_time": "2025-10-16T14:20:53.970492",
     "exception": false,
     "start_time": "2025-10-16T14:20:53.959756",
     "status": "completed"
    },
    "tags": []
   },
   "source": [
    "## Split Dataset"
   ]
  },
  {
   "cell_type": "markdown",
   "id": "f5944d90",
   "metadata": {
    "papermill": {
     "duration": 0.010502,
     "end_time": "2025-10-16T14:20:53.992090",
     "exception": false,
     "start_time": "2025-10-16T14:20:53.981588",
     "status": "completed"
    },
    "tags": []
   },
   "source": [
    "### Resplit\n",
    "resplit combined set back into random train/val/test split"
   ]
  },
  {
   "cell_type": "code",
   "execution_count": 8,
   "id": "c6927994",
   "metadata": {
    "execution": {
     "iopub.execute_input": "2025-10-16T14:20:54.015684Z",
     "iopub.status.busy": "2025-10-16T14:20:54.015340Z",
     "iopub.status.idle": "2025-10-16T14:20:54.080155Z",
     "shell.execute_reply": "2025-10-16T14:20:54.078686Z"
    },
    "papermill": {
     "duration": 0.079282,
     "end_time": "2025-10-16T14:20:54.082564",
     "exception": false,
     "start_time": "2025-10-16T14:20:54.003282",
     "status": "completed"
    },
    "tags": []
   },
   "outputs": [],
   "source": [
    "data_list = data_df.to_dict(orient=\"records\")\n",
    "data = {idx: row for (idx, row) in enumerate(data_list)}"
   ]
  },
  {
   "cell_type": "code",
   "execution_count": 9,
   "id": "90589fe2",
   "metadata": {
    "execution": {
     "iopub.execute_input": "2025-10-16T14:20:54.106670Z",
     "iopub.status.busy": "2025-10-16T14:20:54.106215Z",
     "iopub.status.idle": "2025-10-16T14:20:54.128590Z",
     "shell.execute_reply": "2025-10-16T14:20:54.127312Z"
    },
    "papermill": {
     "duration": 0.037302,
     "end_time": "2025-10-16T14:20:54.131128",
     "exception": false,
     "start_time": "2025-10-16T14:20:54.093826",
     "status": "completed"
    },
    "tags": []
   },
   "outputs": [],
   "source": [
    "import random\n",
    "\n",
    "keys = [key for key in data.keys() if len(data[key]) == 2]\n",
    "random.Random(101).shuffle(keys)\n",
    "\n",
    "num_train = int(len(keys) * 0.8)\n",
    "num_valid = int(len(keys) * 0.1)\n",
    "num_test = len(keys) - num_train - num_valid\n",
    "\n",
    "train_keys = keys[:num_train]\n",
    "valid_keys = keys[num_train:num_train + num_valid]\n",
    "test_keys = keys[-num_test:]"
   ]
  },
  {
   "cell_type": "code",
   "execution_count": 10,
   "id": "622dc9e1",
   "metadata": {
    "execution": {
     "iopub.execute_input": "2025-10-16T14:20:54.155677Z",
     "iopub.status.busy": "2025-10-16T14:20:54.155180Z",
     "iopub.status.idle": "2025-10-16T14:20:54.168665Z",
     "shell.execute_reply": "2025-10-16T14:20:54.167356Z"
    },
    "papermill": {
     "duration": 0.027762,
     "end_time": "2025-10-16T14:20:54.170483",
     "exception": false,
     "start_time": "2025-10-16T14:20:54.142721",
     "status": "completed"
    },
    "tags": []
   },
   "outputs": [],
   "source": [
    "train = { key:data[key] for key in train_keys}#[:int(len(train_keys)*.561)] }\n",
    "valid = { key:data[key] for key in valid_keys}#[:int(len(valid_keys)*.561)] }\n",
    "test  = { key:data[key] for key in test_keys}#[:int(len(test_keys)*.561)] }"
   ]
  },
  {
   "cell_type": "markdown",
   "id": "1fe4e349",
   "metadata": {
    "papermill": {
     "duration": 0.010754,
     "end_time": "2025-10-16T14:20:54.192728",
     "exception": false,
     "start_time": "2025-10-16T14:20:54.181974",
     "status": "completed"
    },
    "tags": []
   },
   "source": [
    "How much data is in each set?"
   ]
  },
  {
   "cell_type": "code",
   "execution_count": 11,
   "id": "dcb8fb00",
   "metadata": {
    "execution": {
     "iopub.execute_input": "2025-10-16T14:20:54.216738Z",
     "iopub.status.busy": "2025-10-16T14:20:54.216317Z",
     "iopub.status.idle": "2025-10-16T14:20:54.236136Z",
     "shell.execute_reply": "2025-10-16T14:20:54.234663Z"
    },
    "papermill": {
     "duration": 0.03446,
     "end_time": "2025-10-16T14:20:54.238483",
     "exception": false,
     "start_time": "2025-10-16T14:20:54.204023",
     "status": "completed"
    },
    "tags": []
   },
   "outputs": [],
   "source": [
    "import librosa\n",
    "\n",
    "def get_durations(dict_data):\n",
    "    total_durations = 0\n",
    "\n",
    "    for entry in dict_data.values():\n",
    "        audio_data, _ = librosa.load(entry['file'], sr=16_000)\n",
    "        duration = len(audio_data) / 16_000\n",
    "        total_durations += duration\n",
    "\n",
    "    return int(total_durations)"
   ]
  },
  {
   "cell_type": "code",
   "execution_count": 12,
   "id": "16c5cafb",
   "metadata": {
    "execution": {
     "iopub.execute_input": "2025-10-16T14:20:54.263861Z",
     "iopub.status.busy": "2025-10-16T14:20:54.263458Z",
     "iopub.status.idle": "2025-10-16T14:23:17.267645Z",
     "shell.execute_reply": "2025-10-16T14:23:17.266652Z"
    },
    "papermill": {
     "duration": 143.01828,
     "end_time": "2025-10-16T14:23:17.269217",
     "exception": false,
     "start_time": "2025-10-16T14:20:54.250937",
     "status": "completed"
    },
    "tags": []
   },
   "outputs": [
    {
     "name": "stdout",
     "output_type": "stream",
     "text": [
      "Duration of Train: 244 mns\n",
      "Duration of Valid: 30 mns\n",
      "Duration of Test : 30 mns\n"
     ]
    }
   ],
   "source": [
    "print(f\"Duration of Train: {get_durations(train) // 60} mns\")\n",
    "print(f\"Duration of Valid: {get_durations(valid) // 60} mns\")\n",
    "print(f\"Duration of Test : {get_durations(test) // 60} mns\")"
   ]
  },
  {
   "cell_type": "markdown",
   "id": "dc372309",
   "metadata": {
    "papermill": {
     "duration": 0.010457,
     "end_time": "2025-10-16T14:23:17.290759",
     "exception": false,
     "start_time": "2025-10-16T14:23:17.280302",
     "status": "completed"
    },
    "tags": []
   },
   "source": [
    "## Preprocessing\n",
    "convert to HuggingFace Dataset Format"
   ]
  },
  {
   "cell_type": "code",
   "execution_count": 13,
   "id": "c1770cf5",
   "metadata": {
    "execution": {
     "iopub.execute_input": "2025-10-16T14:23:17.314082Z",
     "iopub.status.busy": "2025-10-16T14:23:17.313339Z",
     "iopub.status.idle": "2025-10-16T14:23:17.318386Z",
     "shell.execute_reply": "2025-10-16T14:23:17.317553Z"
    },
    "papermill": {
     "duration": 0.017766,
     "end_time": "2025-10-16T14:23:17.319662",
     "exception": false,
     "start_time": "2025-10-16T14:23:17.301896",
     "status": "completed"
    },
    "tags": []
   },
   "outputs": [],
   "source": [
    "def convert_to_feature_dict(data_dict):\n",
    "    # convert each feature into an array instead\n",
    "    audio_files = []\n",
    "    phonetic = []\n",
    "    for key, value in data_dict.items():\n",
    "        audio_files.append(value['file'])\n",
    "        phonetic.append(value['phonemes'])\n",
    "    \n",
    "    return {\n",
    "        'audio_file': audio_files,\n",
    "        'phonetic': phonetic\n",
    "    }"
   ]
  },
  {
   "cell_type": "code",
   "execution_count": 14,
   "id": "105b1bdc",
   "metadata": {
    "execution": {
     "iopub.execute_input": "2025-10-16T14:23:17.342525Z",
     "iopub.status.busy": "2025-10-16T14:23:17.342134Z",
     "iopub.status.idle": "2025-10-16T14:23:17.360149Z",
     "shell.execute_reply": "2025-10-16T14:23:17.359085Z"
    },
    "papermill": {
     "duration": 0.031251,
     "end_time": "2025-10-16T14:23:17.361659",
     "exception": false,
     "start_time": "2025-10-16T14:23:17.330408",
     "status": "completed"
    },
    "tags": []
   },
   "outputs": [],
   "source": [
    "train = convert_to_feature_dict(train)\n",
    "valid = convert_to_feature_dict(valid)\n",
    "test  = convert_to_feature_dict(test)"
   ]
  },
  {
   "cell_type": "code",
   "execution_count": 15,
   "id": "dd5bfc4e",
   "metadata": {
    "execution": {
     "iopub.execute_input": "2025-10-16T14:23:17.384398Z",
     "iopub.status.busy": "2025-10-16T14:23:17.384011Z",
     "iopub.status.idle": "2025-10-16T14:23:17.444170Z",
     "shell.execute_reply": "2025-10-16T14:23:17.443078Z"
    },
    "papermill": {
     "duration": 0.073394,
     "end_time": "2025-10-16T14:23:17.445898",
     "exception": false,
     "start_time": "2025-10-16T14:23:17.372504",
     "status": "completed"
    },
    "tags": []
   },
   "outputs": [],
   "source": [
    "train_dataset = Dataset.from_dict(train)\n",
    "valid_dataset = Dataset.from_dict(valid)\n",
    "test_dataset = Dataset.from_dict(test)"
   ]
  },
  {
   "cell_type": "code",
   "execution_count": 16,
   "id": "111c3c37",
   "metadata": {
    "execution": {
     "iopub.execute_input": "2025-10-16T14:23:17.468972Z",
     "iopub.status.busy": "2025-10-16T14:23:17.468592Z",
     "iopub.status.idle": "2025-10-16T14:23:17.473700Z",
     "shell.execute_reply": "2025-10-16T14:23:17.472670Z"
    },
    "papermill": {
     "duration": 0.018433,
     "end_time": "2025-10-16T14:23:17.475264",
     "exception": false,
     "start_time": "2025-10-16T14:23:17.456831",
     "status": "completed"
    },
    "tags": []
   },
   "outputs": [
    {
     "name": "stdout",
     "output_type": "stream",
     "text": [
      "Dataset({\n",
      "    features: ['audio_file', 'phonetic'],\n",
      "    num_rows: 15308\n",
      "})\n"
     ]
    }
   ],
   "source": [
    "print(train_dataset)"
   ]
  },
  {
   "cell_type": "markdown",
   "id": "0b942f8e",
   "metadata": {
    "papermill": {
     "duration": 0.010455,
     "end_time": "2025-10-16T14:23:17.496669",
     "exception": false,
     "start_time": "2025-10-16T14:23:17.486214",
     "status": "completed"
    },
    "tags": []
   },
   "source": [
    "We will strip primary and secondary stress markers to focus only on segmental feature prediction."
   ]
  },
  {
   "cell_type": "code",
   "execution_count": 17,
   "id": "a2b808ce",
   "metadata": {
    "execution": {
     "iopub.execute_input": "2025-10-16T14:23:17.519660Z",
     "iopub.status.busy": "2025-10-16T14:23:17.519300Z",
     "iopub.status.idle": "2025-10-16T14:23:17.524479Z",
     "shell.execute_reply": "2025-10-16T14:23:17.523523Z"
    },
    "papermill": {
     "duration": 0.018734,
     "end_time": "2025-10-16T14:23:17.526270",
     "exception": false,
     "start_time": "2025-10-16T14:23:17.507536",
     "status": "completed"
    },
    "tags": []
   },
   "outputs": [],
   "source": [
    "primary_stress = \"ˈ\"\n",
    "secondary_stress = \"ˌ\"\n",
    "suprasegmentals = {primary_stress, secondary_stress}\n",
    "condition = lambda x: x in suprasegmentals  \n",
    "def strip_suprasegmentals(example):\n",
    "    phon_string = example['phonetic']\n",
    "    phone_list = phon_string.split()\n",
    "    stripped_list = list(filter(lambda x: not condition(x), phone_list))\n",
    "    stripped_string = \" \".join(stripped_list)\n",
    "    example['phonetic'] = stripped_string\n",
    "    return example"
   ]
  },
  {
   "cell_type": "code",
   "execution_count": 18,
   "id": "e30c4d71",
   "metadata": {
    "execution": {
     "iopub.execute_input": "2025-10-16T14:23:17.550961Z",
     "iopub.status.busy": "2025-10-16T14:23:17.550646Z",
     "iopub.status.idle": "2025-10-16T14:23:18.643575Z",
     "shell.execute_reply": "2025-10-16T14:23:18.642692Z"
    },
    "papermill": {
     "duration": 1.107256,
     "end_time": "2025-10-16T14:23:18.645103",
     "exception": false,
     "start_time": "2025-10-16T14:23:17.537847",
     "status": "completed"
    },
    "tags": []
   },
   "outputs": [
    {
     "data": {
      "application/vnd.jupyter.widget-view+json": {
       "model_id": "3e17d7bf70574c7e910ca0678154be8f",
       "version_major": 2,
       "version_minor": 0
      },
      "text/plain": [
       "Map:   0%|          | 0/15308 [00:00<?, ? examples/s]"
      ]
     },
     "metadata": {},
     "output_type": "display_data"
    },
    {
     "data": {
      "application/vnd.jupyter.widget-view+json": {
       "model_id": "43edc5dbc30342a8b4cd54f3779b2f99",
       "version_major": 2,
       "version_minor": 0
      },
      "text/plain": [
       "Map:   0%|          | 0/1913 [00:00<?, ? examples/s]"
      ]
     },
     "metadata": {},
     "output_type": "display_data"
    },
    {
     "data": {
      "application/vnd.jupyter.widget-view+json": {
       "model_id": "2a41b4d1f1db46ec8ffbe0b129bf0f37",
       "version_major": 2,
       "version_minor": 0
      },
      "text/plain": [
       "Map:   0%|          | 0/1915 [00:00<?, ? examples/s]"
      ]
     },
     "metadata": {},
     "output_type": "display_data"
    }
   ],
   "source": [
    "train_dataset = train_dataset.map(strip_suprasegmentals)\n",
    "valid_dataset = valid_dataset.map(strip_suprasegmentals)\n",
    "test_dataset = test_dataset.map(strip_suprasegmentals)"
   ]
  },
  {
   "cell_type": "code",
   "execution_count": 19,
   "id": "47c7ac91",
   "metadata": {
    "execution": {
     "iopub.execute_input": "2025-10-16T14:23:18.669103Z",
     "iopub.status.busy": "2025-10-16T14:23:18.668768Z",
     "iopub.status.idle": "2025-10-16T14:23:18.674548Z",
     "shell.execute_reply": "2025-10-16T14:23:18.673632Z"
    },
    "papermill": {
     "duration": 0.019247,
     "end_time": "2025-10-16T14:23:18.675906",
     "exception": false,
     "start_time": "2025-10-16T14:23:18.656659",
     "status": "completed"
    },
    "tags": []
   },
   "outputs": [
    {
     "data": {
      "text/plain": [
       "{'audio_file': '/kaggle/input/ulster-irish-audio/wav_files/carbad.wav',\n",
       " 'phonetic': 'k a ɾˠ ə bˠ ə d̪ˠ'}"
      ]
     },
     "execution_count": 19,
     "metadata": {},
     "output_type": "execute_result"
    }
   ],
   "source": [
    "train_dataset[0]"
   ]
  },
  {
   "cell_type": "code",
   "execution_count": 20,
   "id": "72dcc813",
   "metadata": {
    "execution": {
     "iopub.execute_input": "2025-10-16T14:23:18.700148Z",
     "iopub.status.busy": "2025-10-16T14:23:18.699796Z",
     "iopub.status.idle": "2025-10-16T14:23:19.167498Z",
     "shell.execute_reply": "2025-10-16T14:23:19.166425Z"
    },
    "papermill": {
     "duration": 0.48139,
     "end_time": "2025-10-16T14:23:19.169084",
     "exception": false,
     "start_time": "2025-10-16T14:23:18.687694",
     "status": "completed"
    },
    "tags": []
   },
   "outputs": [
    {
     "name": "stdout",
     "output_type": "stream",
     "text": [
      "num of train phones:\t 80\n",
      "num of valid phones:\t 60\n",
      "num of test phones:\t 65\n"
     ]
    }
   ],
   "source": [
    "train_phonetics = [phone for x in train_dataset for phone in x['phonetic'].split()]\n",
    "valid_phonetics = [phone for x in valid_dataset for phone in x['phonetic'].split()]\n",
    "test_phonetics = [phone for x in test_dataset for phone in x['phonetic'].split()]\n",
    "\n",
    "print(\"num of train phones:\\t\", len(set(train_phonetics)))\n",
    "print(\"num of valid phones:\\t\", len(set(valid_phonetics)))\n",
    "print(\"num of test phones:\\t\", len(set(test_phonetics)))"
   ]
  },
  {
   "cell_type": "markdown",
   "id": "4412c4e2",
   "metadata": {
    "papermill": {
     "duration": 0.010849,
     "end_time": "2025-10-16T14:23:19.191805",
     "exception": false,
     "start_time": "2025-10-16T14:23:19.180956",
     "status": "completed"
    },
    "tags": []
   },
   "source": [
    "## Visualize phonetic Distribution"
   ]
  },
  {
   "cell_type": "code",
   "execution_count": 21,
   "id": "96ed3eb4",
   "metadata": {
    "execution": {
     "iopub.execute_input": "2025-10-16T14:23:19.215594Z",
     "iopub.status.busy": "2025-10-16T14:23:19.215168Z",
     "iopub.status.idle": "2025-10-16T14:23:19.223827Z",
     "shell.execute_reply": "2025-10-16T14:23:19.222865Z"
    },
    "papermill": {
     "duration": 0.022325,
     "end_time": "2025-10-16T14:23:19.225430",
     "exception": false,
     "start_time": "2025-10-16T14:23:19.203105",
     "status": "completed"
    },
    "tags": []
   },
   "outputs": [
    {
     "data": {
      "text/plain": [
       "{'d',\n",
       " 'l',\n",
       " 'l̥ʲ',\n",
       " 'm',\n",
       " 'n',\n",
       " 'nˠ',\n",
       " 'n̻̊ˠ',\n",
       " 'p',\n",
       " 's',\n",
       " 't̪',\n",
       " 'w',\n",
       " 'zˠ',\n",
       " 'æ',\n",
       " 'ɒ',\n",
       " 'ɛ',\n",
       " 'ɪ',\n",
       " 'ɲ̊',\n",
       " 'ɹ',\n",
       " 'ʌ',\n",
       " 'ʤ'}"
      ]
     },
     "execution_count": 21,
     "metadata": {},
     "output_type": "execute_result"
    }
   ],
   "source": [
    "set(train_phonetics)-set(valid_phonetics)"
   ]
  },
  {
   "cell_type": "code",
   "execution_count": 22,
   "id": "5e1f7849",
   "metadata": {
    "execution": {
     "iopub.execute_input": "2025-10-16T14:23:19.249955Z",
     "iopub.status.busy": "2025-10-16T14:23:19.249617Z",
     "iopub.status.idle": "2025-10-16T14:23:19.257294Z",
     "shell.execute_reply": "2025-10-16T14:23:19.256329Z"
    },
    "papermill": {
     "duration": 0.02169,
     "end_time": "2025-10-16T14:23:19.258796",
     "exception": false,
     "start_time": "2025-10-16T14:23:19.237106",
     "status": "completed"
    },
    "tags": []
   },
   "outputs": [],
   "source": [
    "phone_vocabs = set(train_phonetics)\n",
    "phone_vocabs = sorted(phone_vocabs)\n",
    "\n",
    "def count_frequency(phonetics):\n",
    "    phone_counts = {phone: 0 for phone in phone_vocabs}\n",
    "    for phone in phonetics:\n",
    "        if phone in phone_vocabs:\n",
    "            phone_counts[phone] += 1\n",
    "    # eliminate h# for visualization purposes\n",
    "    return [phone_counts[phone] for phone in phone_vocabs]"
   ]
  },
  {
   "cell_type": "code",
   "execution_count": 23,
   "id": "56e8c2f1",
   "metadata": {
    "execution": {
     "iopub.execute_input": "2025-10-16T14:23:19.283172Z",
     "iopub.status.busy": "2025-10-16T14:23:19.282833Z",
     "iopub.status.idle": "2025-10-16T14:23:19.373049Z",
     "shell.execute_reply": "2025-10-16T14:23:19.372253Z"
    },
    "papermill": {
     "duration": 0.104303,
     "end_time": "2025-10-16T14:23:19.374874",
     "exception": false,
     "start_time": "2025-10-16T14:23:19.270571",
     "status": "completed"
    },
    "tags": []
   },
   "outputs": [],
   "source": [
    "train_phone_counts = count_frequency(train_phonetics)\n",
    "valid_phone_counts = count_frequency(valid_phonetics)\n",
    "test_phone_counts  = count_frequency(test_phonetics)"
   ]
  },
  {
   "cell_type": "code",
   "execution_count": 24,
   "id": "29d05898",
   "metadata": {
    "execution": {
     "iopub.execute_input": "2025-10-16T14:23:19.399174Z",
     "iopub.status.busy": "2025-10-16T14:23:19.398849Z",
     "iopub.status.idle": "2025-10-16T14:23:19.403651Z",
     "shell.execute_reply": "2025-10-16T14:23:19.402610Z"
    },
    "papermill": {
     "duration": 0.018451,
     "end_time": "2025-10-16T14:23:19.405129",
     "exception": false,
     "start_time": "2025-10-16T14:23:19.386678",
     "status": "completed"
    },
    "tags": []
   },
   "outputs": [],
   "source": [
    "train_phone_ratio = [count / sum(train_phone_counts) for count in train_phone_counts]\n",
    "valid_phone_ratio = [count / sum(valid_phone_counts) for count in valid_phone_counts]\n",
    "test_phone_ratio  = [count / sum(test_phone_counts) for count in test_phone_counts]"
   ]
  },
  {
   "cell_type": "code",
   "execution_count": 25,
   "id": "9d9d151d",
   "metadata": {
    "execution": {
     "iopub.execute_input": "2025-10-16T14:23:19.484620Z",
     "iopub.status.busy": "2025-10-16T14:23:19.484290Z",
     "iopub.status.idle": "2025-10-16T14:23:20.395538Z",
     "shell.execute_reply": "2025-10-16T14:23:20.394406Z"
    },
    "papermill": {
     "duration": 0.925403,
     "end_time": "2025-10-16T14:23:20.397321",
     "exception": false,
     "start_time": "2025-10-16T14:23:19.471918",
     "status": "completed"
    },
    "tags": []
   },
   "outputs": [
    {
     "data": {
      "image/png": "[encoded data removed]",
      "text/plain": [
       "<Figure size 2500x1000 with 1 Axes>"
      ]
     },
     "metadata": {},
     "output_type": "display_data"
    }
   ],
   "source": [
    "import matplotlib.pyplot as plt\n",
    "\n",
    "plt.figure(figsize=(25,10))\n",
    "\n",
    "plt.bar(phone_vocabs, train_phone_ratio)\n",
    "plt.bar(phone_vocabs, valid_phone_ratio, bottom=train_phone_ratio)\n",
    "plt.bar(phone_vocabs, test_phone_ratio, bottom=[(x+y) for x,y in zip(train_phone_ratio, valid_phone_ratio)])\n",
    "\n",
    "plt.show()"
   ]
  },
  {
   "cell_type": "markdown",
   "id": "fe432c56",
   "metadata": {
    "papermill": {
     "duration": 0.011932,
     "end_time": "2025-10-16T14:23:20.422797",
     "exception": false,
     "start_time": "2025-10-16T14:23:20.410865",
     "status": "completed"
    },
    "tags": []
   },
   "source": [
    "## Load Audio"
   ]
  },
  {
   "cell_type": "code",
   "execution_count": 26,
   "id": "2218ba71",
   "metadata": {
    "execution": {
     "iopub.execute_input": "2025-10-16T14:23:20.448902Z",
     "iopub.status.busy": "2025-10-16T14:23:20.448575Z",
     "iopub.status.idle": "2025-10-16T14:23:20.469590Z",
     "shell.execute_reply": "2025-10-16T14:23:20.468567Z"
    },
    "papermill": {
     "duration": 0.036658,
     "end_time": "2025-10-16T14:23:20.471589",
     "exception": false,
     "start_time": "2025-10-16T14:23:20.434931",
     "status": "completed"
    },
    "tags": []
   },
   "outputs": [],
   "source": [
    "train_dataset = (train_dataset\n",
    "                 .cast_column(\"audio_file\", Audio(sampling_rate=16_000))\n",
    "                 .rename_column('audio_file', 'audio'))\n",
    "valid_dataset = (valid_dataset\n",
    "                 .cast_column(\"audio_file\", Audio(sampling_rate=16_000))\n",
    "                 .rename_column('audio_file', 'audio'))\n",
    "test_dataset = (test_dataset\n",
    "                 .cast_column(\"audio_file\", Audio(sampling_rate=16_000))\n",
    "                 .rename_column('audio_file', 'audio'))"
   ]
  },
  {
   "cell_type": "code",
   "execution_count": 27,
   "id": "36ff2a9a",
   "metadata": {
    "execution": {
     "iopub.execute_input": "2025-10-16T14:23:20.497232Z",
     "iopub.status.busy": "2025-10-16T14:23:20.496808Z",
     "iopub.status.idle": "2025-10-16T14:23:20.506770Z",
     "shell.execute_reply": "2025-10-16T14:23:20.505747Z"
    },
    "papermill": {
     "duration": 0.024459,
     "end_time": "2025-10-16T14:23:20.508381",
     "exception": false,
     "start_time": "2025-10-16T14:23:20.483922",
     "status": "completed"
    },
    "tags": []
   },
   "outputs": [
    {
     "data": {
      "text/plain": [
       "{'audio': {'path': '/kaggle/input/ulster-irish-audio/wav_files/carbad.wav',\n",
       "  'array': array([0., 0., 0., ..., 0., 0., 0.]),\n",
       "  'sampling_rate': 16000},\n",
       " 'phonetic': 'k a ɾˠ ə bˠ ə d̪ˠ'}"
      ]
     },
     "execution_count": 27,
     "metadata": {},
     "output_type": "execute_result"
    }
   ],
   "source": [
    "train_dataset[0]"
   ]
  },
  {
   "cell_type": "code",
   "execution_count": 28,
   "id": "a180e517",
   "metadata": {
    "execution": {
     "iopub.execute_input": "2025-10-16T14:23:20.534325Z",
     "iopub.status.busy": "2025-10-16T14:23:20.533892Z",
     "iopub.status.idle": "2025-10-16T14:23:20.559618Z",
     "shell.execute_reply": "2025-10-16T14:23:20.558659Z"
    },
    "papermill": {
     "duration": 0.040184,
     "end_time": "2025-10-16T14:23:20.561078",
     "exception": false,
     "start_time": "2025-10-16T14:23:20.520894",
     "status": "completed"
    },
    "tags": []
   },
   "outputs": [
    {
     "name": "stdout",
     "output_type": "stream",
     "text": [
      "Phonetics: k iː nʲ vʲ eː sˠ ə\n",
      "Input array shape: (23808,)\n",
      "Sampling rate: 16000\n"
     ]
    },
    {
     "data": {
      "text/html": [
       "\n",
       "                <audio  controls=\"controls\" >\n",
       "                    <source src=\"data:audio/wav;base64,UklGRiS6AABXQVZFZm10IBAAAAABAAEAgD4AAAB9AAACABAAZGF0YQC6AAAAAAAAAAAAAAAAAAAAAAAAAAAAAAAAAAAAAAAAAAAAAAAAAAAAAAAAAAAAAAAAAAAAAAAAAAAAAAAAAAAAAAAAAAAAAAAAAAAAAAAAAAAAAAAAAAAAAAAAAAAAAAAAAAAAAAAAAAAAAAAAAAAAAAAAAAAAAAAAAAAAAAAAAAAAAAAAAAAAAAAAAAAAAAAAAAAAAAAAAAAAAAAAAAAAAAAAAAAAAAAAAAAAAAAAAAAAAAAAAAAAAAAAAAAAAAAAAAAAAAAAAAAAAAAAAAAAAAAAAAAAAAAAAAAAAAAAAAAAAAAAAAAAAAAAAAAAAAAAAAAAAAAAAAAAAAAAAAAAAAAAAAAAAAAAAAAAAAAAAAAAAAAAAAAAAAAAAAAAAAAAAAAAAAAAAAAAAAAAAAAAAAAAAAAAAAAAAAAAAAAAAAAAAAAAAAAAAAAAAAAAAAAAAAAAAAAAAAAAAAAAAAAAAAAAAAAAAAAAAAAAAAAAAAAAAAAAAAAAAAAAAAAAAAAAAAAAAAAAAAAAAAAAAAAAAAAAAAAAAAAAAAAAAAAAAAAAAAAAAAAAAAAAAAAAAAAAAAAAAAAAAAAAAAAAAAAAAAAAAAAAAAAAAAAAAAAAAAAAAAAAAAAAAAAAAAAAAAAAAAAAAAAAAAAAAAAAAAAAAAAAAAAAAAAAAAAAAAAAAAAAAAAAAAAAAAAAAAAAAAAAAAAAAAAAAAAAAAAAAAAAAAAAAAAAAAAAAAAAAAAAAAAAAAAAAAAAAAAAAAAAAAAAAAAAAAAAAAAAAAAAAAAAAAAAAAAAAAAAAAAAAAAAAAAAAAAAAAAAAAAAAAAAAAAAAAAAAAAAAAAAAAAAAAAAAAAAAAAAAAAAAAAAAAAAAAAAAAAAAAAAAAAAAAAAAAAAAAAAAAAAAAAAAAAAAAAAAAAAAAAAAAAAAAAAAAAAAAAAAAAAAAAAAAAAAAAAAAAAAAD+/wAAAAAAAAAAAAAAAAIA9f/U/9//AgATABAAFgAZAAIA6v/t/wgAGwAQAAIAAgAIAAAA6v/n//P/+/8AABMAHgAAANz/3/8AAA0ACwAFAPv/+P8TACYAEwDw/+r/AgAbABAA9f/c/+L/+P/7//j/CAAWAAAA4v/q/xAALAAhABYADQD4/9H/0f8FACEAEwD7//v/8//z/wsAEwD4/9z/8P8LABAAEwANAO3/1//q/xsAJgATAAsABQACAA0ADQD7/9r/zP/l/xAAMgALAMn/0f8QACQACwATAC8AFgDq/+3//v/z//D/BQAFAPX//v8FAO3/2v/4/xsAGwATAAUA9f/z//j/8//7/xkAJAD1/87/7f8QABAAEwAeACEACAD4//X/8P/w//P/+//+//D/3//f//v/EAATABkAKQAeAAgADQAmACQACAD+/9r/sP+1//D/EwAAAOf/6v8FABkAJgAvAC8AIQANABAAFgDz/8n/1P/t/+f/1//q/xMAFgACAAgAEwD7/9//9f8FAPD/4v/7/x4AGwACABMAHgAQAP7//v8LAAUACAAQAPX/vv+z/8b/1P/w/x4AUABFABsAEwANAA0AJAA6ABkA3P/J/8n/xv/f//P/8/8QAD8AGwDJ/8z/AADi/6j/DQDmAPEAXgBYAPQA9ADl/2X+Vf3u/ZH/ZgB3AOMAQgGhAL7/+P9FAHv/8P5w/+f/8P9kAPoAlgA6AJsAmwDc/0T/c/9d/x3/g/8IAPv/BQChAPQAkAAeAAIA5//X/8n/uP+a/3j/u/9NAL8AwgBYABsAMgDf/2r/VP+B/0T/DP/J/2kBuQIzA0QCbABi/3v/qP52/AT+9AHHAvv/TP7M/rP+cP6R/6EAJf+X/mX/8P/a/6YAvwHl/4/+aP+jAGQAxv83AJgAbwCQAPQAoQCKAB4AkADeAKMALACf/8z/FgAIAAUAYQDl/0//l/9IAAIAyf+KAD0AnP+M/00AGQC1/+r/JADM/3P/w/+4/87/JACeAAsAg/8NAFgA4v9+/9T/wf92/5z/s/+c/4//9f8QAAIAzv/i/yQAHgALAOf/LwBTACEAAgDq/yEACAACAP7/NABQAGEAZABTAAsAFgCYAFsA5f8CAMb/w/8NAG8ATQBLAD0AEADq/8b/+P/+/xsAEADl/6X/qv/X/zcAAgDl/wsADQALAAgAHgAFAOL/3P8mANf/8//4/2QAEf+H/N3+w//6AH7/e/5o/9r/LAER/1r/5gB3AfEACAC3AMgAaQA9AOYAIwFQADP/lP+NADQB9wDi/5r+gf8VAfoA4v/d/pr//v+mABsAxv/U/4//NAB9AFAAgf8X/7D/RQBmAAUAl/+M/5r/u/8ZALv/T/+B/+f/bADn/5r/5f+t/+3//v9eACwAhv+7/yYAbAAQAP7/IQA9AGwAQgDO/9f/LwALACEAGQAkABAA7f8NANr/DQAvAPj/5f8IAFgAPQBWAEsAJgA9ACEAJgBFAAIA5//4/wgA8//O/8b/2v/t//X/7f/U/8P/yf+7/9H/3/+w/9r/7f/1//j/6v/7/+r/JAATABMAJgANABkACwApABMA5/8eADIABQAFABMAGwAZABMAHgANAA0AAgD4/+3/+P8WAM7/3/8IABkAEwDn//D/5f8FAAUADQAFAPv/AgAAAAIABQAQAPP/GwA6ADQAFgDw/yYA+//n/wgABQApAOr/IQAZAO3/7f87/1H/l/8bAO3/sP+KABsAqv9X/9H/BQCJ/1gAbwC8AKwAEwAhAOL/TQC7/5//owDQAJgAKQCvAGQA3/7t/kH/qv++/zoAjQBTAE0AlP82/1r/n/+P/7j/sQDFAIIAPQAeALX/Xf+f/9f/OgBeAHEAmAB6ACwAl/9i/6X/zv8TADoAqQCTAD8AFgDw/8n/bf+X/wIAPwBYAD0AbAAvANH/l/9t/4H/lP/n/w0AJAA/APj/5//a/8z/ov+7/xsAKQA3AGkAdAAkAOX/5f/a/+3/GQA/AE0ARQAvAAUACAACAMP/if/J/xYAGQD1//P/CADl/9r/vv/R//D/DQA0ADcASAAmAAAAEwAZABAA9f8bADIAMgAbAPv/3//J/+X/+P/q//v/5//7/wsACwDt/8P/5f/4/xAABQAQABMA8//4/9f/1//O/+X/AgD+//X/2v/+//v/7f/l/9f//v8eAC8AQgBFAC8AEwAmACYAIQApACkALAAmABMACAD4/wAA4v/X/9//8P8AAP7/+//n/9f/5//t//X/CAD+//v/DQAWACYACwD4//D/AgATAO3/9f/l/wIA+//U/9//3P/7//X/8//w/9f//v/1/w0AAADn/w0ACwA9ACQAEwAZAAUAHgAAABYACAD+/wUA/v8hAA0A+P/+//D/AgDw/+3/AAALACEACwAFAPv/+P8WABkAEAAAAP7/EwALABMACwDw/9//3//z/+3/6v/7/+3/8//l/9//5//q//v/3P/w/wgABQAFAPX/FgAbABMAEAAFABAABQAFAAUABQATAAIAAgACAAIA+P/l//P//v8FAAUA/v8CAP7/EAAFAPv/AgAFAA0ACAAZABYAAgD4/wIAEAAFAPj/+//+//v/AAD7/+3/6v/w//P/9f/+//7/AAAAAAAA+/8AAA0AEAACAAIAAgAIAAIA/v/+//7//v/z//j/+P/7//7/+P/7//X//v/7/wAAAAD+/wUABQAFAAIACAANAAIABQAFAAgACAAAAAUAAAAFAP7/AAAAAAAAAAD1/wAABQAFAP7/+/8FAAAAAAAIAAgACAAFAAIAAAACAAAA+//1//P/+P/1//v//v8CAPv/+P8AAPj/+P/7//7//v8AAAAAAgAFAA0ABQACAAIABQACAAAAAAAAAAIABQAFAAIACAAAAPj//v/7/wAA/v/+/wAAAAAIAAIABQAFAAIAAAD+/wIAAgACAAAAAgD+//7/+//+/wIA/v8AAPv//v/7//j/9f/7/wAAAAAAAAAA+//+//7//v8CAAAAAgAFAAUABQD7//7/AAD7//7/AgAFAAUACAAFAAAA/v/4//v/AAAFAAIAAgAFAAUAAgD+//v/+P/4/wIAAgACAAAABQAFAAUACAAAAAAA/v8FAAAAAAACAP7//v/+/wAA+P/7/wAAAAAFAAIAAgAAAP7//v/7//7/AgACAP7/AAACAAAA/v8AAPv/+P/7//7/AgD+//7/+//+//7/AAAAAP7//v8CAAUAAgACAAAAAgACAAUAAgAAAAIAAAAAAAAAAgD+/wAACAD+/wAAAgAFAAIAAAAFAAAAAAAAAAIAAAD+/wUAAgAAAPv/+//4//j//v/+/wAA+//+//7/9f/4//j/AAAAAAIABQAFAAUAAAD+//v/AgAFAAIACAAIAAsAAgACAP7/+P/7//v/AAAAAAIAAAACAAIA/v/7//v//v8CAAIA/v/+/wAA/v/7/wAAAAACAP7//v/+/wAAAgD+/wAAAAAFAAUAAgAAAAIAAAD+//7/AAAAAAIAAAAAAAAAAAAAAP7/AAD+/wAAAAACAAAA+//+//v//v/7//7/AAD+//7/AAAAAAAAAAAAAAIACAACAAIAAAAFAAIAAgAFAAIAAgAAAAAAAAD+//7/+//4//7/+//7//7//v/+//v//v8AAAIAAgAAAAUAAgACAP7/AAAFAAUABQACAAIAAgAAAP7//v8AAP7//v8AAAUAAgAAAP7//v8AAAIAAAAAAAAABQAAAAAAAAAAAAAA+/8AAP7/AAAAAP7/AgAAAP7/AAAAAAAAAgAAAAAAAAAAAAAAAgAFAAAAAAAAAAIA/v/+/wAAAgAAAAIAAgACAAAA/v/7//7/AAAAAAIAAgAFAAAA/v/+//7/BQACAAIAAAACAAUABQD+//v/AAACAAAAAAAAAAUA/v/7/wAA+//7//7//v8AAP7/+//+/wIAAgAAAAAABQACAAAAAAAAAAAA/v8CAAgABQACAP7//v/+//v/AAD+/wAAAgAAAP7/+//+//7//v8AAAAAAAACAAIAAAAAAP7/AgAFAAIAAAD+/wAA/v/+/wAAAAAAAAIAAgACAP7/+//+//7//v8AAAIAAAAAAAUA/v/+//7//v8AAAAAAgD+/wAAAgD+//7//v/+/wAAAgACAAAABQAAAAAAAgACAAAA/v/+//7/AgACAAUABQACAP7//v8AAP7//v/+//7/AAD+/wAAAgD7//v//v8AAP7/+/8AAAAAAAACAAIAAAAAAAAAAAAAAAUAAAACAAUAAgACAAAA/v/7//7//v/+/wAAAgACAAAAAAAAAP7//v8AAAUAAAAAAAIABQACAPv/AAD+//v/+//+/wAAAAAFAAAAAAD+//7/AAAAAAAAAgAAAAUAAgD+/wAA/v/+//v//v8AAP7//v8CAAUAAgAAAAAAAAAAAPv//v8AAAIAAAAAAAUABQAAAPv//v8AAAAAAAACAAIA/v8AAAAA/v8AAAAA/v8AAAIAAgAAAAAAAgAAAAAAAAD+//7//v/+/wIAAgAAAAAA/v8AAAAA/v8CAAAAAAD+/wIAAgAAAAAAAAAAAP7/+/8AAAIAAAD+/wAAAAAAAAAAAgACAAAA/v8AAP7/AAAAAAAAAAAAAP7//v8AAAAAAAAAAP7/AAD+//7/AgACAAIAAgD+/wAAAAAAAAAAAAAAAAIAAgAFAAUAAAD+//7//v8AAAAAAgAAAP7//v/+//7//v/+/wAAAgACAAAAAAAAAAAAAAAAAAIAAgD+//7//v/+/wAAAAACAAIAAgAAAP7/AAAAAAAAAAACAAAAAAACAAIAAgAAAAIA/v8CAAIABQAAAAAAAAD+//v/+//+/wAAAAAAAAAAAAAAAAAA/v8AAAIA/v8AAP7/AgD+/wAAAAAAAAIAAgAAAAAAAgACAAAAAAAAAAIAAAAAAP7//v/7/wAAAgAAAAAAAAAAAAAAAAD7//7/AAAAAAAAAAACAAIAAAACAAAAAgAAAP7/AgAAAAUAAgD+//7//v8AAAAAAAAAAAAAAAD+/wIAAAAAAAAAAAAAAP7/AAACAAIAAgAAAAIAAgAAAAAA/v/7//7/AAAAAAAAAgACAAAA/v/+/wAAAgAAAAAAAgAAAAIAAgAAAAIAAAD+//7//v/+//7/AAACAAAAAAD+//7//v/+/wAA/v8CAAIAAgAAAAIAAgAAAAAAAAAAAAAAAAAAAAIAAAAAAAAAAAAAAAAA/v8AAAUAAAAAAAAA/v/+/wAAAAAAAAAAAAAAAAAAAAACAAAAAAD+/wAAAgAAAAAAAAACAAIAAAAAAAAAAAAAAAAA/v8AAAAAAgAAAAIAAgAAAAAA/v8AAAAAAgACAAAAAAAAAP7//v/+/wAAAAD7//7//v/+//7/AgAAAAAAAAAAAAIAAAACAAIAAgD+/wIAAgAAAAIA/v8AAAAAAgACAP7/AAAAAAAAAgAAAP7//v8AAP7//v8AAAAAAgACAAAA/v8AAAAAAAAAAAAAAAAAAAAAAAD+/wAAAgAAAAIAAAACAAAA/v8AAAAAAgACAAIAAAAAAAAA/v8AAAAAAAD+//7/AAAAAAAAAAAAAAIA/v8CAAIA/v8AAP7/AAAAAP7/AAAAAAAAAAAAAAAAAAACAAAAAgAFAAAAAgAAAAAAAAD+/wAA/v8AAAAA/v/+/wAAAAD+/wIAAAAAAAAAAAAAAAAA/v8AAAAAAAD+//7/AgD+//7/AAAAAAIA/v8AAP7/AAACAAIAAAAAAAIA/v8CAAIAAAACAP7/AAAAAP7/AAAAAAAAAAD+/wAA/v/+/wAAAAACAAAAAAAAAAAAAAACAAAA/v8AAAAAAAAAAAAAAAAAAAIAAAD+/wAAAAAAAAIAAgAAAP7/AAACAAAAAAAAAAIAAAAAAAAA/v8FAAAA/v8AAAAAAAAAAAAAAgAAAAAAAAAAAAIAAAAAAAAAAAD+/wAAAAAAAAAAAAAAAP7/AAAAAP7//v8AAAAAAAACAAAAAAD+/wAAAAAAAAIAAAAAAAIAAgAAAAAAAAD+//7//v8AAAIAAgACAAIAAAAAAAIAAAAAAAAAAAAAAAAAAAAAAAAAAAAAAAAAAAD+//7/AAAAAAAAAAAAAP7//v8AAAAAAAAAAAAAAAD+/wAAAAAAAP7//v8AAP7/AAAAAAIAAgAAAAAAAAD+//7/AgAAAAAAAgAAAAAAAAACAP7//v/+//7/AAD+/wAAAgACAAIAAAAAAAAAAgAAAAAA/v8AAAAAAgAAAAAAAAD+//7//v/+/wAAAAAAAAAAAAD+//7/AAAAAAAAAAD+//7/AgAAAP7/AAAAAAAAAAACAP7/AgAAAAIAAAAAAAIAAAAAAAAAAAACAAAA/v8AAAAA/v/+/wAA/v8AAAAAAAD+/wAAAAAAAAAA/v8AAAAAAAACAAIA/v8CAP7/AgAAAP7/AAAAAAIAAAACAAAAAAACAAAA/v/+/wAA/v8AAAAA/v8AAAAAAAAAAAAAAAACAAAA/v8CAAAAAAAAAAAA/v8AAAIAAAAAAP7/AAD+/wAAAgAAAAIAAAD+/wAAAAAAAAIAAAAAAAIAAAACAAIA/v/+//7//v8AAAAA/v8CAAAA/v8AAAIAAAACAAIAAAAAAAIAAAACAAIAAAD+//7/AAACAAAA/v8AAAAAAgAAAAIAAAD+/wAA/v8AAAAAAAAAAAAAAAAAAAIAAAAAAAIAAgAAAAAAAAAAAAAAAAAAAAAAAAAAAAAAAAAAAAAAAAAAAAAAAgAAAAAAAAAAAP7/AAAAAP7/AgAAAAAAAgAAAP7/AAAAAAAAAAACAAAAAAAAAAAAAAAAAP7/AAD+/wAAAAAAAP7/AgAAAAAAAgAAAAAA/v8CAAAAAAAAAAAAAAAAAAAAAAD+/wAAAAD+//7/AAAAAP7/AgAAAAIAAAACAAIA/v8CAAAA/v8AAAAAAAAAAAAAAgD+//7/AAAAAAAAAAAAAAAAAAAAAAAAAgAAAAAA/v8AAP7/AAAAAAIAAAAAAAIA/v8AAAAAAAAAAAAAAAAAAAAAAAAAAAAA/v/+/wIAAAD+/wAAAAAAAAAAAAAAAAAAAAD+/wAAAAAAAAAA/v8AAAAAAAAAAAAAAgAAAAAAAAACAAAAAAAAAP7//v8FAAAAAAACAAAAAgACAAAAAAAAAAAAAAAAAAAA/v8CAAAAAAAAAP7/AAAAAAAAAAAAAAIAAAAAAAAAAAACAAAAAAAAAP7//v8AAAAAAAACAAIAAAD+/wAAAAAAAAIAAAAAAAAAAAAAAP7/AgAAAP7/AAAAAAAAAgACAAAAAAAAAAAAAAAAAP7/AAAAAAAA/v8AAAIAAgAAAAAAAAAAAAAAAAD+/wAAAAAAAAAAAAAAAAAAAgD+/wAA/v8AAP7//v8AAAAAAgAAAAAAAAAAAAAAAAAAAP7/AAAAAAAAAAAAAAAAAgAAAAAAAgD+/wAAAgD+/wAAAAAAAP7//v8AAAAAAAACAAIA/v8AAP7//v8AAAAAAAACAAIAAAACAAIAAAAAAAAA/v8AAAIAAgAAAP7/AAD+//7/AAAAAAAAAgAAAAAA/v8AAAAAAAD+/wAAAAAAAAAAAAACAAIA/v8CAP7/AAAAAP7/AgD+/wIAAAD+/wAAAAAAAAIAAAD+/wAAAAAAAP7/AAACAAAAAAAAAAAAAAACAAAA/v/+//7/AAAAAAIA/v8AAAAAAAAAAP7/AAAAAP7/AAACAAIAAAACAAAAAgAAAAAAAAACAP7//v8FAAIAAgAAAAAAAAAAAAIAAAAAAP7/AAAAAAAA/v8AAAAAAgD+/wAAAAAAAAAA/v8AAAIAAAACAAAAAgAAAAIAAAAAAAAAAAAAAAAAAgAAAAAAAAACAAAAAgAAAAAAAAD+/wAAAgD+/wAA/v8AAAAAAAD+/wAAAAD+/wAAAAAAAAIAAgACAAAAAAAAAAAA/v/7/wAAAgD+/wAAAAAAAAAAAAACAAAAAAAAAP7/AAAAAAAAAAAAAP7/AAAAAAAAAAACAAAAAAAAAAAAAAD+/wIAAgAAAAAAAAAAAP7/AAACAAAAAgAAAAIAAAAAAAIAAAACAAAAAAACAP7/AAD+/wAAAgD+/wIAAAD+/wIAAAD+/wAAAAACAAAAAAACAAAA/v8AAAAAAAAAAAAA/v8AAAIAAAACAP7//v8AAAAAAgAAAAAAAAAAAP7/AgAAAAAA/v8AAAAAAAAAAAAAAAAAAAAAAgACAAIAAAD+/wAAAgAAAAAA/v8AAP7//v8CAAAA/v/+/wAA/v8AAAAA/v8AAAAAAgACAAAAAAAAAAAAAgD+/wAAAAAAAAAAAAAAAAIAAAAAAAIA/v/+//7/AAD+/wAAAAAAAAIAAAD+/wAAAAACAAAAAAD+/wAAAAAAAAAAAAAAAAAAAAAAAAAAAgAAAAAAAAAAAAAAAAAAAAAAAAAAAAAAAAAAAAIAAgAAAAAAAAAAAAAAAAAAAP7/AAACAP7/AgAAAAAAAAAAAAAAAAAAAAAAAAD+//7//v/+/wAAAAD+/wAAAAAAAAAAAAACAAIAAAAAAAAAAAACAAAAAAAAAAAA/v/+/wAA/v8AAAIAAAACAAAAAAAAAAAAAAAAAAIAAgACAAIAAAAAAAAAAAD+/wIAAAD+/wAAAgD+/wIAAAAAAAIAAAAAAP7/AAACAAIAAAAAAAIA/v/+/wAAAAAAAAAAAAD+/wAA/v/+/wAAAAD+/wIAAAAAAP7/AAAAAAAAAAD+/wAA/v8AAAAAAAAAAAAAAAACAAAA/v8AAAAAAAD+/wAAAAAAAAAAAgAAAAIAAgAAAAIAAAACAAAAAgAAAAAAAAAAAAAAAgAAAP7/AAAAAAAAAAAAAAAAAgAAAAAAAAAAAP7/AAAAAP7/AAACAAAA/v8AAAAAAAACAP7//v/+/wAAAgAAAAIAAAAAAAIAAAD+/wAA/v8CAAIAAAAAAAAAAAACAAAA/v8AAAAAAgD+/wAA/v8AAAIA/v8CAP7/AgAAAAAAAAAAAAIAAgACAAAAAAACAAIAAgAAAAAAAAAAAAAA/v/7/wAABQAAAAIAAAD+/wAAAAAAAAAA/v8AAAAAAAAAAAAAAAAAAAAA/v/7//7/AgAAAAAAAAAAAAIAAAAAAP7/AgACAAAAAAAAAAAAAAAAAAAAAAAAAP7/AgAAAP7/AAAAAAAAAAAAAAAAAAAAAAAAAAD+/wAAAAAAAAAAAgD+//7/AAACAAIAAAAAAAIAAAACAAAA/v8CAAAAAAD+/wAAAgAAAAAA/v8AAAAAAgAAAAAA/v8AAP7/AAAAAP7/AgAAAAAAAAAAAAAAAAAAAAAAAAACAAAA/v8AAAAAAAAAAAIAAAD+//7//v8CAAAAAgAAAAAAAgD+/wAAAAACAAAA/v/+/wAA/v/+/wAAAgAAAAIAAAAAAAAAAAD+//7/AgD+/wIAAAAAAP7/AAAAAAAAAAAAAAIAAAD+/wAAAAAAAAAA/v8AAAIAAAAAAAIAAAAAAAIAAAD+/wAAAAD+/wAAAAAAAP7//v8AAAAAAAD+//7/AAACAP7/AAAAAAIA/v8AAAIAAAAAAAIAAgAAAP7/AgAAAAAAAAACAAAAAAD+//7/AAAAAAIAAAACAAAA/v/+//7/AAD+/wAAAAAAAAAA/v8AAAAAAAAAAAAAAAACAP7/AgACAAAAAAAAAAIAAAAAAP7//v/7/wAAAgAAAAAAAAAAAAAAAAD+/wAAAAAAAAAAAAACAAIA/v8AAAAAAgAAAAIAAAACAAUAAgAAAAIAAgD+/wIAAAAAAAAAAAAAAAAAAAD+/wAAAAAAAAAAAAD+/wAA/v/+/wIAAgAAAAAAAAAAAAAAAAAAAAIAAAD+/wIAAgD+/wAAAgD+/wAAAAD+/wIAAAAAAAAA/v/+/wAAAAAAAAIAAAD+/wIA/v8AAP7//v8AAAAAAAACAAAAAAAAAAAAAAAAAAAAAAAAAAAAAAD+/wAAAAACAAAAAAAFAAAAAAACAAIAAAAAAAIA/v8AAAAAAgAAAAAA/v8AAP7/+/8CAP7/AAAAAP7/AAAAAAAAAAD+/wAAAAD+/wAAAAAAAAIA/v8AAAAAAAAAAAAAAAAAAAAAAAAAAAIA/v/+/wAA/v8AAAAAAAAAAAAAAAD+/wAAAAACAAIAAAACAAAAAAACAAIAAAAAAAIAAAAAAAAAAAAAAPv/AAACAAAABQD+/wAAAAAAAP7/AAAAAAAAAAACAAAAAAACAAAAAAACAAAAAAAAAAAAAAAAAAAAAgAFAP7/AAACAAAAAAAAAP7/AAAAAAAA/v8CAAAAAAACAAAAAAD+//7//v8AAAIAAgAAAAAAAgD+/wIAAgAAAAAAAAAAAP7//v8AAAAAAAAAAAAAAgACAAIAAAD+/wIAAAAAAAAA/v8CAP7/AAAAAAAAAAAAAAAAAAAAAAAAAAAAAAAAAAAAAAAA/v8CAAIA/v8AAP7/AAD+/wAAAAAAAAAAAAD+/wAAAgACAAAAAAACAAAAAAAAAAIAAgD+/wAAAAD+//7/AAAAAAAA/v8CAP7/AAAAAAAAAAD+/wAAAAAAAAAAAgAAAAAAAgACAAAAAgD+/wAA/v8AAAAAAAAAAAAAAAAAAAAAAgACAP7/AAAAAAAAAAAAAAIAAAAAAAAAAgAAAP7/AAAAAAAAAgAAAAAAAAAAAAAAAAACAAAAAAAAAAAAAgAAAAAAAAD+/wAAAAACAAIA/v8AAAAAAgAAAAIAAAAAAAAA/v8AAP7/AAACAP7/AAAAAAAA/v8AAAIAAAAAAAAAAAAAAP7/AAAAAP7/AAAAAAIAAAAAAAIAAgD+/wAAAAACAAAA/v8AAP7/AAAAAAAAAAAAAAAAAAAAAAAA/v8CAAAA/v/+/wAAAgACAAAAAgAAAAAABQD+/wAAAAAAAAAAAgAAAAAAAAAAAAIA/v/+/wAA/v8AAAIAAAACAAAAAgAAAAAAAAAAAAAAAAAAAP7/AAAAAAAAAAACAAAAAAD+/wAA/v8AAAIAAAACAAIAAAAAAAAAAAD+/wIA/v8AAP7//v8CAP7/AAAAAAAAAAAAAAAAAgD+/wAA/v8AAP7/AAAAAAAAAAAAAAAAAgD+//7/AAAAAAAAAAACAAAAAAD+/wIAAAD+/wAAAAAAAAAAAgAAAAAAAgAAAAAA/v8CAAAA/v8CAP7/AAACAP7//v8AAAAAAgAAAP7/AAACAAIAAAAAAAAAAAD+/wAA/v8CAAAAAAAAAAAAAgAAAAIAAgACAP7//v8CAAAAAAAAAAAAAAAAAAAAAAAFAP7/AAD+/wAAAAAAAAIA/v/+//7/AAD+//7/AAAAAP7//v/+//v//v/+//v/AAD+//v/AAD7//v/+P/7//v//v/+//v//v/+//7/AAACAPv/AAD+//7/AAAAAAIABQAFAAAABQAFAAIACAAIAAIABQACAAAACAAFAAAAAgAFAAgAAgAIAAIABQANAAUABQALAAIAEAAIAAsAAgACAAgABQD+//v/BQACAAIA+/8CAP7//v/7//j//v/w//j//v/+//D/8//+//D/7f/z//j/8//z/+3/9f/w/+f/8//7//j/8P/7/wIA/v8IAAgABQALAPv//v8CAAAA/v/+/wAAAgAFAAIABQACAAgABQATAAgAAAATABMAFgAIAA0AFgAhABYAEwANABAAGwAZABYABQAFAAsAEAAFAPX/AAAAAAIA5//t//7/AgAFAPX/8P/7//P//v8FAPX/7f8AAAsA+//t//v/+//1//X/3//l/+L/2v/1//P/5f/q//j/9f/t/+3/8P/w/+3/+P/1//v/7f/n//v/+//4//7/8//7/xAABQAAABMACwApAB4AEwANAAAAFgAhABsAFgANAC8ASAAbABsAJgAeADcAIQAbABsA/v8eABMACwD4//7/GwALAO3//v/7//j/AgD1/wUA8//q/w0A8P/n/9H/5f/4/+X/1//l/+3/4v/t/9T/3//a/9r/5f/a/9//8P8AAOL/3//U/+r/6v/U/+3/8/8AAOf/3P/i//P/7f/X//D/CAAbABAAGwAeAB4ALwAhACQAAAAWACQAMgAmACQANwA6AEIAGwApAC8AOgBYAD0ARQAhACwAMgAkAAgACAApAAgAAgDU/+X/9f/t/wAA3//1/9H/1//M/8z/xv/J/+X/2v/U/7j/qv/D/5f/nP+t/7P/tf+o/8P/w/+P/7D/qP+f/77/xv/U/9f/AAAAAPj/xv+c/7j/AAAmAIIAu//l/yD+XwVeEn4OLQQN/b734PLf99gAUgTiBVEGD//29NvzXPgb/E4G6g7DBwX8/vXp8qv1vwChCWMLJglaA7T73Pa796P7NAHqB+kJwwWw/l76uvnr/OsBZwaiBjwDdv/F+/r5nvu7/r8BbgO8Ah4Anf3p++v8dv7FAIoCHQJeALb9EACSA/EAdPuSA2cPZQwfBan8rvMj8pj7OQL+BIIJuAeg+4z1bPk3+p/4JgAhBxoECgF//P723PhgAegEnwSXBKMBhP78/VIE3QwrDawIIwJC+q70U/kYAdkFNAmTB4H+4vXx8zj3W/tuAmcHKwT5/R75vvYk+ZAAdQYZCN8FvAAN/Jb6oPur/mgCXQQwBKACkwA7/uX+twDrAZ4B2wDt/mv9ufzo/Nr+IwGmAmsC1P8+/s7/pf/o/mMBuQHc/3v+if42/WUDVQyxC98EUf+N+y344/3JA2ADDAPlAz7/pPpr/An+9PxLAOgC2ABM/yv+Hvz/+xACpQRzBEwDdwBj/B76UPvC/L7/aANuA6YAoP2z/Vr+cP4CAIUBsQH/AO8AGQCa/tf9xP4E/13/bv7B/rX/pgB6AFH/e/+f//j+g//YAEIAQf8FAKX/mv5E/ykBfwDxAOkArf9R/3QA8P8+/pz/PwDhAIIB4ANYAWD++/+/ATwDTASDBVgB/ADXA0EDCgGvADb+EPvF+5T+uf08/DH9efz8+zj/ZgFE/aP8XgBB/yL+ov8vALoAEAKgA88CuQEhASEBvwAjAvoALADeAbEBXgC0ABMA6/03AGwBYP6M/jD/iv0P/pgB3//o/L8A7gGu/Vf+NgJo//z8fwA0Afj+CAHxAU//V/58AscC1/+D/30AXgAIAFAByADa/hX+OP+FAKYAlP9E/3b91/2NAHv/rf5l//D+wf4EAiYBF/6D/xMB0v47/woCkgLi/4oBYwMS/hf+SgJKA+kAZgKNAWv+UwBf//n9vwFdA1UBFfx8+xr+w/+NAiAC+/5u/oT+Cf54/8cC0wAr/7cA4v+aA3kDTP0o/RICPwJX/m3/JgHX/qD+AgBV/PT7pf8FAPcAPAMTADH7Df0pAHb/mABzBXEBsfv+/TQBSQS4BfP/MfyB//QBn/+mAYQCEwH4/8n+e/7G/yYB7f7u/H0AJgJg/Cj9RQFvALQBwQPY+234DQB+BJf/5gLXBEX7L/kkAPQB1QPTB+MBj/y+/tsAIP3i/pIEvgVgAXcAhfts+SkAAgKd/mEAQgJh+oL7IP15/mMC1QPKAMz+jP3K/YIAFQJrAtEEVwTJ/2j/kv1u/fv+4gRwBbEB1P/Y/Kn5nvk/AFEFtQbtBB39ufUc+E0APgOSBH0GKQHI+gf8PPuz/Y4GvQiKATf8EAAxAdD7Yv7qBZUBrf8QADr5SPk8AegDvAIpAtv7w/ii/jECxwP1BQcDyf6u/SL/UAD5AqoF8wNl/2P75PeW+gEDUwi7BBL90/jc9nr7BQCjA+IDsQBl/Rj8hv9SA0MGTAP2/qAB+gAN+5gANwinBtgBKP0B9yT5nQTVA2YAWAJpAA75Z/lsAOgD6QhwBEX6tvVx+woC1wOLBn4Effli9nz9LgG8A/YENgK2/Ir7mP2YAeID9QUIB6kAb/hP9uX9ewZHCg0JfwBa9hL1d/kYAfEJBwul/nL4qvgb+7kB6gd5A/r64v6D/0L7lQHLBm8A9vzQAFL+G/rhAIwEnQNxARr+4fm5/QAGDgeUBM0BcPZ+9XkCVgf1BwgHHvvC8g/9JQNmANgAjQEz/o75M/8VA+3+FQH1BYIA1ftTAHcACgMKC4AH5vvL+LD+tgRqBYoDYPyY8kT2e/7wA4EFJgLP9YPvAf4OCN0EawISA8/9NPrFAOUE9QWcBTwCCf+o/rwDtgNE//v+IQD8/Qn+KQJEAij+W/v6+tr+jP/n/4QC+P7b+6n86/1FAPMDvwKa/0H+ZAD0AGj/3P+jARgBTQLzA/v+2/sM/3ECowHNAFr/Zf2U/mUEbQVq/9P7I/2/AGsDVQMTALz9B/4+/3b/xAKMBFUBc/57/kn/twFSAmEABQHCAUn/OfzP/HkBuAR/AqP83vl2/e3/O//eAIIByv2u+6D+6wGgAUcBFgCt/9AARwH/AJ0C/gT5A9f+1P4YAq4CjwJNAWQAkv5B/kIAwf+1/7D+Xf2H/HT89v0P/jb98/4E/wf8jP2q/7D+Yv8mANAAqQBgAWEADP9YAXkBvP3P/i4CMQPYAHP+LvwC/LkC+AWoA4//FvoW+Wj/TggmCe8A5Pe49rb95QXwBVr+xvdn9zv+yQZqBwH/RvhA+p4BEAg6B8z/t/r0/GgC/gQHAzj/Xf3E/pUCXwYpAnT7fP2gAQkEzATrAeX9E/vP/kYG3AbzArb+8P0yAL8CxwKKAFMBmwI5/sX7UAGJBNICwf+X/in8mP0aA0QDfv53+9b6Yfo5/ikCIQD8+//7f/0mADoBCwAJ/2YAdgJ5AWj/gf+M/wEDcgfSAo/8uf1u/sn/tALQASn8iPgH/dgAAf8u/eD8Y/wm/LcA/gNxAeX+mv2U/iYBhwN1BnYDKP5f/54BoAIlBX4F+//F+pr/DwXrAhgBOgBr/Pn7qP/uAocB1fwV/PP+XQJdAiX/1fyP/fwAoAKrAVgA7f5V/qX+Sf6B/vP92/yV/VsA/AEhAGP7cfs+/1T/tv1S/ZL9Ff74/3kBhv9S/iwAiAC3AAAAef3Y+zD+UgINAuf/K/+g/hMAVwNJBMoBIv7r/mIE4QccBlgCUABMA4UHJAlqBj4EeAUMBWgFvAkxCQwDfAF+AxoDqAMMBhgDj/0o/sUA0ADsAOwAKP7b/K3/5f5p+zz7Uvw//bb+9PzK+jf6YfrY/Cj9Kfqz9Zjys/Sg++j8i/dr88f03Pdq+dP5GfkJ9gb2yPi3+Rv6JvzT+Zr2RfqjAEIBdwC0ATQC2wA5AhkIyQzuCmQG5QQICfgPcRReEyANkAigDCUWRRvlFnAORwtLD0wV1xZhEvcK2QWnB6gMXw6NCXEC+f1l/scC1wPl/mf4jPV79XD3n/fw9Grwtu157CXu2e+U7TTo6+Gb34HinOV549/c/9ZN2VDgUeR/4jnb29Yw3cTrw/eI+gLz0e7u+3oSmh4NHbMUbxJtHy80TjzoMdUlpSjcMQ85ZDwTNQUleR1FI60peSVkGRcO0QdZBxMKLAmNAPz0be9x8oP3BvgN8srpVudO7sT1F/fA8BLqd+kl7ibz5vMM7Z/kj+L45ALobeRG23jUftOv1d3YlddX0ozTp96t5Qfhr9936lH3DP7PBFYJEAqCEyMloy7mLgssXi5NOO5BrUNAPtg13DIFNpU4RjP8Jrcbgxd9GN8Wfg7NAWT4u/bf97v1rPE27ArqWOvB7NLsx+zK6x/tOvBF8obvuO1v8EjynPCY6x7o4eb74xbgTt2E2VTTYMepxW/eeO/U2gW7ub+E4h3+l/6A7gndxen2Fds1kSteE84O7yPTRsldzVBaL9AjQzuOVzpZf0AmJE4aDSbpNKIw7hUL+qvzCACbCV4Age264Bjhnevr9Qry0eUK4Ibm4e+M9DTzau5V63/rcO2n7yTxVO0r5KDZmdX811/cotOJwXXKfegg4yi/FLpe1u3tyvPQ8NLjeeGu/aYjwyinGJMQkBrDM0hRUlQUPJcpkzZKU7FbIUg2MC4nwi0JOxU5QSDjAuP87wgLEHYEQvEA5rrob/GD9jfxEeZz4vHoWfFx8tzuROtS6/vsnO/w7ZPpfeet5p7fL9VX0tvW5dOQxCzGY+DW6CzGPq9PyVTvovYG7j7kv+DN82AeZzMdHnEJcxURMtFMIVmIRxwqUiYKSGZkwlmNNhcfSyG/N1lGsTZBDiHwIviaFcke/gNd4pDYXuna/4MHM/bk3b7alvCNAhf/MfLA50/kNOvL+GH7+esH2NrSCtlR3gHaOMoZs16ry8uA8BLbeqCNmVHMdfei9hPhPct80Vr/HzM1NIgQ+//6GMlEDWTPXHU0NBuGMeFg4G0GTYgijhd7KhNGlEVAImr2fu0tBX8dzBZ59UrYKt2191MJxAJz63Pc/eWw/1UMGgPq7//pWPKw/+gCafrH6QvfeuB45bThddO6w8S2KrqD1QjpfMYLlvSgRNvQ+ljrSM74wrbbBRNzOCkkvv1VApcw8VtDZ7JOUSs5KL9QtnZebMU9jRxsJIBE8VJlOqMMgvLr/bAXKx1zBNTkSdut7CMBfgUw9fnjqOKT8igDSQRH88bmcO5z/SEAs/Sj6qfmNuRj4vnhStgayDq7tLSzt83PCuJMwJKJ2Zb42zn9EuJgvo64M9s7FlU3KRzC8ikAPTSrXbRkq0uPJqAnVFT/f2hwkji3Gdgvlk+SVCs3/gxa9nkDBiCJIXEA7N6L3oz0pAjdBCrwEN+s540AMg/RBEXx1eqA+LEKMQr791Pn3+bI7wrzkOfy0yDGzsPWwtS32rYRzL/QSKj7jF+w6ORu65DNFLpFxUPu6B3tKbsFuvCWEL5DJV6WWO42sx3UMXxkRnlNWlgv0SGqMThM5Ff5OfUFFO/hCZEqfCXe+3DbgN6E/n4Vbgzq7ffex+yOBnoSPQeW8RDqrPqPDHQKDvfG5SPjmu3Q8RzlDc4Vv4+/eMF/vDrF/tG0vWqWgJ7M00LyPtuNvhfABONFE+cqoxP+9QYGkzX6V6xXQEXbLGQsIEvbbB1mqEKyIiwiQj6XVoJHxxV/8+X+FiT2LjoQleL31w73ThfCEnn1HuBv5uMBdhWVC0jwneLx8qgM/Q8c+FDg4txl7HX4/utN0L27iLzkxOnEprUZspG6BrnJpBujkcHc2+zVUMRmx87emgXtHvUXHgCnCIEwzVGUVb1FEzSGM9lObWebYztFhSzZK3hDPlQ+Qv4WUPxvCb0jgylJDWDrXOX/ASEZURAz9zzrVfX6CasWqAv793/y1QDDDoEOFf7C6MHjofC9+CPqotM9xI/Ap8GqwsS1Jadhsrm/mq3jmkGvFc/p1iLLuMpr2fTyFhFeGx0NzAxwJ9hAWEopSWlAZTnjQKJVLV4rUjo97THQNApBH0UBMD0S/QYaFYkf8hhTAbTyGvcTCt4Q4ANo9Az1fAK/C+ML3QM3+pr1BQGoCysEIfAE5Gznw+466QfYJcm5v1u9bLwhtC6l5a23vV+wBJQpooTINtmWzbzGCs8c5/YNTx47DTEBNh0cPVRO60quQLo0+jxSVDJgpFBGO1A2QTqlQf1FIjuvG4gJphIWJOIgTQuq9i33IQkgFvcK1/f89BABGAxMDBwGdv7y+dL9bAerBLP1Xufe5/DuAe2y3YLN38Epvvy917jVq5ymfraFvC2nnpdJrqTMlde6zQrIEdUD90QVlxapCK4L7iZjP6JMI0lLPvY4t0cWWdNZHkgdOLk3jT7+Qlk8GSu3GrgY5R27HiIWRQlNAtEGnA9LD7UHqwOXA20GaQmnCNUD8//S/Xj/YwOxAaD15OdR5srppOYm2N3Jub+suv63mLRtqLajwLCbtCOi2ZfAsGPOftNxxQjFB9ne++YSQA+PA6sNjSw4RCFI1DsbOLo+2ktoVftVv0hnPRU5iji9PmlAqDCMFeINTx+bLdceBgVy+hYIhxxNG84GPfkQABkP3RSjDIIBh/tB/tYHyguWAMzsB+Jx6eTwd+dV0MzA2LyBwMS+3LHJnTadS7MhunOmmpsTskbLAtbd0m7Rbdy/+iMUEhQEDQcU2ijJOrFIn0SYOBs3LEbVUnRShUaSOcE5hT2JO0Ey6SvOIu0XohYHHsccZA/RB68Jsw5iDy4M+AX4BGYKOQv6CKEJLgodBTIA6/6M/gj5au025J7ejNzm1vXMrcBltnmuYarJpH6eGagJsGygEpNgrW/OutXmzYDMT9lW+F4bDyAMDVsK0SgDRqxPEEigOAAzFUKRV+lY90djN003GjtkPStA0DbjHdQPsR2pLbUpsRNoA44HMhoZI2sUkwCc/ycRjx59GCEHx/3HASkJrgtu/hbpEOBJ5ZnmrdsLzSvABrlrtcKzd6sMnBuRqp2HtLuwUZUFl5q/Yd4/2Y7LttDo6gEOoiASFFIETxZPOGlJQ0atOokxNzdoTPxZtU7iOSY3yzuXOVE6FzvhKuYSURBOI6YuRx53CIYEbBKGIHYddgtCArMMmRrmGzgQhgb+BBQHwAfgAvD3Zewk507lCuHj2NbNeMF5td+wrq2Gpz+Y6JPdpciyBaHXkqasLdOS4pPVt8xC330HtyTUH4oLzwvDKmxHDk8/QJgvhDDzQo5WZ1gaRF0vrjDDPFVBMj13LacZZxCXHjEvxii3EFwF7Q9cIBslERiZB9MIqhlZIz0YQgmMBAUIdQg8A5755exE4gbe1N2316rLyr5bs82r3qteqmmaYIiukj+rBaqmkKWUurw13VjYx8c3z2nx7hMoHR8Q+wbAGRo7pUv7RNU2XjTTPqRPlVpNUqI6izTfRG1EODM9NOo7Nib+DTwckDQ6KxwR3gjcDykbUyPDGfMFsgZ/Gx8hixGzBYoKEgz7A3P+Zvss8TLolOXy3p/Up8xmx/W5oapJp5uptpz6jxyeTK0wnQiQYrBC17bZFMqXyCTfLQWtH4IT4/olBQowDUmHQLYx6SznNMJGGVmTWERAdy2yNa5ICkgxN34nax/KHTkmUC6AIg8O3QrJF6cgQhqUDywJqAyyGKMc+A1vAGUExAx3CCb7PPM475vpxuUP4s3Yb850xQK+qLYAsRqtr6AHkYKYH7BZsfSYfZZcugbc3do1y+fLw+UBDNoeWRGxAWQQBjQpRwdCDTYcMyc7Gk3gXK9XeENgOXc+ukZLR2k/+S71Iv8jDDApNTwmGBXAERgdzSM2HVQPFgkGD84XERcmCVr/mwE4B1cEWfqO8IvoauXX40vdzNCpxra/DLiar2+ohaLTllWRFqFDsF2jOpCqpivRrdvmxmXBvtph+kMQcA3U//X/uR0iPBA+QDM3Lqk1B0BxUbFaKk6AO8I3LURhSA9C0DZDK5MjPCZyNXgxXR5TEX4XMCBlH8AYAxB2DawQ0RiPFFAIhQGGBK0GfwHW+eDyW+lu44fjwt/U0s3Enr2hu8+1RK2xo0WXwJdYq160CKImmc+1G9mP2ozI3Mtc5cH/ew2NCiMCFQoMJ/A7dz68NgAz2jhARDNT2VdoTCI6hDdEQmZHGkL4MVImQCIsLWA3by1TGf0R0BwUIaEbZhNlDeINNBQIGXsNkgEo/wwEzwR9+sLxvOlP5BjgDt541aDHHb7AuAK0vq3FqICfOZPdm7yrmajAlx2jm8Se1V7NXsTKz8HrnAegCqn7BfuuFJwzND7xOG0yoTVaQaxPbFqMVD1FpzxzQZxFWEkTRuIyzCDPJgw6DjwZKjUa1xbrHl4kACHNEx0LLQ5wFiAWcwwABmUD0AHf//n9e/dV6wnk+eH13l7Xgs27wCC3G7Uxtiut/JkEk2yi8awhoTyaDK4zyHTOQcpZywrYcO7EAjgFI/1NAvIZxS1nM2gxfjHhM5A95UzZV19O1j1qO75EdEdWRvE+1S/uJaMtzDiMMp4jJxrZGFYa0hz/G6wS6Qq8C8IT2BIICUoCtAFjAXz8Z/jZ72/nBOMp4ErYo88wyuTCqriIsWSx+qqlneubKqdhqqegDaRAu3zOCMwVx1jOF+PO+RYH4AJq/6AK2SJMMtwzDS7ML9Q6QkfEUu5TLkmFP49C20guSTpHCz57MjornDPaOsMyoCVKHdUdmh7zH6QaghIrC/4M5hEBDT4F+gDn/6n7BPYe8TzsSOcY4dfaANQezlfJMsJEtsmtMa2AqI6fpJ+4pmilbZ59qBq/e8lWw3TE6NF45Iz1dv72/Y/98wttIbkuqS4nLMYy2TxTR+9QylO/SbxAa0LHSP5KakUkPF40lzCnNGE2WjIzJ9ofNh/1IPse2xxwGGoQXA6OD1QOlgkDBbcBs/249zHzA+6A5wXfptcg0hbN7sYlwMm3crD/q4Glap9/oX6mKqczpo6wLcBHx/jJ0Mze1eXjrvPe+RL8oQC5Cy8bgiRoKEsqYy+jNo0/sUkHS+RGaEJoQ4lEXkZDRfQ/qDjpNQc5YDeaMXctwSfOIu0g6h+zHS0ZWBM4ENcNtwlnCDoItgOp+/P1D/Ry8O7qMOZU3YLWKNM70nXKBsH1ubm1867cp8SlfajNquOqFK/4uH+8s8Cmx7nPwtfp4J7pm/H3+mgD8w2zFboaeCLwKSgxxTZ5QW1FJUMYQXZDXEVHQq5Auj4kPN04LTy9PTE3jDHeLU0tZCplJ9gkLyKrHBYZdRgsE3UOVw0SC50DM/6N/ID3y+9h6ZXjV9yk1RrSWc1CxQq9J7kWs2mriqTmo0ymuqhYq1GxDbUatyC+48Y/zlHUYt2J5ZzuzvepAWwKmQ92FrkeMir7MZc6+UAzQwlD7UNCSSBJpkfwRFRE9kJBQ19EGEDfO4U2QzRiMOYsqildJlEiiButF78T9xFiD7kLnwYeARf+Z/ma9J3tmedK4LzZlNTmzuXIi8JpvSW2Ja4WqEeifaDKok6nyKgarU6x8bX/u7rDmcyR08zZaOLX7cb3LgFaDP8SNRgaIMUsSjdTPiJEskZ3RzFIg02sT1RMhUjNR95HUUaFRmdEij/oOM40MjNVL3crDCjFI54bDxYNFM0REQ4TCUYFkf9y+iX2gvIS7GXkJN6h1znSFs1oyeHCk7qQsgesZaa1n2ee/Z+/oz6moKzLsMWyKLgGwcjLWtJP2mbizO0499ICdg3jEg4YxiA3Lms3PD+nRXxJdEnSSRlP5E8cTi5LO0vbSPdG70eLRqhBKznkNWIz6y9TK4womyPQGoEW6xNpEfkLWQiXBOL+k/nP9TzyJuoj49zcGNc20bXMD8nnwa+53rKrrb6mDp8znQafjKQhqPmtsLBQspq4/cJbzlLSzNnu4VHu1/dMA9cNVhIJGGcgxC9aOJs/+EV8SU1JXUkTUcpQrU23SOZII0jTRhJJmUX8P6w2NDVLM2MvRirxJZkihRqBF3wUmRHuC58H0QSc/1X7Ufb/8sTruORZ3mvY6tIIzSXJLcO3u0K0Za6DqOyfc5y1niikuKfHrByx3LGXt7XBBc0d0mbXKeFH7AH31QCUDV4S1BfqIAIvzDhCP8JGmEozS6tLNFFmUnVNs0ogSjlKLEf3R3hF9z/5OFM14jJ/LQYpayUAIsUalxXjEhwPWwoDBn4D0v1h+Cv0rPCH6snjlt4N2HzRA8yMycvD/7uHtX6v/aiIobudHJ9gpGeoCa5Cs7GzJbgRwvXM0dL52Gbhc+wB99sA8wzEE6oXeB/QLHw3DT/yRoRLSU3aTFlQ41LZT3lLgUuBS5tHLEcARv9AezpvNa0xkywPKKwkiyJ6G8oUZxFUDa8ImgVEA539zvdg8wPwgeun5azgytlJ0j3NssuzxzDAHLnLsQKr+aOJni2em6K1p4qsOrPvs/a16b0ayoTR0NbO3VDo0vOE/UUJ+hFdFdkaUigsNQM84kNESgxMnUtvT6BTVVK9TpxMvktFSIVHb0e+Qs47rDUDMnQtlip5Jhkiwhv7FaYSqg7PC44IgwXq/0X72vZ98UPu7ulo5Lvbt9XS0HTN38n6w9O8grPjrNqmRaBMnAOf7aXWqBqunLG0tDu5hcTCz8bUT9or43fxk/q2BCUPaBaAGdYiTjMGPJVBGUfaTC1Mj0x3UcxTzVBaS61LCkpkR/hFFkVmQHQ2szHbLuAtQSgNJCgfZBhWEkYP1w40CcQEjQAa/df2/fBf7mPqDORa273W6NBDzO3JKcdav5i1ZLCeq0SkQ51fn9qlxamdreOzGLVKti3Alc6c0/rWN9/o60H2kf+HC+4T4BW/G1MtKzkLPm1FQUzlSwxL0FGzVGZSS067TWJMvEl3SMhHkUTnO8o2fjLVLWQq4yZkIUAa0BO4DvMMPAplBb7/6flS9dbwHe3F6b7k3Nw617PThc8Xy37IFsNkugWzya4sqQKhcp/EpEWq9KvTsvu2MLcTvKrKJdMy1VLbMujj8i/6QwWRENsSQRe5JvY3RT2zQwFMVE42S2ZQNVciVY5P+E43TzlLt0g/SdNFgzyNNXUy7i0PKQEnISMpGykULRDVDC8JogUYAXn8Lfcp85zvR+vZ5pLhbdvA1SDSZs7OyqbFs77ltlyw+qp5o0Sc4JojorKohauTscqz17Y7wGbO3NSN2BvhPu1s+ocBdg2wFlMaKx80LkA8pUGVSctOIU/GS+NRpFjaVRlQ5E0JTopIJkimR09CNjgcM5IwZCvoJp4jpSAGF7cQkg3ECuIGsAWPA8/8Dvja9B7yF+ye57DjA92Z1lzUQ9NezonIzMHQuxO0ea1ip0ugEZ+Ko9Oq+axAsduyl7bzvqLLJdPF1sje9OnR9yj/1QkTE7sWYRucKfE3lDw+RBVJykqVSfJOYlXdU2xP8E3tTUhIekiNR+tBTzk1M0wwvSuoJwskrR9PFlQPKA4hCn0GwwWoA53+rfhw9YryV+1W6JLilt252dbU2dOgz7PJGcRWvK61BK9hqJmg3Zz0oWSqgqx9sDezD7iIvGvJy9S3163cdOn+9ur/EgvXFvwcux9vLQU9lEKKSaBRYFI+TbFQRldUVeRNV0t/SidFV0NDRBg/njVQLiMtnScRInAgOR8PFhkPpxCiDbQIuAdWB8gAuPj19lX0Ae115rbjqt3W1cbSbdM5z8HHzMFEvt23i7JKrfumV56RnpmoCa8qsYq20bh6vIfHJ9bc3PffeObg8vT8OwRGD/sXfRh+HkgtTDmNPmFH7kp2SXpI7E+HVPFQX0wuSptH6EMWRctFiz4pNsgz8DBeK5Im0CNMHskW7w8HDNYGHQKHAQH+iPng80Lyte9S7B3sWeh54Sjcbtqp1pHSLtDoyP7BN7vmtXWxxaiuooykWKrpqyWvx7S8tbK57sUz0U7U89rL5XryPPzAB8wUPRvNHHEmUDbCPstFck60UVlNZE/9V55YXVNFUDhOfEiJRENEsEJiOfAyAi1wKIsjaiCgHnMW/gyFCpwHPgTmAnwCWv5c94H1h/Sc8Hbr/eeE4xHcRdi/1mXT2c1PyHDCp7qStAawKasEoxeeI6ITq2iuLLOUuMC5xMACzubYT9tQ4RLqqvfsAGMLPhe5HUYfZykMOShBTUdXTUhPiUxOTy1VAFbjUGJLCkkiRahCzEHmPl424C6qK0olSyHoHXwcDxQfDzUITQpyBy0EWABS/b351/R/87Lvye1y6BTlJN4G2/7ZP9cc00DN5cdPwUq96LYGsTKo66IVpV6rda+ps/a3lLjMv6rMrteJ29jhQuqS9KD+Bwv5FQMaJhxuJro0IjztQ7NLVE3rSbpPdlW+VPpQek52SVRER0IwQno+VjU5L94r7iQoHwEfYRt8E4YO9gzICJIDUgPeAdv84vdR9s/ziO927ZrtkOfC3yTd+9vh14PToM/EyHDA8rqitwuxSaeRn9mgGqaOqTmto7MVtdm6V8kF1yXc4+Er6qv1IwElDNwYgyCcIQwoOTcQP9dEZUxpUHBMTE30UoFVvVDfSyNKWUQbPl49TT6uNlgvXCs2JoQeIxw3G34Vfg3LCAAGKQL1/wH/oPwt97zyjfFq78frUuqQ593ird3f2yvbL9ef0gXOD8jfwI28GblYs2GqRqcErO+wb7PUuJ67NL7jxlbUxtsQ35TkJO9F+/gEKhD6GGscUSATLM02HD3RQzBL7kpoS5NPc1PYUnJP60sFSI9DB0E8QLg8xTQsLrAoniI2HqkbzxUqD3QJIgWPApYAKP5N+1f3f/MW8Y7vSe2B633oXeTY4CTen9vx2OHU3s45yAjDfL6WuRmzyqtdpeOk5qrRrzqybrViuTy/icrW1lzdjOJ36sP2JgIrDRwYRiAFI9QpGzbYPolEXUtsT8hORU8VU2VVSlGfTPlIl0Q0P3U8+DpFNL0r9iZnIkodahkaFqERBwyyCOQGnwQYAXP/9vzy+I/0gvIy8M/sY+mh5jDjRd4+3DbbvNcz0uHNosnWwxq/3LqptPere6fVq8WxIbQiuJO8q75NxuTV8eDM5IjpY/OK/ToH+hIoHWohmSM0LaU4dz6PQ25Lhk1ESkBNGlOKUpFN60rcRTw/cDuMOwc4ki75J3wl0R96Gl8XWxNgDLUGHQWjAm7+Y/xh+3D3JvI978buI+uh5rvl7ePx3+Teat6226fVAdG0zjDLzcWGwRC9KbSxrCGr6K7qsSO0tbiFu4K9xMeF1hHdIeCW57rxR/xqBu8RixpdHcYhoy00NzI8uULbSYpJG0miTZhRr0+iS8JJeka8P0s9QzzrNwEwSCvaJ3MgphthGTEVWg4/Cd4HRgU9ALH9fP2I+kn2Y/SV8vvua+xS61noEuNm4PTfDt402KrS7M6ayY7Deb+Rup6zq63PrLWv/bKEtuy7V8Dnw2HN7tlb4CXlMO3i9lX+ggk2FPcb1x8sJfku2DecPRxEtEkpSTRJck73UMNOokxHSq1Fbj8TPeU61jPWK6YmWSEQG+oWqxMDD2cHaAM8ASj+//t6+Xv3M/RA8N/vMu/H7FjqC+cr49jgm+Em4SnfLtok15HTW89IzOLISMVgvsG2+rExtFG53b5kwifDGcTOyvfWLN824+npFvEm++IFJw9zFwgaxxzNJHcsHTHoOMU+I0AxQPBDJkh6RhlFAEWSQUA7NjiHN8YzMS49KmAmHCEvGycZhxUiDj8KbAjiBMH/yf7E/bT6BvjL9/P1pPEZ8E7va+uQ55Tl/OLA3kncptgR00LOXMszyZnEZr5nuju3YLSutqG7oL1jvxDEj8g/z7PZF+N36Bzue/WJ/pMI0xEcGhogSyNLKxczmjjNPuhCZUScRORGMUkjSNlFMENmPqs5GzcTNYEwXisgJg4hdBvdFpsTyw+HC2wIwQPw/uv9wf2g+0P30vSx83rxme477jbsjei+5d3imuKY4vzgmd3x2GTVJdOP0EbMEcrrxuXBv726vAbBLMWSxmjIdctj0KPYP+JV6STwD/V9+scB5golFa4cDyChI/4pBDAnNK05CD3sPF492z79Pro9cjyHOfo0ZTBKLyEtvigFJHAfZxriFXcTbxCjDFYJfQb5A4cBHgCB/0T+Fvth+X73j/WH9EXyqu8a7o/rkOg15mvk0uHq3Svayte71EzRSM7+yo/HtMRkws7BL8QryJTK+stHzxTUINn935Poy+/+9Jb5c/6fBckN1RUYGwoekCMGKm4uODKCNbY3YzglOmI7uDvJOdA2zjO2MBMt2Sp1Kbcl/SG/HRMZsxVVE3UQhAzkCHsF4wKjAM/+3fze+jX59fdf9o/0SPKc8NTuPu1V61XpNefO5fbjx+Ee3xzds9pr2MjWJNWf0r7RHdGSzzfPytBL1OHX2tmz24jeUuJ96JnvVfQh+Vr9igGfBoQMbBNDGL0aTx/bJBcojir/LM8uyi9xL8cvgS9KLs4rVCmzJ/EkBiJlIF0eLxsAGRoWfBMLEgYPxwzdCrEJzQg6B08EuQKmAMz+fP0j+/X4mvbz9JXzsfFG763sHuqp6CznouRY4jHgvd7O3ODah9qm2K7XIdde1gXWt9c52RrbNd6T4HTh8+IO5ofqMO7H8iT4fP2/AHYD8gcEDMMPUhTAF/0Z/BziIAUjbCS/JGAlRCZdJpUmeSX6IxYijiCMH4EdlhrnGBQYkRZVFE0SDhHqDisMLArZCKoGMAWBA4UBif+K/Lf7vfn19zP2I/1R+ULz1u9E7QbuM+w27AjpCOhR57rn5OXZ5annLeYw5bLlQOeJ5MTjLuLc5PrnyOfQ5xDp8epE7J/tX++08jP0/vY0+zb/LgFEA+8GJAljC/AOSBG5E7AVJRewF7IZmxteHB4ctBxbHVgdYxssG/8a/RmhGYMY4hUxFGkT7BFcEE4P9g25CzoKEwhcBSAETwNoAnoA3f52/Gz70/qZ+ZH4V/c+9jn1ZfUB9bbzE/Ke8frxsfF/8X3wi/A18D3vme/D78vun+4v72Lvcu/97njulu+q7+Ture8C8Rjz4/Mu9HP0pfVi98b4bvso/Rf/UAGlA60FSAdkCfQJPwulDNcOBhC1EJsRBRL3EboR6RFNEsARdBEAEeoPVA4UDXYM4wspC3QJkwj1ByQHfgVGBbsELgOuAgQDfAJmAaEAZf8B/9L+xv65/fz8Nv1C/Dz8RPyN/Mr7ivv0+n36jvlc+UP5WfgR+Ff3uPYa9tr1RPXg9G71aPV+9Xv12vWg9Kr2cPYX9rP2Cfiy+DX4Kvit+PT6G/yr/M38cf0B/Yz9T//vAPcARwEpAhID+QLaAgEE3QSBBacFbAdkByQIiQZICAYGcA1AGoMP4gPqBxwagRX9CNgC8ANSBLoIYQmwBdIDbQQ+BAQDRwOHAxACYwNE/5gBLAH3ASj9RP5xABsBtwBl/hv83vrf/qX9IfoI+678lP7N/DH9v/oC/Ir70/tF+976ofo6+Yj62/lq+bL3Wfpm+vj4CPmy+G/5uPjT+Br31/ey+Xf60fjR+Or4Nfkp+lD8Y/yd/Ar9mP2x/cf9oP7f/5gB/wGNAcoBWgMwBKgEogXiBqcG+AaQCPoIfQgpCHoJNwqKCiwKyAnTCZAJFQoNCfcJUAkQCbgG7QbiBv4FVwY7Bp0EIgToAtAAfAGCAcoBmwD7/+L+mv1V/SL+9Pxj/Hn8PPyL+h76PPsT+mH5bPn6+Y75avkD+RH4Tvj99wP4n/ey+Mb4WfhD99/3+vn6+tn4ofhh+cj6I/tF+977VfzQ+8L83fyr/iv/ZACt/0IARwECAMgANAHHAhoEFwSuAkcC/AKUBHoHVAYOBnAFjgWDBR0FrQbCCNAImQZJBfMFOAavBjIHrQaWBjAFyQWiBI8EvQYBBSUDAQQDBVUBAgLoAr8CNwAl/5sAqQFWAOD9nf1V/TH9Bfsd/gn/dv0p+jz7XfyC/Hb8sfu5+5D6Evx6+437zvme+gL6RP60/I375PlK+7n8mPsQ/IH+Of1I+uv92v+r/Wv8PP0P/aYAjQEJ/hr9aP8VArP+RQAo/2r/2wBdAzEBJgEjAfwBTQArA3kD9wFMBDwDLgG8AFQEAQNDBfAELQUmAfEBrgEOBioHjAVpAesBtgMoBCgE4AO+A5cE4gTVApMAu/8xAckDkgNNASYA3f3S/lf/OP/a/zcAzP35/WD9zfx//a3+yf6D/8T+Zf4K/Uf+BP1d/Er86/37/vn98fwY/BX88fvG/h78Jvzp+7H8k/pQ+qb77/ls+vf7Vf3e+pD7cvrF+3H90v1x/d77jfyj/WD9s/1X/rP/bwApARACCAGvAK8AbgKzA3MEEgNxA80CfhZVHCkLzQEVA0//kgStDeoO6wPH+075QPko/ukA8ARsCMEDkAhRDokOIgWuAcQKfRB+Dv4MiAcP/zD/vv9o/y78LPrh+UD4y/jF8oT0jvn6+Sf4b/h1+PD1cPfx/KX9i/c195L0avcy+sr6sPeo9nP1K/Pj9GT5Bvep86bzmPzxChv7LvOm8Qr0I/1yBgwFv/uQ8HTyDP+nBVIDeQR2C/oHDAS+A1AIBQh5CtgUwRbEDXEJXw2TEMQVnBc6EqIOVw3aDFQPExL5DKEIBA2rC6cGLQVnCFwFGQaRBnwDfP1V/AT/lQFuA5j8Q/mZ+cT8ofoH/HL5tvUx9PP26PSX7sztg+3a7WLuHext5X7lzuXa4zjk6uUQ4SLdv99s4C/nWvU0+qbxiO/c+DP+DwQjDFcPFA4cEKATZRaWGgodQhpOGc0coxuTGt4ZWhXvES4UWxO7DrMMZgumCd4HdQdwBAwDlwSBBckFmQi6CdwFhASnB+4Msg+DDhILeggCCmUMPwu0CBcGSgKNAO3+JvyO+Mn1sfQ086bxK+3k5mLjueM15Vflk99r2BPV1tXK1xDXyNSYznXLT8jE2IL8BATg65LiIOxw92wQuiJXH7cRshDkGrQkBisZLEsjyR8tKDUp0SHcGewRDRLNHBAaIAumAB3+owISDbkMzP+a9GL1ef2AB+4LbAnLBzQJowzWDzET5hNzFtEYDBf9EBQOMA5fELIQmAvHAzn8hfkC+rX3NPPh8Ebv8+tf5MPeGd5Y4Mrg0dyw0sfI08UPydzLc8iiwhO937m7wqvqignR92XbW+CB9eUOaCbHLnojPhcrH7AxhjrrOOoyZCxYLtgvPilXHk8VlRO0GjUZ3Adv+SL3UPsPAz0Ikv2H7OzoHfafBEgJBwMVAQsHTA7jFEgbhRtkGDIY4B37IBAavxREFdgUgBDNC1oE+fwk+UP4aPRE7X3mquXt5mvjAN6V2oXXLNcs2N7W5dGaykjFSMSHxkDEicFJwrfN3+7kBrrwptjt5E/+HBpbLfIqUBvsEtwgATleP+A5Li+8JUMqvy7VJh0ewRRWEY4XNBLuAYb3PfiD//YEe/5m8nrnY+rx+lwG2gMF/JX8uAYyEM8VAxpiGB8ZXCHbI8cd4hfqGPEcHhumEusKawQKATcBkv6G9wPvk+nh6M3ooelh6ZXj/d2c3uDhHuA+2lbVNdMgz23KesUDwhTAt8NFxY3OWvRhB7LnsNPs6UwFmh9bLdImvxQbE2cq10GaQY85tSpQI4AspDPbLq0hWRARDq0WfQ8P/5n5YP2P/df97Plu6q7hS/BWALECjfo89On5LQdkEYAYVBcWEv8UVx9KJSchlhn7FnUZxRnzFYEO/gXKAXkDcQC49wDwUuzP6yzpp+fT6aXlA91J3D3f1N3x2ejZSthY0CXKNMftwo7C1cghzMrGKtVQ+kUAD+T33pj04g6EJmwtsx93EWEaFTeZRqc9IC4LJFUm8DEmNgYqDxVPC4IRKBc5Db7/Tfpe+ov6bPtK9D/pzud58xH/x/yr86D1kgLBDfQSmBOjEuATsRyYJAgj1B75HEUaAxmXFvwSThAVCw4GqwHp+Qb2TPfG9jTy9+j542fn0uzi7afnv99D3Yjf5eNP4g3YkM/yzcXMV8jCxIDEG8YXyejSrvKmArzpaNlE7bME0h6ILMghXA7AEZkq/TywObMxfCZlIFwqRjK1KbcZsg+qD0cU2Q5+BGj+LvyL+eP6wPmC8Sjs4POj+9L+l/4g/KX/dAqCEaAV1RU5FVYZzB3iH5whxiAEHf0YQhO9ELoR6g8WCaACGPtR9y/4HPlj9Cvs9eYA52PqJ+656/7km+Db3zDk6uUT4YfarNWs1RHV8sx5xk/Io8/X0avHDNMe+Uz/eOa/4ofy5wYzIHgqrh4ZD7AXYDAfPWg4RzANJMwguymEMUwplBh+DsAQYRKrC5cFdAD3+qz5hPzD9sDucO5w9736zvlc+JX8DwTpCkYORhCDDnoRMhn0G7gYshgeGskXLhR3EbgPQxCHDK8GtADT+V76mwAi/4T13exr6+jtpPDC8/LvN+ji4x/mhOrb6bPjiN/q3Ezbj9nR06bNHMswyw3OBc49yyzfhflV9Ovic+L/8TkMpyCmI/gXQQyWGmoylzlFNeEsGCSgJjEthC8lJ70ZbhXUF14T6wohBx8FeQHz/nn8j/Qv8VT2yvqv+U73z/aj/N8EeglTCtgJBwvDEHwV8xXXFuoYiRhiFpsRaA5OEEIT7xDIB7n80PqHAeUDUv589MHsqOu68X71CvMX7BHnxOMG5W/pK+oU5ardY9kB2mvZRdd91PfO2cqJyg3OpdGV2TD1a/0+5dHd//FsBwEfzSQiFyQIpxEjLyo95DVQLUsilx6fKtQy1S0MHkoSchGxEzUPMQm4BcUBivv3+fj4evEL8PP2E/pt9v/xfPT2/dQE0QdsCIYGCwlDEGoYchqOGIYYexiBF8AZZBnrFd4Q4g08DIMHRwTnBc8Cf/t29eHxr/Ge8Wzw5O4868Pk8+MX5ufmyeSK4pHe+9wJ3D7b4tp31tDPRc750R/TmtFY2B/4vAOs6NPXrutTCGchUCQbFBgBOginKo0/xTYxJrIYQxh2KIs1tjG3G0EM6g1BFYgSLgxABmwAzfqe+/f62vQh8Zf2LPs+9vTzlPa2/bsGuQqDB/sGGAobE84YVxaPFLMWzhknGeUVYBM0FIYPIA25CrsF0gG0Ag0BDfvV8vfwz/Oe8VfuhOo06fLmquUh547nV+T741LjNOBh3ybiH+SL3f3VvdTC2OLcr91Z1WLT+vFGBmzwEd0j7J4B6xXuHdYY7QbMBJkgDzojNiMnJxo4GBoodzeINOUe+w3UDksa7BkhEWkJ/ABE/MgA1QBk+CPyB/Rf9/n0hPPq91L8SwACAnkDcQNsB0kPSRdHFeQPnA4YFG0YKRqBFlcPGwmICTgO4AstBOL+rPt1+MH1e/Xz9DXv9Om/6iLtn+4l7PHo5OWt5ULp1+t96M/jc+I543niY+KI3rHZt9fd2Bfa99eE2cz0LwA86rDaiuk/ARQYzhizDJH/LwjpJBs2dysXHv4WdxzvKuIxKivLGoAR9hVQGtcW9xFgCxkGlQK8AS3/nvpv+ib9W/v29cjxPvYIARQGgQPl/yX/nAVFErgYKRSDDvIO/xPZGZ4bNRdTEYEO0Q0lDRgMBQkAB9ABzvnX9Rz4Fvl+9g7wYOsY6hrtSe+X7NbnTOXJ5R7omehZ5t/kneRb4S/esNyU3C3dHN1w23jV3c/06lEGifX+3L/huPfIELMWuw8wBKkAgBllME4rviBbGj8b/CUgL+4vwCEvEj8U6RsfGTcSCQ/KCfwCCAExATn9EflD+Wn6PvWQ8aX2P/2w/3v+sf2t/lQE1A2bEi0OIwwvEXsXzhguFWQRoRA0ElIU/xJbCTkCgQNGBdgCSvyY9FnxS/HF8UryCe4Q6Mnk2eZs6KHnn+VU5G7jVeOJ5OXkh+Gk3zfgG+C63pHbhtvt21fk0/ov+9HliuI29DQJ9hO2DKIEVgDzDYkotyzjG54THxfAIv0sKSxOIrYUrxL2HNwgexY7D6UMAgqLCEsJhgQ2/i78dv8f//349fZ0/FAAXgHQAH7+qP5qBaUNag4NCqsK+w0vEdgSyxGZD2INGgw5DagL6getBWUFdgJQ/I74ePdU93b2f/L97qLsWOq06uzpC+j65qLkeeKV45zmCOgK41zdp92s3+vhZuKb3wPc29hu42D+AADN6lrkXvIABygWoBOICX0AEg0NJTgq0SC1GXMWax6cKd4r4SF5FXYVHhwbHI8VuA+uDJUK2wh6CJcDWP0g/G7+oP2Q+pT40PoP/qkAtACX/37/9gMeCscMFQvKCvkKDwyWD0oSZBHdDVMJ7AdCCkQLJAkiBTD/wPlZ+Yv63PgH9LLuz+vu653sbusI6Ebm5eQK44riCuOJ4yrl4+L33jXeL+CH4u7iguG/4BzcpN9z9v8A9/K651bvBv8EDAcTdBLMBO4D0RjxJvcj3RwlF98WIh+qKm8qxRrpEdEWdBw1GnsWPRL5CucGdAsVDM8E7f/FANz/vv1a/1UBIv/z/XEAjwJEAokEHgibCvkKdAs5DFsLpgqcDwIS1w4QC80IAAhhCFsJLAhxARP78vms+lb6DPdT8ujtbusV7HvtD+yp6NzlsuVD5u3mHOdF55nlouT+4yjk8OVk5zDlieP+4gnlsuje8MX6gPcf7ZHtGfq0CIYOnQvsB84FFA8VHFwgdh3IGAYX+hrUIJglPSE1GMEV0RhZGTsWuRMfEJULPwkICE8EZf/E/i4C1/+N+sD3ofhj/YoCBwS4/+/6KP81CIkNxA2bCZ8FLwe+DdASuhCFCs4GrAeFCSwJogZ8Ajv+yvtL+jv4YvbU9Rj0w+9E7IfrK+zE7Fjr5ugT55/msueW6Kboy+dZ5qjk1ON45l7pH+ez49fjbeV651nvFPeh8j7sIfD9+d0EfAo/CSUFDwXcDwocdB3FGgMZMhixHO8ivSPzH+MchRwVHTIagxcoFukTxRGfDxMKlwQPBKoHvQfYAkH+o/zr/XcBYgSrBKsCIwErAgEFKQh3ClMKLwiTB6cI5gmmCroJdQeaBPQBigGpAcP/9Pv195j0DfPg86bzE/BS7PHpzeiT6QrrhOqe6KHn7OcQ6VXq5evP7Kvq9+gu6zju4u4y75Turewa7Mbu7PLh+Of4D/a498X5h/1oBBgJ8AyhCZoDsQqMFk0dRxzNE7IReBmqIPIiYxySFFUVmRlTG5kYSxDECukKRg2zDT0HRP8B/8UB7gN2Aqn8HPmj+14B7QQKAyYBqwJ+BDsGggh9CfwJLgsrCy8JvQekCHoJiwd5BPEAKP6N/FX8Zvsy+GvzPfDq7/rvp+5i7GDqCul66MXoW+lQ6Kzo/Okx6m7r+etz60frPOsE7RzuX+497zvvye4T8PHy9vX1+MD4tfm0/MH+qAJAB+8HKQgTCfEKPRHdFvcZpxfqEDURlhk5H10ejhi6EoUSnRUtGdwXLxDuCpgL1wzVCxsJtQblAzAE4gRKA7EA+gDPA+cFxAQ2A/wBaAPRBhAK4QkDBpcEpAbIB9wHMgcaBFMBOgC1/4r9/fqD+S/4h/Uu8zfyy/D170DvLe3d64fsqO1U7m3tT+2X7pnvxu647wjwxu8c8Ajyy/CR72bxG/NQ8r3wt/BQ8d7y+fSi90P5+vh9+VD8ov9VA30GrwdsCaALjw2qDwITUhbXFqYUNBS4FgYZahlsGaUWjRM/E+ES8hDRD/ELvQi1B04HMgenBZUC4AHFAWABeQFVAdsB4ALNAl0DSgNrA/kDsAX1BWgFlAVJBMEDlwPVAogAFP92/5//9Pyx+nf6Rvgq9/P2mvWd8wLzf/G38dDwNfDY8QnuRu588s3zQfSu87Tx0/JS84fzIPVC82Pya/Uw9QrzCvR386j1VPZE9eX0qPTB9N/4oPsF/IT9lf3x+93+mgQCC+4LEArOB9MJ6A3mEdUVuxUhEgEOyA9CE10VIxQ4ELAMNgtSDe0N/wtjCu4JBgbjAigEuwS1Br0G+wRmAUIA8QH+BZ8HJQXiA2gD6AOkBhAIUAhZB1kIogV5AnQC/v8VA/8C5/8r/VD78vdA9/L3zPYP9fj2ifUd9Snzm/MP9dX0rfjO9ynzvfAa9Uf1SPnw9zD1O/bx8yPy+Pam+gf8L/q19qP0OPb3+Rz5nf219/X2rfee+1//O/4S/mn82AA0AdIBfwBsAI4GMggPBQQE/wHJBhMJTggvCaEINwlgBMkFTgZpCOEJSAhOCA4GtQVZBgMHpgkmC+wJnwUtBTAGYgacBk4HpAhQCf0H7weSAugDpAYJBq8GQgIo/7b+2wB9BmsE4wAr/iv8ov8H/vsE/v5k+cv5HvurArf64P25/FD8D/3G9/j2vfik+lr+8PfX90n3y/dh+Ij6Xvpk+sr84/IQ/NT+F/fO/3b+bvvX/Zr+Z/g2/jr7bf+j/Uv42PzN+0/0pvzzBPf7cP4u/t77mwJjAbQCRATI+kb/2wA5/S3/6ASoAlUDtAKr/n4EogT5AUYFOP/KAucFpwXVA7X/rgJaBaIEmgOdBB0D9wHEBBEGbQa4BOkBVQNuAUYGBwSSAocCLADPAjkCnQOo/jcALgIABn4FVASjAOsB1P/VAQUBCgPFAAIAJf8S/o//i/q3+kcCh/7//K32S/pNAfwA8/2+/Zb6YPwl/vv/lQJmAU36PflY/HH8FAVB/iL2e/+6AHEBiACy+fn8sP/n/6L/Af21+CkCKQAX/jYCJ/l3AbT72/xF+yj/BfyJ/jYCvPyEAvv+eP/rAZIDegkxAgX6FAVjAdwF5wb/AXcA6gTt/+kAj/7BAp0E/gMpAqv+4P3Y/J3+yf9cBjUGd/n49qMAO/+MBe4BLv6gAfD/igOR/8sHZQNZCBgBdv9e+uX9wQIGBj8Cpf1m+zT7dv9KAXECeQLD/zECaQAT+av8j/3H/Y4Fyv0s+pT24frD/94Bn/9g/dv8ofpQ/E36ZAD2AiQAevrYAVH/8QA5BBb5bvw2AtcDxAM//br5TP/LBgwGHQSoA2EA6PymAOkAogZd/wgAMQHF+1gBbwB6AMkEvgPn/0T/lfxC/KkBrgPX/ygDwvr2BHz9hQG2/tr/hgQjAXEBBP9QAY/+FQHbAVQFRAI0AF76ZQQp/OQGYAFb/HcA/PxsAZD56ALPArYCZf0H/mj+D/8VA5v7/v8ZABsAHgCjARr+fgQe+wQDoQCb/JMANv0QAHMDfQB3+lX8PwCY/FICggFg/cr96/0d/Y4Huf1dA736EAAJBI36ygCFAYz/AQQxAeH6pwes+rwCOf6d/rwCmwA4/xgB+QP2/KQHpvyK/d8EuvjTAAcE8wIzA6X9ZvsaA/j/hAJ0+xoEgQMm/Jr98P2CAG4B2v9ZBsn+3/59AMn+vAJPApcFefzjAFICYPy2Asz+2gN6APj4Iv64Bu/54APr/WH6HAbv+eUFzv+x+wX8dAGB/6P9YQdy92MCVfVdA6n6swN6+/cBYv7C+zUHL/sB/w/90QeQ+o/+qwHV/IIAPv86CGn73/+5/WACrf5PAnwBl/6o/6L+LwDUBfkChfuQAZr/pgK/CWT4cP8g/hgCVwPlBOL/+fs+/ocCvwK3APwBJf5u/oH/3QJr/scBX/+PAtsAfwJxAev87wAAAHEC2v6TAHT8SQQV/poEhQFj/B0Dh/4bAPP+OQKg+2gDcfwm/UICPP3n/zz8TP12/6YC2fh1B+X2TP4dAgX8Wv9VAmD9hAJf/4T81//4BFj8LQSu+zQAmwHQ+poFj/7N+2AB7gIf//7/3f47/jb/GwHgAY8CA/jM/j4FD/96B/j32/xRBrj/uwQbAq3/Tvi5C3L5wAWc/0H/XQPw/qP8CAc/Ao0Amv5jAZX70AFQAHn8mAki/j/8gAfN+2MCl/+u/ekByf6zA9f/O/66AHEChQHh+SUGqfv5Azz8Uv4P/sL7Dgb4/3b/Mf3B/uj9VAYj/QX8twAxAYH9owLl/6D++QIG+K4BfwDX/dsIYfuT+uACIfpB/ZsIM/4C/D4D9PqEAo/8cQOW+qIG9/k8A0z9+QH4BR76/v3FAPEATfq3CBT2RwpK/Fr9QgBBA438bgNr/p8E+f30/MYEvP3nBQ74Kws/+/wATP4EA8L8gQSt/gwE0vzE/VkHsfoUBkT9PwKq/4f+jQB+/8wDcf0IB4L8EgM//ZX7jAQ+BDL6if5a/nEC8QGFAD7/I/0YAm78rwb3+p77kgLx+qoHMP/2/GABoP3O/0cDWPwxAU0AT/44/+4BmfnGBP34PAIvBwL8/PszAxz4VQLiBV38zP0CAuj8KgXw/Zb6dQbN/IIAggG/Aav+UwDM/4X7vAOJ/gwE3vpWALkDWPyrBIn/owBh+5MAK/5eCSb8fQff9d4H+fzDBo74xARF+msEhAM2A6T4OAVbAJH/1AVQ+hAB/v3w/oH/RwOdAqABk/nNANgBwf8bAtf/LPs2Asn+PQDU/5T/LQVp+nv/UgSU/z8AnPlcBgb46g0190j6aAX2/CYC1wMq+FID9PsHA9L+Jf5uAmsCZvyE/BgDt/vD/0EEm/pkAN38Fgcx/LEBaP45/bv+1AT5/Ff+OQLD/0oBAABq/+b8RARHAjv+3gDX/eX9xwJM/5sAJgDN+rAFPv45AgH+ygEC/DoIO//K+sIKLfif/8wD+ATQ+2gF2Psh+w4Hrf+WAHj/h/33Ab4DafosCXb1AgCKAPcAHQQa/bkBFgDX/rX/LQUb/DIA/wCo/sH/1AUB9oAIRwKb+goCjP4Y/B0FIP33AaIGA/d0AO3+afsXBU/+cP5aA+b7//uBBJv7YASjAuf3+fyvCHr61QBbAqn7SQR7/lX+EAE/AM/96AIV/EEFUPxN+2MDaAJo/TMD9PzX/WUDWv6S/WYBEwF8AeUEE/oFAJ//JAAVAYQCOf25AwH9Ef+FAbME9fdoBfECx/xDBfT5dAGWAOABYP7d/lsCGv5NAtv8zv/RBib9ZgIH/If9vQZe+WQIe/8H/HAEz/zaBD8A3f18AX7/Af+g/HUGjP3u/UsAdv0KA24B7PgRBvH89vx8Asr62wEtBvn8bf8XBFn6wf8xA7/89AGHAQT/YQAH/kIAOQQH/LcBMQHhAMr7u/5NAJz/dAEk+s0IEvzFAND7ufyKAuYBWv2UBCn6BAKt/vYDvfjtBUICBfwKAnz8FP9ZBzcAR/3oBBX9MgB8/MQDFvpnBuD8NgXpACf4cP8GBQH+hgU3/Hr6ogTKAYUA4v74/gsATQId/RsC2gMA+oECJgHf/kMF9PvN+0EEFQHg+8cCKQIa/3z8nQMp+50C6v8CAvP+Hf6YAUIA8P4N+48NGfi1/8r9dwC0+owN1fuH/J0DK/03AAH+f/2dA6YBv/wIAan7wf0NCTH7DQCf/+79owARB278QPntBuj80f8uApf+f/wHCij/pfVJBfH61wXmAhYAXvkpALsENv+V/e/6LApT+SUEEPxmCVz3cQCB/hACNPs0AokFMvqlBRv6egAo/kAGZgIgAtv8av/TAC796Qif91MASgKaBMb+W/w7Bl753gEYAw/9Pv8r/+f5hwN5AQn+T/9NAAMFCPmOBfP+Wv9K/IcDUgT2/Jj8LArs+3D/0gMg/JL9oAP0Afz7iADf/wX8yQUR//r5Zwfq9yv+aANz//z9mgOgAXb/7PueAFEGrf8FAfT5YASb+lEGGPu/AX4Fh/uWANz/3/5x/ZIBbPk6CLH80wC8AK4CPPw5BAD5tgLi/gYGmPsNAGEHufshAFL8fgNz/v8A+QH+/9UAWPsgAif5vwm3ASz5Hf8YA632gwbE/esC/ADa/8ECqvc9CNj7+wVY82cIewVB/iL2bAe6+vAFJQOf+MYFpvwHAxv8MQGc+JYGgQS1/4X59AB6+vECUAox+6sDOvna/837/QYn+kkEcQF6+4oCSwBoAkD3eQE6CRsC1fuEAhv6WPz+BCcGYv4M9vIIYfuvBvb8OfwXBiv2bQZT+4QE8/5z/2r/qwICAEgAKP9H/ksA+P7dA7QAuf5YAOD8ngHFAL7/NAE3ALb9KwI6AFH/YP4p/N0EJf7sAGMCWv/x/PwBP/0f/6cGGAFl9ugCSgLl/RUK1/U3ALkCIgUa/bf76/0E/nkDCf9LCDT7CwCu+zEDqfqBAi4DCwBYAK3/tv1i/kYFvv02/skF4/zr/VcEEAC/AJr/yf53+4cB4frwA/YChv+oA7/7R/45BEr8ngFKAdUAHf/H+wAAYv9eAD8AGwnV/Jr++//S/GIGVPc+BTQCg/kbACsEvAL5AX/81voBBB39VQNBAyH7Jv0BBXr7Qf6cBqH56AIiBsD4nP/mAsH/0QS+/eP7NgNJ/2n6dv47BI0CawKl/gn/j/8/+wgAiAdmASv80gE7/kT9mAFmAtgBvv3R/37/BwLy9xQFUv7W+EMG2AK5/Wr/DAOu/AEE8/61/1//qP45Aq4Cmv/b+/gER/5YAFH/UPz1Btf9UPxrAvoAtPugAyb9BAIkADn9mv7z/3ECrf59AKP97gEaBAb/HgGYAUf+pf/rAnH8QgHY/DwDDQFU/7P9wgBdApL8+gD8/Un+ygJa/5v8FAbC/B//IANl/cIACQSE/s0Bif5o/hgDe/8ZAAgA8wL0+yYBuf3Y+jQBRQDxAUIBZgFF+cYEcfsaBOYBuP92/5r+tAKm+4kGfPsaBJr9nP/0AWD+DP8d/T4DhP5mAfn8CAFmAVgAVf6P//wA1/0aA538Cf/IACwA4wCP/5oE0v4NAcr8hwGP//P9fgOCADQA+QMN/FD8KwM8/PAEkf/d/mwBv/zr/egDFP/rAfn9KwJxAFf+Ef++/doEkf9X/tcD7vziA4/+Lv5XA2P9dAIi/jT8uQNkALP9zQE8+w8DIwLd/sf9D/2rAd4BsQI7//v+Wv5NAB3+ygHG/j8BTAOP/D7/sQHt/koBF//G/z7/vv/QASb7ZAAFACL+IgQw//7/JgA3ADMDsP43Adv8RQDUBBr+mv/X/hMANAEM/koBV/6H/PP/xwFY/VUBCAFP/qsBjANsAbQAEwBx/Iz+PALf/5ABTP3lA2wASAAi/1r/0v6w/13+/v1TAQUApgCK/b/80gE3AD0A6QBX/yADc/8b/HYC4AE+/+cFR/6S/t//WP3O//wCmAEr/bb9qQAuAiwAlvn1/5MIaQEt/yH7zfuVAW4DlQIz/0r9Hf0ZAMkDtAHvAPEAlQGbAVL+M/77/qj+UAA6AbEArgG5/ij+lP8sAYECmAHF+rP9GwFHA8YEBfz3+9v6bwAYAocBQgAe/DD/qQAhAEoCowCB/9gAkf+dAroA9v57/1gBAQQmAuMBVf7d/ZIBTQEl/0/+aP3QAEoCpgEhAJj9tv14/wQCXQLq/2X/LwDFAJgCIQGsAMoAlgAxAukACf+pAFAAe/4/ANr/qQBhAM/+xP42/3z9c/0X/yX/n/+S/VX8tPxd/mX/TQD+/sH91fyw/pr/s/4J/uj8qP5bANUANwGd/n/80vwz/R//qQGQAd//+P65/qj+3/5o/1sBTAPlA/EBXgGsALEARwJaA8wEmgSEBP4DlASEBIED1QNxA8QD7gMHAq8AugC/AY0C0gIEAgcCdAK/AGwAVgBuAWABkADz/0gAqP9M/iX+K/0g/e78xfte+X73H/Yl9Z31kvTr82zxsu7l7XPtlOxE7Xfx2/kZAHQBtAAE/YT8bwAWBzgOUBFsEFQP6A38C+ALLgv0CmsMOA7wDUgJKQIm/Pf6Xf1eALYCOgES/nH8Qvze++D7v/sV/fEAYAR1BUQEYwF3AKsCZQVLCMsImQZXBWgFjwSrA9ABoQAxAWsCnQI0Abv+2PuN+zP9uf7z/9//Xf92/2X/h/4z/qD+j//QAQQDxAJjAbX/Lv4U//MCKgYyBzYESwDX/hf/WwD3AdgBPwBP/wT/vv7//Jv6LPkk+u77Gv1x+633AfT/8jP01/Q89KnyYfHO8OHwL/BG7RLqUOhj6pnvNvXT+OD8BQGYArYCIAMzBTUIKAyTESUV3RR9Ej4PIwzpCuYLPg0+DgkNHgoZB4QDSwC1/9gAAgLzAkEDowIbAZT/qP96AFAB9gKtBMYFAwZDBY8EPgSzBJcFMgZABgwF4AMdA0QCkgGgAZsBBQEsAUcBJgALAFUBeQEkAGj//v8YAX8BYAFpARkAjP/1/yEAlP8V/g39Hf1o/Tz9hPyN+yb73vsV/V39bvyu+9X7UPxg/fD9aP0e/C/7PfpT+Wr4RvaP9KPzYfJ68YPwLe9c7sztROyb6STnbOjD7d31yACCCIIIxgSPAiAETQk1EAkWOhlTGaIX8xSyD1AKhQd1CEoM9Q4gDeoGj/6G+KH4+fti/y4C6AJKAsoABP+r/SD8Ev28AfgGowlhCSoG/AHCAG4CEQV1BuIFqARuA7wBFP/j/Cv8x/0QAfkDKATTAB3+0v1U/5sCHwWBBfgEYATdA2gDeQJNAYcB/wLEBM8DnP9T+5n5LPvj/V3/wf5a/Xz7wvnp+c75JPmZ+en6rvve+p/4WvUx81jyRfIm8zTzzfFq8J/t8ued47biAeT95Wno5vNSBJgJ/gVjAkb/2wDECigWYB3QHJwXaxVjE0APKA1xC78K5Q7hEhwQZAdu/Or3//sQAecFpweaA8z/QgAQASQAO/8IAIYE2wmECyEKewb5ARIC3AcuDH4M6QmlBckD4AL6AHoAJgCt/xAChgQ/AqX9ZvoL+tL92AJoBXAEtADS/bP+MgApAGkABQFTASMB0f/8/ED5kffZ+Qr9h/3u+7f5X/fX9i34hflp+pb6/fke+t75qvfo9Tb1s/Rg9JL0UvSL8QDvNe6q7XPtOey/6RPofej86j7t6Oy/8hUCdgtSC5YJPQcTCDAPgRfNHGMdixgXFkEXnRSkEKgMPAruDFMQPg/ACPD+Kvlu/EUBawPuA0IBF/8bALcBWAHE/g/9IQAlBkAIlAZ8A3D/Ef98A2QHiQZCApT+Pv9eAV4A6/75/Q38Y/1rAt0DmABB/Ur8sP+tBIYGuwXgAmkA8QLiBlEGBASYAk8CqANrBJUCl/5W+vL5/v19AMT+0/uy+WH5UPoC+436EfiJ9TD28Pdd9oXyju8+7k7vUPFI8DnrquW246rlGOkg61vqNOia6475EQdpCosIZAY7BvYLChUpGjca3xbzFMYWlxWyEHELPQcOCCAN4g7hCZIBmPr3+sgA/gT4BfMCqP8/ADwCNAJNAIz+QgCRBsQKownRBZ4BRwGfBTcK6QqFByMDbgI7BPwC7wDl/27+uP/HA0wENwCj/H/85f9PA0QE8wN2AlUBvwK2BFoEzQLjAQoC2gKPAmQACv2p+i/7K/02/bH6CfiM9rj2Rvef9qj16PRm9JL0lfSN8o7vu+1+7dHt8OzE6/HqI+rE6gTsT+wg7GjsIu4F8pH3VP9qB78KRwuzC2YLPg1FEVUVJBnyGUYXBxX6EUkNhwvrC0ENuA9DEOINywhPA9gBXQQyB14JOgpvCFcGxgQBAxABzP+0AUMFAwclBs8DdAC2/Yf+kAGdA7YCSwAz/2X/D/9d/Sn8RPzK/WwAbgEZAN39YPx8/UUBVARzBPECugDc/9sA2wCM/+L+M/+7/6L/mP1W+qL36PZW+Wn8mPx6+vD3zPUj9Yn1qPVz9ej0ZvSu83fxeO6J7NLriezJ7oDwr/Bc74/t0e1q8An14/vBAi0HggnbCdkIWwl/C3AO9BESFL8TSBFXDeEJEwkeCq4LhA3aDYEMRwrsBy0HUwj3CS4LCgw2C+QIgAYiBMoC/AIlBE8FXwUlBD8CfwBl/wIAKQFjAesBxwL5AjEC3gD4/ykAowAsAasCPgM2AhMBlP9X/on+Hf9t/5//kv6g/Kb6QPjf9tH2ifYw9nb1rvOx8d/v5+5G72/ve+/k747v8O6f7lnuZ+8W8WTxgvHp8mr3nf5+Az4ETwOHAvYDCAigC8ENaA4iDfMLJgvpCboIuge0CPkLuw0HDJMIXAVXBaQIgQstDTMNdAsbCkUJxQdyBs4FlAV4BiEH+AWVAzoBzQBSArMDTwOgAToA/v+0AEoBDQFCABkA2wDeATYCGwHa/5r/igAKAqYBQf8V/t/+rf/a/1r+k/uQ+er42/ke+nX35fTM9GD13fWa9dLzpvKH8sfyx/Jy8Frtpeyi7XvvhfFF8Xvv5O4v8A3zgfWL+JT+1QMzBQ8FhAQtBFkGbAqJDj0Q6A3pCo0J5AhNCXwKEAugC1IMXQy5CyEKUwnKCmsMaA3qDesM4ApQCXcIAwh4B9EGyQaLBnAFSQSdA2MDdgMEBJcEBwRSAhgBEAHVAZUCYwLQASkBmwCCAOf/kv4X/s/+ov/U/2L+RPwe+6/63vpF+576p/iP9lL10vQS9CDz2/L/8n/z0vO38kPwXe0j7MHtn++475TvFvD18FXyP/Om82b01/Z5/HQC+wRgBLQC0AG+A9EHNgtBDLcKpgkYC7AMnQxNCzQK7gpBDScPzA68C3cJWwt+DiIP9gyFCYMHFghpCW8JJwerA7wCMwVRBxEGzQIKAZsBMwPUBJIEdwGU/vP+bAGNAn8Anf2x/L79MgANAn0Av/zY+in8rf7M/2L/tv7w/Y/94P0V/bH6PflQ+ib8EPyn+dH2FfUz9Yn3wvl3+Sr3F/VE9LTzevIL8YXwLPH/8gH1QfVN8wDxevBs8jv20Pl/+/z7mPzH/cn/dwHjAQoD4gVQCKQIGQcqBfgE5AaYCZULowsjCg0JngmPC10Nvg1rDZQNXw7tDg8O4AtgCk8L/g31DxcPGAw3CSEIJgm5CjQLkgqmCa8IoQfiBZIDGAIQAusCjwOoAon/k/sk+S/5VvqW+rf5e/gq9/v1z/Rr8+zxGfHC8ebyHvI47xLsaeke6Bvp/Oo27B3s9Op06gfrWOsH7AnuN/HM9m79ZABq/4H+sP/5ATAE5wb3CccKEwmyBzIHVgf6CHkLPg3BDasNGg7RDuUONQ8WEJYQXhFNEtEQmgw0CRYJ5grEC7EKfQjDBQkE+ATLBvIGmQYvB3gHHAZSA2QAD/8IALYCmgSKAqv9kPrQ+j/9VgDFAbcAK//U/lH/Wv+7/pT+Lf+o/3D//P1m+175xflx/H7+iv3x+kX5RfmQ+gL8NPwb+xD6Ifp6+lH5Gve59bb1avbJ9ij2+fS08xvz4/ME9bb1nPai9xb4uPfR9nv2XPdZ+fz7Vf1g/Fj7G/wH/rP/MgBFAMUAYwFmAt0DvgRlBdYGeggYCVYINQfkBogHLwl/CwkN/gzjC9AKvwpxC3MMuA1DDsYNOQ1PDJ4KSAlWCYoKwQv/CwQL9AiUBl8F3wXfBs4GgQUiBPkC2AEeATQAov5//VL9+fxh+yH5ovc794v3L/iZ9zD18fJY8gLzXfNC8sjw/e9472Lvlu9y72fvnO/k78XwhfGF8XLxqfHT8p30rfW49qf4Yfpb+837JvwJ/kIBlQMoBNoDhgStBoIIEwnhCCcI4Qc/CZILCQ2zDLkLoAslDNoMtg2dDbkMDw2aDgAPTw0VC+MJyAlYCusKPApWCBwHtQfNCBwIxgVgBO0EVwZ6BzgHAQVHAiMB0gEuAgIBgf+J/vD9F/5S/g396frZ+Yj6tPuQ++T5HPhO93X3vvcf97b1tvQP9Tv2uPYl9iD1WPQY9A/0/PM/9KD0/vQl9n73ifeG9gT26Pay+Cf6t/qk+nf6EPtu/JL92v3l/eX+lgBFAfEAbwDf/3oA4AKwBBQE8wLgAzsGgwdyB3oHVgf9BoMHYQiTCKEIZgmxCikL8QlFCKcHOgjxCegLCgy/CR8HlAYFCKwJXgq6CScIFgcZB+oGAwZJBUYFlwURBWsDoAE9ADj/H//J/5T/K/6r/LH7Fvts+pP5E/ke+UX5JPlf+PP28PUM9rj2J/cR93b2pfUz9Zf1NvYw9sT1xPU49mj2OPZP9pz2pfYD9/L3hvh7+LX4p/ne+q77fPyo/Vr+6P5YAEcBPQDJ/u3+QgBYAcIBxQG8AY8CWgQXBfsDmgNGBv8J2AoCCb0HuAcsCCwK7gwlDZgKywhhCToK9Am0CfQJNwqpCtUKkAmRB18HmwmYCz8LrAnyBxEG+wRiBRwGgwUSBPMDqASEAwoBqP9G/2j/ZADpAAH/Y/sW+Tf5DfoN+nL5ofit9+r2w/ai9rv1TPVR9lf3Pveo9vn1a/Wt9cH2svdA98b1gfWD9sb2T/aa9pz3n/iy+V76rPky+Cr4NPq5/GX+xv7g/Yr8Bfzr/JL+3P+0AHQB8QEEAoUBfwBsABgCKAQBBUwECgPaAh0EpQXRBn0HPQdiBgYGXAa7BksHSAgLCWQJYQlZCLgGOAZcBxMJIwr6CcAIywYRBREFewacB+cHugcLB8AFgQQaBE8EiQQ+BVEGPgZtBD8C/ACxAP8AtAHuAeEANv/M/Zv8tPtb+3z70Pu3++n6ofny94/2pfYU+Fb5YflU+Nf20vXE9Wj23Pb79hz3fve+9y33+fVz9Wj2Pfjy+Wn6g/mA+HX4d/kI+wL8R/zN/LP9T/57/m7+zP4WALEBjwJgAqMBEAE0ARUCHQOdA7ADgQN8A8cD0gOoA2sEAwYqB1kHiwYXBfkDGgR1BSQH+ge1B+IG3AXaBHkEIgUfBtYGZAdhB2cGCQXuA2UDzwPoBIYFxgQoA+YBYwEVAd4ANAEbAuAC6wJEAjoBJACX/yYAZgEQAkcBmv8J/jn9Lv1u/X/9cf2K/Xn93fzF++H67/rY+7b8yvz/+8j6/fkW+qz6FvsN+9b6k/op+rr5r/kW+rT6evvj+177Vvoh+u/69PvC/EH9WP0u/SD9T/2u/fD9Xf4f/5H/gf+q//7/+P83AB4BrgFbAVsB9wECArQBNgJzA1oETwS2Ax0DbgI5AoED8ATPBAQEvgNEA2MCXQJ8A20EnwS+BJcEjwOdAuMCqAO2A1UDRAMPA08C/AFVAjYCqQH0AeYCGANdAs0BxQGrAZUBygGjAb8AMgBLAP7/MP/a/jj/fv8r/5T+MP4o/oH+/v4z/8H+/v2V/Y/9tv3r/dL9P/3r/DP9Zf3P/PH7zfuV/HP9o/0z/cT8wvzY/Nj81fy//IL8jfwE/WP9YP1H/Wj9vP0r/lr+Ev7u/X7+av/n/5H/6/7U/kb/vv9TAPcAAgGxAOMAZgFxAS4BWAHKAeMB2AHYAasBbAGgAWYC8wLKAqgC4wK8Aj8CTQKjAqMCsQIlA0oDdAJ/AWYBngF/AZgBEgIEAlgB2AC6AJ4ArwApAYcBbgFHAUoBLgHIAGQAZgB9AFgAdwDFAIgA1P97/6r/+/8/AGYAUwAAAJf/Pv8o/13/s//n/8b/T//E/nD+Yv6U/gn/Yv82/8H+c/5w/n7+if62/hH/Uf9J/wz/3/7X/tf+3/7l/sH+e/5H/v79lf1//ej9YP6X/pL+e/52/r7+Iv9o/4P/X/8B/53+e/6g/uj+Af8E/yj/KP/2/h3/yf9eAIgAwgAxAToBugBQAD8AVgCjACEBLgG0ADQABQALAFsA/ACHAdgBBwL/AWABdwA9ABABGwJrAvwB+gDi/5T/UADvANgAAgHKATYCxwEbAZgAaQAeAYQCSgN8Au8A5f+D/4//JgAeAZgBbAEhAaMAtf8i/+X/YwFdAnYCrgEQAKD+sP7a/40AggBpADIAc/+S/kf+qP5z/5sAngFsAQIAuf5r/rn+V/8TAFAAn/+a/t39Wv05/cz94v6G/2L/5f5z/iX+M/7J/oH/rf9a/+j+gf4V/sr9zP0u/tr+T/8o/7D+aP6o/lr/EABpAGEAPwAbALj/Nv9B/9//PwAhAAsA+/+X/1r/yf9eAI0AvwA8AWkBCgGmAHoAWwBYANAAYAE/AbcAhQBeAPv/LAA0AeMBpgFjAVUB0AA6AIoARQFKAf8AIwEeAWwA5/8bAFYAXgDTAGwBHgEvAPD/TQA/AAAAUwC8AJgAWwBWAP7/bf9+/xsAYQA9ADcAMgDc/5T/n/+U/2j/u/93AKMACwB7/0H/F/8t/8P/JgDz/5z/c/84/wH/Iv+G/7P/vv/w//v/kf8P//D+FP87/3D/n/+U/0b/9v7M/tT+Gv+X/wgAJgAFALv/eP+J/wUAbABTAAIAvv+B/23/rf8AAAsA3P/B/+r/TQCpANgA3gDQAMoA9wApASYBEwH/AMIAdABYAGQAfwB9AGEAZgCQAJMAggCTALcAygDmAAoB5gCIAHEAiABmAC8APQBYABYArf+B/3v/dv/J/1AAYQDU/3v/sP/O/8b/EwBxAA0AcP9o/23/+P7G/iX/Zf9G/1T/if9E/8n+DP++//D/4v9FAGkAj/+5/tf+Hf8U/1//uP9J/4T+jP4X/1H/eP8TAJgAcQBFAHQATQDU/+X/bwBpAPP/1//l/4P/Jf9+/+r/6v8vANgACgGIACwASABpAJ4A+gDmADoAzv8CADIA9f/f/1AAvwDYAPEA8QCTAHEA7wBgATQBvwCIAH0AggCWAIUALADz/ykAggCKAGYAhQDhABgB/wCjADoAJgB0AMgApgApALv/if9+/3b/V/8z/13/zv8CAMn/VP8B/xH/mv8eACwAAgD4/9r/hv82/xH/Rv+w/wIA8P84/1L+M/77/rD/1/+4/3D/H/9G/9H/EwD4//X/JAAQAKL/TP9P/2r/l//q//j/fv8l/3v/7f8AACwAngDeANsAwgB9APD/sP8pAM0A5gCFABAAov9t/5//HgCIALwA/wA0AfoAbAA0AGYAvAANATcB2wAvALD/hv+M/7j/9f83AGEAUwAZAOL/1P8LAIoA+gAFAaMAKQDn//D/DQAWAC8AUABCAP7/tf+D/23/qv8pAHEAPwDn/6X/eP97/8H/CAAeACYALwD+/4H/FP8f/4//+P83AC8Aqv/2/sz+KP9w/5//7f8QANf/hv9a/zv/TP/B/1sAjQApALj/j/+J/6L/5/8WAAIA7f8LAA0A1/+4/9//HgBNAGQAUAAWAAUAOgBNAA0A1//q/yYAUwBFAAsAzP/M/ywAngC8AIgAVgBCAEgAaQCYAKMAowCpAHcAEADO/+X/NwB/AIgAUAD1/8b/6v8pAD0ANwBNAHcAegBLABAAxv+f/9r/KQA0AA0A3/+w/23/Qf9R/5T/4v8mADcA5f9w/0//jP/l/yEARQA0AO3/rf+i/6L/j/+q//P/EADn/7j/mv9+/4//1P8FAAUAAAAQAAIAzP+q/8n/8/8CACYAOgAFAMz/0f/1/wUAGQBFAGYAWwA9ACkACAD1/xAAUABbAC8AEAD7/9T/xv/1/zIATQBIAEIANAAbABsASwBvAGQASAA3ACYACwDz/9z/yf/U//v/IQAbAPX/2v/i//7/IQBQAHQAZgAsAPv/4v/X/+f/GQA/ACEA1P+i/6r/u//R//X/EwAWABAAEwACANf/xv/i//X/7f/q/+f/vv+J/4n/nP+J/4n/wf/+//7/5f/t//X/1//R//X/CwAIABYAIQDq/5H/bf9+/4z/pf/q/xMA8//O/+L/8P/q/xYAfwC3AJsAhQB/AFgAJgAvAEUANAAZACYAJADn/8z/+P8TAAIAJABvAH0AbACIALEAigBQAFsAggB0AFgAWwBCAOX/sP/J/9f/xv/q/yYABQC7/77/8//4//7/RQBhABMA1//l/9r/l/+M/8b/3P+t/5z/pf9w/z7/c//M/+L/5f8TAAsAsP+M/77/4v/f//j/HgDz/5r/jP+4/77/tf/f/wUABQALADQAPQAZAAsAKQA0ADIATQBpAEsAEAD+/+X/vv++//v/PQBIADcAJgAIAOf/+P8hAEUAZABxAGQAMgAFAPD/8P/7/xsAOgAvABMACAACAOr/3P/q//7/GwA6AD0AFgDn/9H/1//i/wgAMgA6ACEAAgD1/+X/1//1/yQAKQAQAP7/8P/f/9f/1//X/9z/8/8TACEADQDz/+r/3//i/wsAPQBFACwAFgD1/77/n/+7/+3/CwAbABAA7f+w/4//n//D/+r/EwA0ACkA+//X/8b/wf/a/xMAPwA3ABkAEwAAAMz/qv+7/9//BQA6AGQASAD1/77/s//J/wAAVgCNAH0ATQAWANf/ov+z/wgASwBbAFgASAAFAMH/qv/M//X/NACFAJgAWAD1/7j/pf+z//P/PQBTACwA/v/a/6j/hv+w//7/LAA3ADoAJgDz/8b/w//X/+r/AAAmACkA/v/M/7j/tf/D/+r/GQAhAA0ACAAFAPD/zv/c/wIAFgAhADIALAACAOX/7f8FABMAHgA0ADQACADf/+X/8//1/wsAIQAQAOr/8/8LAAgAAAAQACYAIQAeADQALwACAOr//v8IAPv/+/8LAP7/2v/R/9//3//q/xAALAAbAA0AFgANAPP/4v/4/wUACAAZABsA8P+z/6r/0f/1/wsAKQAvAA0A9f/4//j/9f8CACEAIQALAP7/8//c/8b/yf/a/+r/AAAhACYA/v/c/9z/8/8LABsAHgAQAPv/8//w/+L/1P/U/+r/9f8AAAsAEAAAAPD/7f/1/wUAGQA3AD0AHgD1/+f/8/8AAA0AEwATAAsADQAQAAgA+//1/wgAGQAbACEAGwALAP7/AAALAAUAAgATAB4AEwANABMAFgAQAA0AEAALAAAADQAbAAsA8P/n//P/8//1/wAAAADt/+3/BQATAAUA9f/7//7/8//1/wgADQACAPX/8//n/9r/5f/7//7/8//z//X/8P/q/+3/5f/a/+X/BQAbAAsA/v/z/+X/2v/i/wAAEAANAA0ACwDt/9T/2v/t//X//v8QABkACwD7//X/5f/a//P/GwAsACYAFgALAPj/5//t//v/AAANACQAKQATAAAA+P/w//P/CAApADQAMgAmAA0A6v/a/+f/BQAWABkAGwAQAAAA+/8CAAAAAgAWACwANwApABkABQD1/+3/8//+/wAAAgAFAPv/8P/n/+r/8P/7//7/AgALAA0AEwAQAPv/4v/f/+r/+P/+//7/+P/z/+r/5f/i/+X/5//z/wUACAACAAAA+P/w/+f/6v/w//v/CAAQABAA/v/z//D/9f/1/wAAEAAWABkAEwAFAPX/5f/t/wAADQAWABsAGQAIAPv/9f/7//7/DQAZABsAFgAIAAAA9f/w//X/AAALABAAFgATAAUA9f/z//v//v8CAAsACwAFAPj/8//z/+3/+P8FAAsABQACAAIA+//1//7/AAAFAAUABQACAPv/9f/4/wAA/v/+/wAAAAD+//7/BQAFAAUACAANAAgAAAD7/wAAAAD+/wUACAAFAAAAAAD7//j/9f8CAAsADQAIAAIA+//z//X/+P/7//7/AgAIAAUA+//1//P/8//7/wUACwANAAUA/v/4//D/8P/7/wIAAgACAP7/+P/w//P/+P/+/wAABQALAAsABQAAAPv/+/8AAAgADQANAAgAAgD4//X/+P/7/wgADQANAAgAAgD4//j//v8IABAAEwAZABAACwD+//j/+P8AAA0AEwANAAIA+P/z/+r/8P/7/wUAEAATAA0A+//n/+X/7f/1/wAACAAIAAAA8//q/9z/2v/q//7/EwATAAgAAgDw/+r/7f/4/wIADQAWABYAAADz/+r/5//w//7/DQAZABsAEAAIAAAA9f8AABAAGwAhAB4AGQAIAPj/9f/4//v/AAALABYADQD+//j/9f/w//P/AgALAAsACAAFAP7/8P/q//D/9f/1//j/+//1//D/7f/t/+f/5//z//v//v/+/wAAAAD4//j//v/7//v//v8CAAUAAAACAAUAAAAAAAIACAANABMAGwAbABYAEwATABAACAANABAAEAAQABYAEwAFAP7/AgACAAUACwAWABYADQAFAAAA9f/z//X/+//7//v/+//1/+r/4v/f/+L/5f/t//X/+//1/+3/5//i/9//5//z//X//v/+//j/8P/t//D/8//7/wAACwALAAgACwAFAAIAAgAIABAAGwAeACEAGwATAA0ADQAWABkAGwAeACQAGwATAA0ACwAIAAgADQATABAACwALAPv/+P/1//j/+//4//7/+P/1/+3/5f/l/+L/4v/t//D/6v/n/+f/4v/f/9//5f/q/+r/6v/q/+3/6v/t//P/9f/7//v/AAACAAIACAAFAAgACAAQABAAEwATABYAGQAZABsAGwAbABsAGwAbAB4AIQAhAB4AHgAZABYAEwATABYAEAANAAsABQAAAAAA+//7//j/9f/1//P/8//t/+3/5//n/+f/5f/l/+X/4v/l/+L/4v/f/+X/4v/l/+f/6v/t//D/8//z//P/9f/4//v/AAAFAAUABQAIAAsACwAIABAAFgAbACEAHgAbABkAFgAbABsAHgAmACQAHgAbABYAFgATABAAEwATABAAEAALAAUAAAD7//v//v/+//v/+//z/+3/6v/l/+f/6v/t/+r/5//n/+L/4v/i/9//5f/l/+f/6v/q/+r/7f/t//D/8P/4//v//v/+/wIAAgAFAAUABQANAAsAEAAQABkAGQAZABkAFgAZABkAHgAeACEAHgAbABkAFgAWABYAFgAQABAAEwANAAgAAgAAAAIAAgAAAAAAAAD4//X/8//w/+3/7f/q/+3/7f/n/+f/5//l/+X/5f/l/+r/8P/t/+3/7f/t/+3/8P/z//X/+P/7//7/+//+/wAAAgAAAAUACwANABAAEAAQABAADQAQABYAFgAZABkAFgAWABMAEwAQABMAFgATABAAEAAQAAsACAAIAAUABQACAAIAAgD7//j/+P/4//X/+P/1//X/7f/z//P/8P/z//D/7f/t/+r/7f/t/+3/8P/q/+3/8//z//P/8//4//j/+/8AAP7/AAACAAAABQAIAAgACAAIAAgACAALAA0AEAANABAAEwAQABAAEwAQAA0AEAALAA0ADQANAA0ACAAFAAgABQACAAIAAgACAAAA/v/+//7/+//+//v/+P/1//P/9f/z//D/8P/w//D/9f/z//D/8P/z//D/8//z//j/+P/z//j//v/7//v/+//7/wAAAAACAAAAAAACAAUACAAFAAgACwALAAgACwANAA0AEAAQAA0AEAANAAsACwALAAsACAAIAAgACAAFAAUABQAFAAUAAgACAAAA/v/+//7//v/+//j/+P/4//v/8//1//j/9f/1//X/+P/1//X/8//1//X/9f/4//j/+//7//j/+//7//v//v8AAAAAAgACAAIABQAFAAUACAAIAAgACwAIAAgACwALAAgADQALAAsACwAQAAsACwANAAsACAAIAAgABQAIAAUABQACAAAA/v/+//v/+//+//v//v/7//j/+P/1//X/9f/1//X/9f/1//P/8//z//P/8//1//j/9f/7//v/+P/1//X/+P/+/wAAAAACAAAAAgACAAAAAAACAAgACwALAAgACAAIAAgACAAIAAsACwALAA0ADQAIAAgACAAFAAgADQAIAAgACAAFAAAAAgAAAAIA/v/+/wIAAAD+//v//v/7//v/+P/7//j/+//4//X/9f/7//j/9f/4//j/+P/4//j/+//4//j//v/4//v/+/8AAAAA/v8AAAIAAAACAAAAAgAFAAIAAgAFAAUACAAFAAUABQAFAAgACwAIAAUACAAIAAUAAgAFAAgAAgAFAAUAAgACAAAAAgACAAAABQAAAAIA/v/+//7/+//+//7/+//7//7//v/+//v/+P/7//j//v/+//v/+//4//v//v/+//v/AAAAAAAA/v8AAAAA/v/+//7/AAAAAAIABQAAAAIAAgACAAIAAAAFAAUABQAFAAUAAgACAAIABQAFAAIABQAFAAIAAgACAAIAAgAAAAUAAgAAAAIAAgAAAAAAAAD+//7/AAAAAP7/+//7//7//v/+//7//v/+//v/+//+//v//v/+//7/AAD7//7//v/7//7/AAAAAP7/AAD+/wAAAgAAAAAAAAAFAAAAAgAAAAIAAAAAAAIAAAAFAAAAAgACAAAAAAAAAAIAAgAAAAAAAAAAAAAAAgACAAAABQAAAAAAAAD+/wAAAAAAAAIAAgAAAAAA/v/+/wAA/v8AAP7//v8AAAAA/v/7//7//v/+//7/+//+//7//v8AAP7/AgAAAAIAAgAAAAIAAgAAAAAA/v8CAAAAAgACAAAAAAAAAAAAAgAFAAIAAgACAAIABQACAAAAAgACAAAAAgACAAIAAgACAAAA/v8AAAAAAAAAAAIAAAD+/wAAAAAAAAAAAAAAAP7/AAD+/wAAAAD+//7//v/+//7//v8AAAAAAAAAAP7/+//+/wIAAAAAAAAAAgAAAAIAAAAAAAAAAAAAAP7/AgAAAAAAAAAAAAIAAgAAAAAABQACAAAAAAAAAAAAAAAAAAIAAAACAAAAAAAAAAAAAgACAAIAAgAAAAAAAAD+//7/AAD+/wAAAAACAAAAAAAAAAAA/v/+/wAAAAD+/wAAAAD+/wAA/v/+//7/+/8CAAAA/v8AAAAAAAAAAAAAAAAAAAAAAAAAAAIAAAAAAAAAAAAAAAAAAgAAAAAA/v8AAP7/AAACAAAAAgAAAAIA/v8AAAIAAAAAAAAAAAAAAAIAAgAAAAAAAAAAAAAAAAAAAAAAAAD+/wAAAAD+//7/+//+//7//v8AAP7//v8AAP7//v8AAPv/AAD+/wAAAAD+/wAAAAACAAAAAAD+/wIAAAAAAAAAAAACAAAAAgAAAAIAAgAAAAIAAgACAAIAAAAAAAAAAgAAAP7/AAAAAAAA/v8AAAAAAAAAAAIAAgAAAAAAAAACAAIAAAACAAAAAAAAAAAAAgD+/wAAAAD+/wIAAAD+/wAAAAD+//7/AgAAAAIAAAAAAP7/AgAAAAAAAgD7/wAAAAAAAP7/AAAAAAAAAAAAAAIA/v8AAAAA/v8AAAAAAAAAAAAAAgACAAAAAAD+/wAA/v8AAAAAAAAAAP7/AAAAAAAA/v8AAAAAAAAAAAAAAAAAAAAA/v8AAP7/AAAAAAAAAAAAAAAAAAACAAAA/v8AAAAAAAAAAAAAAgACAP7/AAAAAAAAAAACAAIAAAAAAAIAAgAAAAAAAgAAAAAA/v/+/wIAAAAAAAAAAAACAAAAAAAAAAAAAAAAAAAAAAAAAP7//v8AAAAAAgACAP7//v/+/wAAAAAAAP7/AAACAAAAAAAAAAAAAAAAAAAAAAAAAP7/AAAAAAAA/v8AAAAAAAAAAAAAAAAAAP7/AAD+/wIAAAACAAAAAgD+//7/AAD+/wAA/v8AAP7/AAAAAP7/AAAAAAAAAgACAAAAAAD+/wAA/v8AAAAAAAAAAP7/+//+/wAA/v8CAAIAAAD+/wIAAAD+/wAAAAAAAAAAAAAAAAAA/v/+/wAAAAAAAAIAAAD+/wAAAAAAAAIAAgD+//7/AAACAP7/AAAAAAAAAAAAAP7/AAAAAP7/AAAAAAAAAAAAAAIAAAACAAAAAgAAAAAA/v/+/wAAAAD+/wAAAAAAAP7//v8AAAAAAAAAAAIAAAAAAAAAAAD+/wIAAAAAAP7/AAAAAAAA/v/+/wIA/v8AAAAA/v/+/wAAAAACAAAAAAD+/wAAAAAAAAIA/v8AAAIA/v8AAP7/AAAAAAAAAAAAAAIAAAAAAAAAAAD+/wAA/v8AAAIAAAAAAAAAAgAAAAAA/v8AAAAAAAAAAAIAAAAAAAAAAAD+/wAAAAACAAAAAAAAAP7//v8AAAIAAAAAAAAAAAAAAAAAAAD+/wAAAAAAAAAAAAAAAAAAAgAAAAIAAgAAAP7/AAACAAAAAAAAAAAA/v8AAAAA/v8CAAIAAgAAAAAAAAAAAAAAAAD+/wAAAgD+/wAAAAD+/wAA/v8AAAAAAAAAAAAABQAAAAIAAAAAAAAAAgAAAAAAAAAAAAAA/v8AAAAAAAAAAAAAAAD+/wIAAAAAAAAAAAACAAAA/v/+/wAAAAD+//7/AgACAAAAAAAAAAIAAAAAAAAAAAAAAP7/+/8CAAAA/v8AAP7/AgAAAAAAAAAAAAAAAAACAAAAAAAAAAIA/v8AAAAAAAAAAAAAAgAAAAAAAAACAAAAAAAAAP7/AAAAAAAAAAD+/wAAAAAAAP7/AgD+//7/AAD+/wAAAgAAAAAAAAAAAAAAAAAAAAAAAgAAAAAAAAAAAAIAAAAAAAIAAAAAAAAA/v/+/wIAAgAAAAAAAgAAAAAAAAAAAAAAAgD+//7//v8AAAAA/v8AAAAAAAAAAAAAAAAAAAAAAAD+/wAAAAACAAAAAAAAAP7/AAACAAAAAAACAAAA/v8AAP7/AAD+/wIAAgD7/wAA/v/+/wAAAAD+/wAAAAAAAAAA/v8AAP7/AgAAAAAAAAAAAAIAAAAAAP7/AgAAAAAAAgAAAAAA+/8AAAAAAAAAAAAAAAAAAAAAAAAAAAAAAgAAAAAAAAAAAAIAAAAAAAIAAAD+/wAAAAD7/wAAAAAAAAAAAAAAAP7/AAD+//7/AAAAAAAAAAAAAAAAAAAAAAAAAAAAAAAAAgACAAAA/v8AAAAAAAAAAAAAAAD+/wAAAgD+/wAAAAAAAAAAAAAAAAAAAAAAAAIA/v8AAAAAAAACAAAAAAACAAAAAAACAP7//v8AAAAAAgD+/wIA/v/+/wIAAAAAAPv/AAACAAIAAgAAAAAAAAAAAAAAAAAAAAIAAAACAAAAAAAAAAAAAAD+//7/AAAAAAAAAAAAAAAAAAAAAP7/AAAAAAAAAAD+/wAAAAAAAAAAAAD+/wIAAgACAAAA/v8AAAAA/v8AAAAAAAAAAAAAAAAAAAAAAAAAAAAAAAD+//7//v8AAAIA/v8AAAAA/v8AAAAA/v8AAAAA/v8AAAAA/v8CAAAA/v8AAAAAAAACAAAAAgAAAAAAAAD+/wAAAgAAAAAA/v8AAAAAAgACAAAAAAAAAAIAAAACAAAAAAAAAAAAAAAAAPv/AAAAAP7/AgAAAAAAAAAAAAIAAAAAAAAA/v/+/wAAAAAAAAIAAAAAAAIAAAAAAAAAAAAAAAAAAAAAAP7/AAD+/wAAAgD+/wAAAAAAAAAAAAAAAAAAAgAAAAAAAAAAAAAAAAD+//v//v8AAP7//v8AAP7//v8AAAAAAAAAAAAAAAD+//7//v8AAAgA/v/+/wIAAAAAAP7/AAAAAAAAAgACAAAAAAAAAAAAAAACAAIAAAAAAP7/AgD+/wAAAAD+/wAA/v8AAAAAAAAAAAIAAgD+/wAA/v8AAAIAAAAAAAAAAgACAAAAAgACAAAA/v8AAAAA/v8AAAAAAAAAAAIAAgAAAAAAAAAAAAIAAgAAAAAA/v8CAAAAAAACAP7/AAD+//7/AAAAAP7/AAACAAAAAAAAAAAA/v8AAAIAAgAAAP7/AgAAAAAAAgACAAAAAAACAAAAAgAAAAIAAgAAAAAAAgAAAAAAAAD+/wAAAAAAAP7/AAAAAAIAAgD+/wAAAAD+/wIABQAAAAAAAAAAAAAAAgAAAAIAAgD+/wAAAAAFAAIA+//+//7/AAAAAAAAAAD+/wAAAAACAAAA/v8CAAIA/v8AAP7/AAAAAPv//v8AAAAA/v8AAAAA/v8AAP7/AAAAAAAAAAAAAPv/AAAAAP7//v/+/wAAAAACAAAAAAAAAAAAAAAAAAAAAAAAAP7/AgAAAAAAAAAAAAAAAAAAAAAAAgAAAAAAAAD+/wIAAAAAAAAAAAAAAAAA/v8AAAAAAAACAAAAAAAAAAIA/v8AAAAAAAAAAAAAAAAAAP7/AAAAAAAAAgD+//7/AAAAAAAAAAACAAIAAAAAAAAAAgAAAP7/AgAAAAAA/v8AAAAA/v/+/wAAAAAAAAAAAgAAAAIAAAAAAAAAAAAAAAAAAAAAAP7/+/8AAAAAAAD+/wAAAAAAAAAAAgAAAAIAAAAAAAIA/v8CAAAAAAAAAP7/AAAAAAAAAAACAAIAAAAAAAIA/v8CAAAAAAAAAP7/AAACAAAA/v/+/wAAAAAAAAIAAAACAAAAAAACAPv/AAACAAAAAgD+/wIAAgAAAAAAAAAAAAAAAAACAAAAAAACAAAAAAD+//7/AgAFAP7/AAAAAAIAAAD+/wAAAgAAAAAAAAAAAAAAAAACAAAAAAAAAAAAAAAAAAAAAgAAAAAAAAAAAAAA/v8AAAIAAAAAAAAA/v/+/wAAAgACAAIAAgACAAIAAAAAAAAAAgAAAAIAAAAAAAAAAAAAAAAAAAAAAAAAAAAAAAAA/v/+/wAA/v8CAPv/+/8AAAAAAAAAAAIAAAAAAP7/AAAAAP7/AAAAAAAAAAAAAP7/AgAAAAAA/v8AAAAAAAAAAAAAAAD+/wAAAAAAAAIAAAACAAIAAAAAAAAAAAD+/wAAAAD+/wAAAAAAAP7/AgAAAAAAAAAAAAIAAAAAAAIAAAAAAP7/AgAAAAAA/v8AAAIAAAACAAAA/v/+//7/AAAAAAIA/v/+/wAAAgACAAAAAgAAAP7//v8CAAAAAAD+/wAAAAACAAAAAAAAAAAA/v/+/wIAAAAAAP7/AgAAAAIAAAD+/wAAAAACAAAAAAACAAAAAAAAAP7//v8AAAAAAAD+//7/AAAAAAAAAAACAAAAAAAAAAAAAAAAAAIAAAAAAAAAAAAAAAAAAAAAAP7/AAAAAAAA/v8AAAAAAgACAAAAAAAAAP7/AAACAP7/AAAAAAAAAAAAAAIA/v/+/wIAAAAAAAIAAgAAAAAAAAAAAP7//v8AAAAAAAAAAAIAAAAAAAAAAAAAAAUAAgAAAAAAAAACAAAAAAD+//7/+//+/wAAAAAAAAIAAAAAAAAA/v8AAAAAAAAAAP7//v8AAAIAAAACAP7//v8AAAAAAAAAAAAAAAAAAAIAAgAAAAAAAAAAAAIAAAAAAAAAAgD+/wAAAAAAAPv//v/+//7/AAD+/wAAAAACAAAAAAAAAAAAAAD+//7/AAAAAAAAAAAAAAIA/v8CAAAAAAAAAP7/AgAAAP7/AAAAAAAAAAAAAAAAAAAAAAIAAAD+//7//v8AAAAAAAAAAAAAAAAAAAAAAAAAAAAAAAAAAAAAAgAAAAAAAgAAAAAAAAAAAAAAAAAAAAAAAAD+/wAAAAD+/wAAAAAAAAAAAAAAAAIAAAACAAIAAAAAAAAAAgAAAP7/AAD+//7/AgAAAAAA/v8CAP7/AAAAAAAAAAAAAAAAAAD+//7/AAD+/wAAAgAAAP7/AAAAAAAAAAACAAAAAAACAAAAAAD+/wAA/v8CAAIAAgAAAP7/AgAAAAAAAAACAAAA/v8AAAAAAAACAAAA/v8CAAIAAAAAAAAAAAAAAAAAAgAAAAIAAAAAAP7/AAAAAP7/AAD+/wAAAAAAAAAAAAAAAP7//v8AAP7/AAAAAP7/AAAAAP7/AgD+/wAAAAAAAAIAAAD+/wAAAgACAAAAAAAAAP7//v8CAP7/AAAAAAIAAAACAAIA/v8AAAAAAgACAAAAAAAAAAAAAAD+//7//v/+/wAAAAACAAIAAAD+//7/AAD+/wAAAAD+/wAAAgAAAAAAAgACAP7/AAAAAP7//v8AAP7//v8CAAAAAAACAAAAAAACAAAAAAAAAAAA/v8AAAIAAAAAAAAAAAAAAAAAAgAAAP7/AAAAAP7/AAAAAP7/AAAAAP7/AgAAAAAAAAAAAP7/AAACAAAAAAAAAP7/AgAAAAAAAAAAAAAAAAAAAAAAAgAAAAAAAAD+/wAAAAAAAAIAAAAAAAIAAAAAAAAABQAAAAIAAgAAAAIA/v/+//7/AAAAAP7/AAAAAAAAAgACAP7/AAAAAAAA/v/+/wIAAAD+//7/AAACAP7/AAD+/wAAAgAAAAIAAAD+/wAAAgAAAAAAAgAAAAAA/v/+/wAA/v8AAP7//v8AAAAAAAACAAAA/v/+/wAA/v8AAAIAAAACAAAA/v8AAAAAAAD+/wAAAAD+/wAAAgAAAAAAAAD+/wAAAAAAAAAA/v8CAAAAAAAAAAAAAgAAAAAA/v8AAAAAAAAAAP7/AgAAAAIAAgACAAAAAAAAAAAAAAAAAAAAAAAAAP7/AAAAAAAA/v8AAAAAAAAAAAAA/v8AAAAAAAACAAAAAAAAAAIAAAAAAAAAAgAAAAIAAAAAAAAA/v8AAAAAAAD+/wIAAgAAAAAA/v8AAP7/AgAAAAAAAAAAAAAAAAAAAAAAAAAAAAIAAAAAAAAAAAACAAAAAAAAAAAAAAAAAAIAAAACAAAAAAAAAAAAAAD+/wAAAAAAAAAAAAAAAAAAAAAAAAAAAAAAAAAA/v/+/wAA/v8AAAAAAAAAAP7/AgACAP7/AgD+/wAAAAACAAIA/v8CAAAAAAAAAAIAAgAAAAAAAgAAAAAAAAAAAAAAAAD+/wAAAAAAAAIA/v8CAAAA/v8AAAAAAAD+/wAA/v8AAAIAAAACAAAAAAACAAAA/v8AAAAA/v8AAAAAAAD+//7/AAD+//7/AAAAAAAAAAAAAAAAAAACAAAA/v8AAAAAAAD+//v//v8AAAAAAgAAAAIAAAAAAAAAAAAAAAAA/v8AAAAAAAACAAAAAAD+/wAA/v8CAAAAAAAAAAAA/v8AAP7//v8AAAIAAgD+/wIAAgACAAAAAAAAAP7/AgAAAP7/AAAAAAAAAAAAAAAAAAACAAAAAAD+/wAAAAACAAAAAgAFAAAAAAACAAAAAAAAAAAA/v/+/wAAAgACAAAAAAD+/wIA/v8AAAIAAgAAAAAAAAACAAAA/v8CAAAAAAD+/wAAAgACAAIAAAAAAAAA/v/+//7/AAD+/wAA/v8CAAIAAAAAAAAAAgAAAAAA/v8AAAAAAAAAAAAAAAAAAAIAAAAAAAAAAAAAAAAAAAAAAAAAAgAAAAAAAAAAAP7/AAD+/wAAAAACAAAA/v8AAAAAAAAAAP7//v8CAAIAAAAAAAAAAAAAAAAAAgAAAP7/AAAAAAIAAAAAAAIAAgAAAAAAAgAAAAAAAAAAAP7/AgACAAAAAAAAAAAA/v8AAAAAAgD+//v/AAAAAAAAAgAAAPv/AAAAAAAAAAAAAAIAAgAAAAAAAAD+/wAAAAAAAAAA/v8AAAAAAAAAAAAAAgAAAAAAAgAAAAAAAAAAAAAAAAACAAIAAgAAAAIAAAAAAAAAAAAAAAAA/v8AAAIA/v8AAAAA/v/+/wAAAAAAAAAA/v8AAAAAAAAAAP7/AAAAAAAAAgAAAP7//v8AAAAAAAAAAAAAAAD+//7/AgACAAAAAgAAAP7/AAACAAAA/v8AAAAAAAAAAAIAAAAAAP7/AAACAP7/AAAAAAAAAAD+//7//v8AAAAAAAAAAP7/AAACAP7//v8AAAAAAAAAAAAAAAAAAP7/AAAAAAIAAgAAAP7//v8AAAAA/v8CAAIAAAAAAAIAAAAAAAAAAAACAAIAAAAAAAAAAAAAAAAAAAD+/wAAAgAAAAAAAgAAAAAAAAAAAAAA/v8AAAAAAgAAAP7/AAACAAAA/v8AAAAAAAAAAP7/AAD+/wAAAAAAAAAAAAAAAAAAAAD+/wIAAAAAAAAA/v/+/wAAAAD+/wAAAAD+/wAAAAAAAAAAAAD+/wAAAAACAAAAAAAAAAAAAAAAAAIABQD+//7/AAD+/wAA/v8AAAAAAAAAAP7//v8CAAAAAAAAAAAAAAAAAAAAAAD+/wAAAAACAAAAAAAAAAAAAAD+//7/AAAAAAIAAgACAAAAAAAAAAAAAgAAAAAAAAACAAAAAAD+/wIAAAD+/wAAAAAAAAIAAAAAAAAAAAD+/wAAAgAAAAAAAAAAAAAAAAAAAP7/AAAAAAIAAgAAAAAAAAAAAAAAAAD+//7/AgAAAAAAAAACAAIAAAD+/wAAAgAAAAAAAAAAAAAAAgAAAAAAAAAAAAAAAAACAAIA/v8AAAAAAAAAAAAAAAD+/wAAAgAAAP7//v8CAAAAAAD+/wAAAAAAAAAAAAAAAAIAAAAAAAAA/v8AAAIAAAAAAP7//v8AAAAAAgAAAAAAAgD+/wAAAAD+/wAA/v8AAAIAAAAAAAAAAAAAAAAAAAAAAAAAAAACAAUAAAACAAAAAAAAAP7//v8AAAAA/v8AAAIAAAAAAAIAAAAAAAIAAAAAAAIAAAD+/wAAAAAAAAAAAAAAAAAAAgAAAAAAAAD+//7//v8CAAIAAAAAAAAAAAAAAAAA/v8AAP7/AAACAP7//v8AAAAAAAD+/wAAAAAAAAAAAAACAP7/AgAAAAAA/v8AAAAA/v8AAAAAAgAAAP7//v8AAAAAAAAAAAAAAgAAAAIAAAD+/wAAAAAAAAAAAAACAP7//v8CAAAAAAAAAAAAAAAAAP7/AAD+/wAAAAAAAAAA/v/+//7/AAD+/wAAAAACAAAAAgACAAIAAAAAAAIAAAAAAAIAAAD+/wAAAAAAAP7//v8CAAAAAAAAAP7/AAD+/wAAAgD7/wAAAAAAAAAAAAAAAAAAAAAAAP7//v8AAAAAAAD+/wAAAgAAAAIAAgAAAP7/AAACAAAAAAAAAP7/AAAAAP7/AgAFAAAAAgAFAAAAAAAAAAAAAgACAAAAAgAAAAAA/v8AAAIA/v8AAP7//v8AAAAAAAD+/wAAAAAAAAAAAAAAAAAAAAAAAAAAAAAAAAAAAAAAAAAAAAAAAAAAAAAAAAIAAAAAAAAA/v8AAAAAAAAAAP7/AAAAAAAAAAAAAAAAAAAAAAAAAAAAAAAAAAACAAAAAAAAAAAAAAACAAAAAAAAAAAAAAAAAP7/AAACAAAAAAAAAAAAAAAAAAAAAAAAAAAAAAAAAAAAAAAAAAAAAgAAAAAA/v8AAAIA/v8AAAAAAAAAAAAAAAAAAAAAAAAAAAAAAAAAAAAAAAAAAP7/AAAAAAAAAAAAAAAAAAAAAAAAAAAAAAAAAAAAAAAAAAAAAAAA/v8AAAAAAAAAAAAAAAAAAAIAAAACAAAA/v8AAAAAAAAAAAAAAAAAAAAAAAACAAAA/v8AAAAAAAAAAP7/AAAAAAAAAAAAAAAAAAAAAAAAAAAAAAAAAAAAAAAAAAAAAAAAAAAAAAAAAAAAAAAAAAACAAAAAAAAAAAAAAAAAAAAAAAAAAAAAAAAAAIAAAAAAAAAAAAAAAAAAAAAAAAAAAAAAAAAAAAAAAAAAAAAAAAAAAAAAAAAAAAAAAAAAAAAAAAAAAAAAAAAAAAAAAAAAAAAAAAAAAAAAAAAAAAAAAIAAAAAAAAAAAAAAAAAAAAAAAAAAAAAAAAAAAAAAAAAAAAAAAAAAAAAAAAAAgAAAAAAAAAAAP7/AAAAAAAAAAAAAAAAAgAAAAAAAAAAAAAAAAAAAAAAAAAAAAAAAAAAAAAAAAAAAAAAAAAAAAAAAAAAAAAAAAAAAAAAAAAAAAAAAAD+/wAAAgAAAAAAAgAAAAAAAAAAAAAAAAAAAAAAAAAAAAAAAAAAAAAAAAAAAAAAAAAAAAAAAAAAAAAAAAAAAAAAAAAAAAAAAAAAAAAAAAAAAAAAAAAAAAIAAAAAAAAAAAAAAAAAAAAAAAAAAAAAAAAAAAD+/wAAAAACAAAAAAAAAAAAAAAAAAAAAAAAAAAAAAACAAAAAAAAAAAA/v8AAAAAAAAAAAAAAAAAAAAAAAAAAAIAAAAAAAAAAAAAAAAAAAAAAAAAAAAAAAAAAAAAAAAAAAAAAAAAAAAAAAAAAAAAAAAAAAAAAAAAAAAAAAAAAAAAAAAAAAAAAAAAAAAAAAAAAAAAAAAAAAAAAAAAAAAAAAAA/v8AAAIAAAAAAAAAAAAAAAAAAAAAAAAAAAAAAAAAAAAAAAAAAAAAAAAAAAAAAAAAAAAAAAAAAAD+/wAAAAAAAAAAAAAAAAAAAAAAAAAAAAAAAAAAAAACAAAAAAAAAAAAAAAAAAAAAAAAAAAAAAAAAAAAAAAAAAAAAAAAAAAAAAAAAAAAAAAAAAAAAAAAAAAAAAAAAAAAAAAAAAAAAAAAAAAAAAAAAAAAAAACAAAAAAAAAAAAAAAAAAIAAAAAAAAAAAAAAAAAAAAAAAAAAAAAAAAAAAAAAAAAAAAAAAAAAAAAAAAAAAAAAAAAAAAAAAAAAAAAAP7/AgAAAAAAAAACAAAAAAAAAAAAAAACAAAAAAAAAAAAAAAAAAIAAgAAAAAAAAAAAAIAAAAAAAAA/v8AAAAAAAAAAAAAAAAAAAAAAAAAAAAAAAAAAAAAAAAAAAAAAAAAAAAAAAAAAAAAAAAAAP7/AgAAAAAAAAAAAAAAAAAAAAAAAgAAAAAAAAAAAAAAAAAAAAAAAAAAAAAAAAAAAAAAAAAAAAIAAAAAAP7/AAAAAAIAAAD+/wAAAAAAAP7/AAAAAAAAAAD+/wAAAAAAAAAAAAAAAAAAAAAAAAAAAAAAAAAAAAAAAAAAAAAAAAAAAAAAAAAAAAAAAAAAAAACAAAA/v8CAAAAAAAAAAAAAAAAAAAAAAAAAAAAAAAAAAAAAAAAAAAAAAAAAAAAAAAAAAAAAAAAAAAAAAD+/wAAAAAAAAAAAAAAAAAAAAAAAAAA/v8AAAAAAgAAAAAAAAAAAAAAAAAAAAAAAAD+/wAAAAAAAAAAAAAAAAAAAAAAAAAAAAAAAAAAAAAAAAAAAAAAAAAAAAAAAAAAAAAAAAIAAAAAAAAAAAAAAAAAAAAAAAAAAAAAAAAAAAAAAAAAAAAAAAAAAAAAAAAAAAAAAAAAAgAAAAAAAAAAAAAAAAAAAAAAAAAAAAAAAAAAAAAAAAAAAAAAAAAAAAAAAAAAAAAAAAAAAAAAAAAAAAAAAAAAAAAAAAAAAAAAAAAAAAAAAAAAAAAAAAAAAAAAAAAAAAAAAAAAAAAAAAAAAAAAAAAAAAAAAAAAAAAAAAAAAAAAAAAAAAAAAAAAAAAAAAAAAAAAAAAAAAAAAAAAAAAAAAAAAAAAAAAAAAAAAAAAAAAAAAAAAAAAAAAAAAAAAAAAAAAAAAAAAAAAAAAAAAAAAAAAAAAAAAAAAAAAAAAAAAAAAAAAAAAAAAAAAAAAAAAAAAAAAAAAAAAAAAAAAAAAAAAAAAAAAAAAAAAAAAAAAAAAAAAAAAAAAAAAAAAAAAAAAAAAAAAAAAAAAAAAAAAAAAAAAAAAAAAAAAAAAAAAAAAAAAAAAAAAAAAAAAAAAAAAAAAAAAAAAAAAAAAAAAAAAAAAAAAAAAAAAAAAAAAAAAAAAAAAAAAAAAAAAAAAAAAAAAAAAAAAAAAAAAAAAAAAAAAAAAAAAAAAAAAAAAAAAAAAAAAAAAAAAAAAAAAAAAAAAAAAAAAAAAAAAAAAAAAAAAAAAAAAAAAAAAAAAAAAAAAAAAAAAAAAAAAAAAAAAAAAAAAAAAAAAAAAAAAAAAAAAAAAAAAAAAAAAAAAAAAAAAAAAAAAAAAAAAAAAAAAAAAAAAAAAAAAAAAAAAAAAAAAAAAAAAAAAAAAAAAAAAAAAAAAAAAAAAAAAAAAAAAAAAAAAAAAAAAAAAAAAAAAAAAAAAAAAAAAAAA=\" type=\"audio/wav\" />\n",
       "                    Your browser does not support the audio element.\n",
       "                </audio>\n",
       "              "
      ],
      "text/plain": [
       "<IPython.lib.display.Audio object>"
      ]
     },
     "execution_count": 28,
     "metadata": {},
     "output_type": "execute_result"
    }
   ],
   "source": [
    "import IPython.display as ipd\n",
    "import numpy as np\n",
    "import random\n",
    "\n",
    "rand_int = random.randint(0, len(train_dataset)-1)\n",
    "\n",
    "print(\"Phonetics:\", train_dataset[rand_int][\"phonetic\"])\n",
    "print(\"Input array shape:\", train_dataset[rand_int][\"audio\"][\"array\"].shape)\n",
    "print(\"Sampling rate:\", train_dataset[rand_int][\"audio\"][\"sampling_rate\"])\n",
    "ipd.Audio(data=train_dataset[rand_int][\"audio\"][\"array\"], autoplay=False, rate=16000)"
   ]
  },
  {
   "cell_type": "markdown",
   "id": "cf98e384",
   "metadata": {
    "papermill": {
     "duration": 0.01356,
     "end_time": "2025-10-16T14:23:20.588646",
     "exception": false,
     "start_time": "2025-10-16T14:23:20.575086",
     "status": "completed"
    },
    "tags": []
   },
   "source": [
    "## save datasets "
   ]
  },
  {
   "cell_type": "code",
   "execution_count": 29,
   "id": "9ccb170c",
   "metadata": {
    "execution": {
     "iopub.execute_input": "2025-10-16T14:23:20.617569Z",
     "iopub.status.busy": "2025-10-16T14:23:20.617157Z",
     "iopub.status.idle": "2025-10-16T14:23:37.348138Z",
     "shell.execute_reply": "2025-10-16T14:23:37.347315Z"
    },
    "papermill": {
     "duration": 16.747384,
     "end_time": "2025-10-16T14:23:37.349710",
     "exception": false,
     "start_time": "2025-10-16T14:23:20.602326",
     "status": "completed"
    },
    "tags": []
   },
   "outputs": [
    {
     "data": {
      "application/vnd.jupyter.widget-view+json": {
       "model_id": "12f90cc94414472d8c1dc8d9c45e927f",
       "version_major": 2,
       "version_minor": 0
      },
      "text/plain": [
       "Saving the dataset (0/1 shards):   0%|          | 0/15308 [00:00<?, ? examples/s]"
      ]
     },
     "metadata": {},
     "output_type": "display_data"
    },
    {
     "data": {
      "application/vnd.jupyter.widget-view+json": {
       "model_id": "0e2316b1ccd24c1b8795fb76fd1d5a89",
       "version_major": 2,
       "version_minor": 0
      },
      "text/plain": [
       "Saving the dataset (0/1 shards):   0%|          | 0/1913 [00:00<?, ? examples/s]"
      ]
     },
     "metadata": {},
     "output_type": "display_data"
    },
    {
     "data": {
      "application/vnd.jupyter.widget-view+json": {
       "model_id": "ab3a9aa7fe774c169108271ab84aa575",
       "version_major": 2,
       "version_minor": 0
      },
      "text/plain": [
       "Saving the dataset (0/1 shards):   0%|          | 0/1915 [00:00<?, ? examples/s]"
      ]
     },
     "metadata": {},
     "output_type": "display_data"
    }
   ],
   "source": [
    "# Saves to 'kaggle/working/'\n",
    "from datasets import DatasetDict\n",
    "dataset = DatasetDict({\n",
    "    \"train\": train_dataset,\n",
    "    \"validation\": valid_dataset,\n",
    "    \"test\": test_dataset\n",
    "})\n",
    "\n",
    "dataset.save_to_disk(\"teangl_phon_dataset\")"
   ]
  },
  {
   "cell_type": "markdown",
   "id": "7433e03c",
   "metadata": {
    "papermill": {
     "duration": 0.013171,
     "end_time": "2025-10-16T14:23:37.377042",
     "exception": false,
     "start_time": "2025-10-16T14:23:37.363871",
     "status": "completed"
    },
    "tags": []
   },
   "source": [
    "# Build IPA charset vocab"
   ]
  },
  {
   "cell_type": "code",
   "execution_count": 30,
   "id": "9a53e71a",
   "metadata": {
    "execution": {
     "iopub.execute_input": "2025-10-16T14:23:37.405824Z",
     "iopub.status.busy": "2025-10-16T14:23:37.405480Z",
     "iopub.status.idle": "2025-10-16T14:23:37.413678Z",
     "shell.execute_reply": "2025-10-16T14:23:37.412786Z"
    },
    "papermill": {
     "duration": 0.024496,
     "end_time": "2025-10-16T14:23:37.415109",
     "exception": false,
     "start_time": "2025-10-16T14:23:37.390613",
     "status": "completed"
    },
    "tags": []
   },
   "outputs": [],
   "source": [
    "vocab_train = list(set(train_phonetics)) + [' ']\n",
    "vocab_valid = list(set(valid_phonetics)) + [' ']\n",
    "vocab_test  = list(set(test_phonetics)) + [' ']"
   ]
  },
  {
   "cell_type": "code",
   "execution_count": 31,
   "id": "73e2656d",
   "metadata": {
    "execution": {
     "iopub.execute_input": "2025-10-16T14:23:37.443689Z",
     "iopub.status.busy": "2025-10-16T14:23:37.443347Z",
     "iopub.status.idle": "2025-10-16T14:23:37.448131Z",
     "shell.execute_reply": "2025-10-16T14:23:37.447202Z"
    },
    "papermill": {
     "duration": 0.020679,
     "end_time": "2025-10-16T14:23:37.449542",
     "exception": false,
     "start_time": "2025-10-16T14:23:37.428863",
     "status": "completed"
    },
    "tags": []
   },
   "outputs": [
    {
     "name": "stdout",
     "output_type": "stream",
     "text": [
      "{' ': 0, 'a': 1, 'ai': 2, 'au': 3, 'aː': 4, 'bʲ': 5, 'bˠ': 6, 'c': 7, 'd': 8, 'dʲ': 9, 'd̪ˠ': 10, 'e': 11, 'eː': 12, 'f': 13, 'fʲ': 14, 'fˠ': 15, 'h': 16, 'hʲ': 17, 'i': 18, 'ia': 19, 'iː': 20, 'iˑə': 21, 'j': 22, 'k': 23, 'l': 24, 'lʲ': 25, 'l̻̊ˠ': 26, 'l̥ʲ': 27, 'l̻ʲ': 28, 'l̻ˠ': 29, 'm': 30, 'mʲ': 31, 'mˠ': 32, 'm̥ʲ': 33, 'm̥ˠ': 34, 'n': 35, 'nʲ': 36, 'nˠ': 37, 'n̻̊ˠ': 38, 'n̥ʲ': 39, 'n̻ʲ': 40, 'n̻ˠ': 41, 'o': 42, 'oː': 43, 'p': 44, 'pʲ': 45, 'pˠ': 46, 's': 47, 'sˠ': 48, 'tʲ': 49, 't̪': 50, 't̪ˠ': 51, 'u': 52, 'ua': 53, 'uː': 54, 'uˑə': 55, 'vʲ': 56, 'vˠ': 57, 'w': 58, 'x': 59, 'zʲ': 60, 'zˠ': 61, 'æ': 62, 'ç': 63, 'ŋ': 64, 'ɒ': 65, 'ə': 66, 'ɛ': 67, 'ɟ': 68, 'ɡ': 69, 'ɣ': 70, 'ɪ': 71, 'ɲ': 72, 'ɲ̊': 73, 'ɹ': 74, 'ɾʲ': 75, 'ɾˠ': 76, 'ɾ̥ʲ': 77, 'ɾ̥ˠ': 78, 'ʃ': 79, 'ʌ': 80, 'ʤ': 81}\n"
     ]
    }
   ],
   "source": [
    "vocab_list = list(set(vocab_train + vocab_valid + vocab_test))\n",
    "vocab_dict = {v: k for k, v in enumerate(sorted(vocab_list))}\n",
    "\n",
    "print(vocab_dict)"
   ]
  },
  {
   "cell_type": "code",
   "execution_count": 32,
   "id": "495b10cd",
   "metadata": {
    "execution": {
     "iopub.execute_input": "2025-10-16T14:23:37.478285Z",
     "iopub.status.busy": "2025-10-16T14:23:37.477871Z",
     "iopub.status.idle": "2025-10-16T14:23:37.483858Z",
     "shell.execute_reply": "2025-10-16T14:23:37.482903Z"
    },
    "papermill": {
     "duration": 0.021707,
     "end_time": "2025-10-16T14:23:37.485286",
     "exception": false,
     "start_time": "2025-10-16T14:23:37.463579",
     "status": "completed"
    },
    "tags": []
   },
   "outputs": [
    {
     "data": {
      "text/plain": [
       "84"
      ]
     },
     "execution_count": 32,
     "metadata": {},
     "output_type": "execute_result"
    }
   ],
   "source": [
    "# make the space more intuitive to understand\n",
    "vocab_dict[\"|\"] = vocab_dict[\" \"]\n",
    "del vocab_dict[\" \"]\n",
    "\n",
    "vocab_dict[\"[UNK]\"] = len(vocab_dict)\n",
    "vocab_dict[\"[PAD]\"] = len(vocab_dict)\n",
    "len(vocab_dict)"
   ]
  },
  {
   "cell_type": "code",
   "execution_count": 33,
   "id": "3b735e80",
   "metadata": {
    "execution": {
     "iopub.execute_input": "2025-10-16T14:23:37.514089Z",
     "iopub.status.busy": "2025-10-16T14:23:37.513756Z",
     "iopub.status.idle": "2025-10-16T14:23:37.518358Z",
     "shell.execute_reply": "2025-10-16T14:23:37.517555Z"
    },
    "papermill": {
     "duration": 0.020798,
     "end_time": "2025-10-16T14:23:37.519948",
     "exception": false,
     "start_time": "2025-10-16T14:23:37.499150",
     "status": "completed"
    },
    "tags": []
   },
   "outputs": [],
   "source": [
    "# save vocab.json\n",
    "import json\n",
    "with open('/kaggle/working/vocab.json', 'w') as vocab_file:\n",
    "    json.dump(vocab_dict, vocab_file)"
   ]
  }
 ],
 "metadata": {
  "kaggle": {
   "accelerator": "none",
   "dataSources": [
    {
     "datasetId": 212391,
     "sourceId": 471627,
     "sourceType": "datasetVersion"
    },
    {
     "datasetId": 6929583,
     "sourceId": 11114093,
     "sourceType": "datasetVersion"
    },
    {
     "datasetId": 6954758,
     "sourceId": 11147964,
     "sourceType": "datasetVersion"
    }
   ],
   "dockerImageVersionId": 30918,
   "isGpuEnabled": false,
   "isInternetEnabled": true,
   "language": "python",
   "sourceType": "notebook"
  },
  "kernelspec": {
   "display_name": "Python 3",
   "language": "python",
   "name": "python3"
  },
  "language_info": {
   "codemirror_mode": {
    "name": "ipython",
    "version": 3
   },
   "file_extension": ".py",
   "mimetype": "text/x-python",
   "name": "python",
   "nbconvert_exporter": "python",
   "pygments_lexer": "ipython3",
   "version": "3.10.12"
  },
  "papermill": {
   "default_parameters": {},
   "duration": 242.287983,
   "end_time": "2025-10-16T14:23:40.311711",
   "environment_variables": {},
   "exception": null,
   "input_path": "__notebook__.ipynb",
   "output_path": "__notebook__.ipynb",
   "parameters": {},
   "start_time": "2025-10-16T14:19:38.023728",
   "version": "2.6.0"
  },
  "widgets": {
   "application/vnd.jupyter.widget-state+json": {
    "state": {
     "00ebbb5375b54d13a443c4c2aea9be92": {
      "model_module": "@jupyter-widgets/controls",
      "model_module_version": "2.0.0",
      "model_name": "HTMLModel",
      "state": {
       "_dom_classes": [],
       "_model_module": "@jupyter-widgets/controls",
       "_model_module_version": "2.0.0",
       "_model_name": "HTMLModel",
       "_view_count": null,
       "_view_module": "@jupyter-widgets/controls",
       "_view_module_version": "2.0.0",
       "_view_name": "HTMLView",
       "description": "",
       "description_allow_html": false,
       "layout": "IPY_MODEL_1b41b43d6d4247dd8719d069ff7e88f5",
       "placeholder": "​",
       "style": "IPY_MODEL_a600992dbe9a440291a0428dfc013e0a",
       "tabbable": null,
       "tooltip": null,
       "value": "Map: 100%"
      }
     },
     "02f1edcc138d431fb43e4856abd98f5a": {
      "model_module": "@jupyter-widgets/base",
      "model_module_version": "2.0.0",
      "model_name": "LayoutModel",
      "state": {
       "_model_module": "@jupyter-widgets/base",
       "_model_module_version": "2.0.0",
       "_model_name": "LayoutModel",
       "_view_count": null,
       "_view_module": "@jupyter-widgets/base",
       "_view_module_version": "2.0.0",
       "_view_name": "LayoutView",
       "align_content": null,
       "align_items": null,
       "align_self": null,
       "border_bottom": null,
       "border_left": null,
       "border_right": null,
       "border_top": null,
       "bottom": null,
       "display": null,
       "flex": null,
       "flex_flow": null,
       "grid_area": null,
       "grid_auto_columns": null,
       "grid_auto_flow": null,
       "grid_auto_rows": null,
       "grid_column": null,
       "grid_gap": null,
       "grid_row": null,
       "grid_template_areas": null,
       "grid_template_columns": null,
       "grid_template_rows": null,
       "height": null,
       "justify_content": null,
       "justify_items": null,
       "left": null,
       "margin": null,
       "max_height": null,
       "max_width": null,
       "min_height": null,
       "min_width": null,
       "object_fit": null,
       "object_position": null,
       "order": null,
       "overflow": null,
       "padding": null,
       "right": null,
       "top": null,
       "visibility": null,
       "width": null
      }
     },
     "03e3e81e3f0e40f9b4282588af182c3b": {
      "model_module": "@jupyter-widgets/controls",
      "model_module_version": "2.0.0",
      "model_name": "HTMLStyleModel",
      "state": {
       "_model_module": "@jupyter-widgets/controls",
       "_model_module_version": "2.0.0",
       "_model_name": "HTMLStyleModel",
       "_view_count": null,
       "_view_module": "@jupyter-widgets/base",
       "_view_module_version": "2.0.0",
       "_view_name": "StyleView",
       "background": null,
       "description_width": "",
       "font_size": null,
       "text_color": null
      }
     },
     "04771ced7cf34245a3a7bb42ac220df0": {
      "model_module": "@jupyter-widgets/controls",
      "model_module_version": "2.0.0",
      "model_name": "HTMLStyleModel",
      "state": {
       "_model_module": "@jupyter-widgets/controls",
       "_model_module_version": "2.0.0",
       "_model_name": "HTMLStyleModel",
       "_view_count": null,
       "_view_module": "@jupyter-widgets/base",
       "_view_module_version": "2.0.0",
       "_view_name": "StyleView",
       "background": null,
       "description_width": "",
       "font_size": null,
       "text_color": null
      }
     },
     "05bcac29d9c949389d19dc0c551f5e46": {
      "model_module": "@jupyter-widgets/base",
      "model_module_version": "2.0.0",
      "model_name": "LayoutModel",
      "state": {
       "_model_module": "@jupyter-widgets/base",
       "_model_module_version": "2.0.0",
       "_model_name": "LayoutModel",
       "_view_count": null,
       "_view_module": "@jupyter-widgets/base",
       "_view_module_version": "2.0.0",
       "_view_name": "LayoutView",
       "align_content": null,
       "align_items": null,
       "align_self": null,
       "border_bottom": null,
       "border_left": null,
       "border_right": null,
       "border_top": null,
       "bottom": null,
       "display": null,
       "flex": null,
       "flex_flow": null,
       "grid_area": null,
       "grid_auto_columns": null,
       "grid_auto_flow": null,
       "grid_auto_rows": null,
       "grid_column": null,
       "grid_gap": null,
       "grid_row": null,
       "grid_template_areas": null,
       "grid_template_columns": null,
       "grid_template_rows": null,
       "height": null,
       "justify_content": null,
       "justify_items": null,
       "left": null,
       "margin": null,
       "max_height": null,
       "max_width": null,
       "min_height": null,
       "min_width": null,
       "object_fit": null,
       "object_position": null,
       "order": null,
       "overflow": null,
       "padding": null,
       "right": null,
       "top": null,
       "visibility": null,
       "width": null
      }
     },
     "06f5647934d04a3e9f73ab29e1cf3fbd": {
      "model_module": "@jupyter-widgets/base",
      "model_module_version": "2.0.0",
      "model_name": "LayoutModel",
      "state": {
       "_model_module": "@jupyter-widgets/base",
       "_model_module_version": "2.0.0",
       "_model_name": "LayoutModel",
       "_view_count": null,
       "_view_module": "@jupyter-widgets/base",
       "_view_module_version": "2.0.0",
       "_view_name": "LayoutView",
       "align_content": null,
       "align_items": null,
       "align_self": null,
       "border_bottom": null,
       "border_left": null,
       "border_right": null,
       "border_top": null,
       "bottom": null,
       "display": null,
       "flex": null,
       "flex_flow": null,
       "grid_area": null,
       "grid_auto_columns": null,
       "grid_auto_flow": null,
       "grid_auto_rows": null,
       "grid_column": null,
       "grid_gap": null,
       "grid_row": null,
       "grid_template_areas": null,
       "grid_template_columns": null,
       "grid_template_rows": null,
       "height": null,
       "justify_content": null,
       "justify_items": null,
       "left": null,
       "margin": null,
       "max_height": null,
       "max_width": null,
       "min_height": null,
       "min_width": null,
       "object_fit": null,
       "object_position": null,
       "order": null,
       "overflow": null,
       "padding": null,
       "right": null,
       "top": null,
       "visibility": null,
       "width": null
      }
     },
     "076b30d8fc524b9ea7af04fab155b45a": {
      "model_module": "@jupyter-widgets/controls",
      "model_module_version": "2.0.0",
      "model_name": "HTMLModel",
      "state": {
       "_dom_classes": [],
       "_model_module": "@jupyter-widgets/controls",
       "_model_module_version": "2.0.0",
       "_model_name": "HTMLModel",
       "_view_count": null,
       "_view_module": "@jupyter-widgets/controls",
       "_view_module_version": "2.0.0",
       "_view_name": "HTMLView",
       "description": "",
       "description_allow_html": false,
       "layout": "IPY_MODEL_ab6ae05e9a694646870db49e130c4ede",
       "placeholder": "​",
       "style": "IPY_MODEL_145fa9c11d124ab585c60683190bf9ca",
       "tabbable": null,
       "tooltip": null,
       "value": " 15308/15308 [00:00&lt;00:00, 18640.67 examples/s]"
      }
     },
     "08434e3fef7f4a6fa264442a70eda4e6": {
      "model_module": "@jupyter-widgets/controls",
      "model_module_version": "2.0.0",
      "model_name": "HTMLModel",
      "state": {
       "_dom_classes": [],
       "_model_module": "@jupyter-widgets/controls",
       "_model_module_version": "2.0.0",
       "_model_name": "HTMLModel",
       "_view_count": null,
       "_view_module": "@jupyter-widgets/controls",
       "_view_module_version": "2.0.0",
       "_view_name": "HTMLView",
       "description": "",
       "description_allow_html": false,
       "layout": "IPY_MODEL_3756054e3d1e4e56b2c05f2450cab1fd",
       "placeholder": "​",
       "style": "IPY_MODEL_03e3e81e3f0e40f9b4282588af182c3b",
       "tabbable": null,
       "tooltip": null,
       "value": " 1915/1915 [00:01&lt;00:00, 1279.61 examples/s]"
      }
     },
     "0c6fdf880a7f4e9cbdfbf5c8e9cc2abf": {
      "model_module": "@jupyter-widgets/base",
      "model_module_version": "2.0.0",
      "model_name": "LayoutModel",
      "state": {
       "_model_module": "@jupyter-widgets/base",
       "_model_module_version": "2.0.0",
       "_model_name": "LayoutModel",
       "_view_count": null,
       "_view_module": "@jupyter-widgets/base",
       "_view_module_version": "2.0.0",
       "_view_name": "LayoutView",
       "align_content": null,
       "align_items": null,
       "align_self": null,
       "border_bottom": null,
       "border_left": null,
       "border_right": null,
       "border_top": null,
       "bottom": null,
       "display": null,
       "flex": null,
       "flex_flow": null,
       "grid_area": null,
       "grid_auto_columns": null,
       "grid_auto_flow": null,
       "grid_auto_rows": null,
       "grid_column": null,
       "grid_gap": null,
       "grid_row": null,
       "grid_template_areas": null,
       "grid_template_columns": null,
       "grid_template_rows": null,
       "height": null,
       "justify_content": null,
       "justify_items": null,
       "left": null,
       "margin": null,
       "max_height": null,
       "max_width": null,
       "min_height": null,
       "min_width": null,
       "object_fit": null,
       "object_position": null,
       "order": null,
       "overflow": null,
       "padding": null,
       "right": null,
       "top": null,
       "visibility": null,
       "width": null
      }
     },
     "0e2316b1ccd24c1b8795fb76fd1d5a89": {
      "model_module": "@jupyter-widgets/controls",
      "model_module_version": "2.0.0",
      "model_name": "HBoxModel",
      "state": {
       "_dom_classes": [],
       "_model_module": "@jupyter-widgets/controls",
       "_model_module_version": "2.0.0",
       "_model_name": "HBoxModel",
       "_view_count": null,
       "_view_module": "@jupyter-widgets/controls",
       "_view_module_version": "2.0.0",
       "_view_name": "HBoxView",
       "box_style": "",
       "children": [
        "IPY_MODEL_21090cd25b104ae5ba606a46bd130e98",
        "IPY_MODEL_ab9bbf438fd44b7f8994c6bbdddb99b1",
        "IPY_MODEL_bbfde667f15b4186ba8d0e5c0185bfd8"
       ],
       "layout": "IPY_MODEL_59ed711cd44c480ba1f4a18a3723a298",
       "tabbable": null,
       "tooltip": null
      }
     },
     "0fbb5b2efa704dd582d7055a4e4ba137": {
      "model_module": "@jupyter-widgets/controls",
      "model_module_version": "2.0.0",
      "model_name": "FloatProgressModel",
      "state": {
       "_dom_classes": [],
       "_model_module": "@jupyter-widgets/controls",
       "_model_module_version": "2.0.0",
       "_model_name": "FloatProgressModel",
       "_view_count": null,
       "_view_module": "@jupyter-widgets/controls",
       "_view_module_version": "2.0.0",
       "_view_name": "ProgressView",
       "bar_style": "success",
       "description": "",
       "description_allow_html": false,
       "layout": "IPY_MODEL_7769175c58534e999e99d5fa402fd0c1",
       "max": 15308.0,
       "min": 0.0,
       "orientation": "horizontal",
       "style": "IPY_MODEL_610649d51fc848f2bc1b87163bfec653",
       "tabbable": null,
       "tooltip": null,
       "value": 15308.0
      }
     },
     "12f90cc94414472d8c1dc8d9c45e927f": {
      "model_module": "@jupyter-widgets/controls",
      "model_module_version": "2.0.0",
      "model_name": "HBoxModel",
      "state": {
       "_dom_classes": [],
       "_model_module": "@jupyter-widgets/controls",
       "_model_module_version": "2.0.0",
       "_model_name": "HBoxModel",
       "_view_count": null,
       "_view_module": "@jupyter-widgets/controls",
       "_view_module_version": "2.0.0",
       "_view_name": "HBoxView",
       "box_style": "",
       "children": [
        "IPY_MODEL_a4b05a14bb2b42689e870c181ba2446e",
        "IPY_MODEL_86c6760672394e25a567788333ee751a",
        "IPY_MODEL_840911d6d2f74696b057073f589297fe"
       ],
       "layout": "IPY_MODEL_06f5647934d04a3e9f73ab29e1cf3fbd",
       "tabbable": null,
       "tooltip": null
      }
     },
     "145fa9c11d124ab585c60683190bf9ca": {
      "model_module": "@jupyter-widgets/controls",
      "model_module_version": "2.0.0",
      "model_name": "HTMLStyleModel",
      "state": {
       "_model_module": "@jupyter-widgets/controls",
       "_model_module_version": "2.0.0",
       "_model_name": "HTMLStyleModel",
       "_view_count": null,
       "_view_module": "@jupyter-widgets/base",
       "_view_module_version": "2.0.0",
       "_view_name": "StyleView",
       "background": null,
       "description_width": "",
       "font_size": null,
       "text_color": null
      }
     },
     "175af61ac35c47eb86b4aa444a95a7ed": {
      "model_module": "@jupyter-widgets/base",
      "model_module_version": "2.0.0",
      "model_name": "LayoutModel",
      "state": {
       "_model_module": "@jupyter-widgets/base",
       "_model_module_version": "2.0.0",
       "_model_name": "LayoutModel",
       "_view_count": null,
       "_view_module": "@jupyter-widgets/base",
       "_view_module_version": "2.0.0",
       "_view_name": "LayoutView",
       "align_content": null,
       "align_items": null,
       "align_self": null,
       "border_bottom": null,
       "border_left": null,
       "border_right": null,
       "border_top": null,
       "bottom": null,
       "display": null,
       "flex": null,
       "flex_flow": null,
       "grid_area": null,
       "grid_auto_columns": null,
       "grid_auto_flow": null,
       "grid_auto_rows": null,
       "grid_column": null,
       "grid_gap": null,
       "grid_row": null,
       "grid_template_areas": null,
       "grid_template_columns": null,
       "grid_template_rows": null,
       "height": null,
       "justify_content": null,
       "justify_items": null,
       "left": null,
       "margin": null,
       "max_height": null,
       "max_width": null,
       "min_height": null,
       "min_width": null,
       "object_fit": null,
       "object_position": null,
       "order": null,
       "overflow": null,
       "padding": null,
       "right": null,
       "top": null,
       "visibility": null,
       "width": null
      }
     },
     "1b41b43d6d4247dd8719d069ff7e88f5": {
      "model_module": "@jupyter-widgets/base",
      "model_module_version": "2.0.0",
      "model_name": "LayoutModel",
      "state": {
       "_model_module": "@jupyter-widgets/base",
       "_model_module_version": "2.0.0",
       "_model_name": "LayoutModel",
       "_view_count": null,
       "_view_module": "@jupyter-widgets/base",
       "_view_module_version": "2.0.0",
       "_view_name": "LayoutView",
       "align_content": null,
       "align_items": null,
       "align_self": null,
       "border_bottom": null,
       "border_left": null,
       "border_right": null,
       "border_top": null,
       "bottom": null,
       "display": null,
       "flex": null,
       "flex_flow": null,
       "grid_area": null,
       "grid_auto_columns": null,
       "grid_auto_flow": null,
       "grid_auto_rows": null,
       "grid_column": null,
       "grid_gap": null,
       "grid_row": null,
       "grid_template_areas": null,
       "grid_template_columns": null,
       "grid_template_rows": null,
       "height": null,
       "justify_content": null,
       "justify_items": null,
       "left": null,
       "margin": null,
       "max_height": null,
       "max_width": null,
       "min_height": null,
       "min_width": null,
       "object_fit": null,
       "object_position": null,
       "order": null,
       "overflow": null,
       "padding": null,
       "right": null,
       "top": null,
       "visibility": null,
       "width": null
      }
     },
     "1d0594fb26bd4d62b1c7658290f7e1ba": {
      "model_module": "@jupyter-widgets/base",
      "model_module_version": "2.0.0",
      "model_name": "LayoutModel",
      "state": {
       "_model_module": "@jupyter-widgets/base",
       "_model_module_version": "2.0.0",
       "_model_name": "LayoutModel",
       "_view_count": null,
       "_view_module": "@jupyter-widgets/base",
       "_view_module_version": "2.0.0",
       "_view_name": "LayoutView",
       "align_content": null,
       "align_items": null,
       "align_self": null,
       "border_bottom": null,
       "border_left": null,
       "border_right": null,
       "border_top": null,
       "bottom": null,
       "display": null,
       "flex": null,
       "flex_flow": null,
       "grid_area": null,
       "grid_auto_columns": null,
       "grid_auto_flow": null,
       "grid_auto_rows": null,
       "grid_column": null,
       "grid_gap": null,
       "grid_row": null,
       "grid_template_areas": null,
       "grid_template_columns": null,
       "grid_template_rows": null,
       "height": null,
       "justify_content": null,
       "justify_items": null,
       "left": null,
       "margin": null,
       "max_height": null,
       "max_width": null,
       "min_height": null,
       "min_width": null,
       "object_fit": null,
       "object_position": null,
       "order": null,
       "overflow": null,
       "padding": null,
       "right": null,
       "top": null,
       "visibility": null,
       "width": null
      }
     },
     "21090cd25b104ae5ba606a46bd130e98": {
      "model_module": "@jupyter-widgets/controls",
      "model_module_version": "2.0.0",
      "model_name": "HTMLModel",
      "state": {
       "_dom_classes": [],
       "_model_module": "@jupyter-widgets/controls",
       "_model_module_version": "2.0.0",
       "_model_name": "HTMLModel",
       "_view_count": null,
       "_view_module": "@jupyter-widgets/controls",
       "_view_module_version": "2.0.0",
       "_view_name": "HTMLView",
       "description": "",
       "description_allow_html": false,
       "layout": "IPY_MODEL_a4f0090cccef4c73ad0a75fc72cb13a0",
       "placeholder": "​",
       "style": "IPY_MODEL_04771ced7cf34245a3a7bb42ac220df0",
       "tabbable": null,
       "tooltip": null,
       "value": "Saving the dataset (1/1 shards): 100%"
      }
     },
     "243029901da046b7baed0e9d4e00e8df": {
      "model_module": "@jupyter-widgets/base",
      "model_module_version": "2.0.0",
      "model_name": "LayoutModel",
      "state": {
       "_model_module": "@jupyter-widgets/base",
       "_model_module_version": "2.0.0",
       "_model_name": "LayoutModel",
       "_view_count": null,
       "_view_module": "@jupyter-widgets/base",
       "_view_module_version": "2.0.0",
       "_view_name": "LayoutView",
       "align_content": null,
       "align_items": null,
       "align_self": null,
       "border_bottom": null,
       "border_left": null,
       "border_right": null,
       "border_top": null,
       "bottom": null,
       "display": null,
       "flex": null,
       "flex_flow": null,
       "grid_area": null,
       "grid_auto_columns": null,
       "grid_auto_flow": null,
       "grid_auto_rows": null,
       "grid_column": null,
       "grid_gap": null,
       "grid_row": null,
       "grid_template_areas": null,
       "grid_template_columns": null,
       "grid_template_rows": null,
       "height": null,
       "justify_content": null,
       "justify_items": null,
       "left": null,
       "margin": null,
       "max_height": null,
       "max_width": null,
       "min_height": null,
       "min_width": null,
       "object_fit": null,
       "object_position": null,
       "order": null,
       "overflow": null,
       "padding": null,
       "right": null,
       "top": null,
       "visibility": null,
       "width": null
      }
     },
     "25f352d6eaeb49f18b738c83bbb9b0ec": {
      "model_module": "@jupyter-widgets/controls",
      "model_module_version": "2.0.0",
      "model_name": "HTMLModel",
      "state": {
       "_dom_classes": [],
       "_model_module": "@jupyter-widgets/controls",
       "_model_module_version": "2.0.0",
       "_model_name": "HTMLModel",
       "_view_count": null,
       "_view_module": "@jupyter-widgets/controls",
       "_view_module_version": "2.0.0",
       "_view_name": "HTMLView",
       "description": "",
       "description_allow_html": false,
       "layout": "IPY_MODEL_d19abc6f833b45818d4ea64213cbc8ca",
       "placeholder": "​",
       "style": "IPY_MODEL_e4dd7224140a457c8939f9a28e203a8c",
       "tabbable": null,
       "tooltip": null,
       "value": " 1913/1913 [00:00&lt;00:00, 17294.74 examples/s]"
      }
     },
     "2a41b4d1f1db46ec8ffbe0b129bf0f37": {
      "model_module": "@jupyter-widgets/controls",
      "model_module_version": "2.0.0",
      "model_name": "HBoxModel",
      "state": {
       "_dom_classes": [],
       "_model_module": "@jupyter-widgets/controls",
       "_model_module_version": "2.0.0",
       "_model_name": "HBoxModel",
       "_view_count": null,
       "_view_module": "@jupyter-widgets/controls",
       "_view_module_version": "2.0.0",
       "_view_name": "HBoxView",
       "box_style": "",
       "children": [
        "IPY_MODEL_00ebbb5375b54d13a443c4c2aea9be92",
        "IPY_MODEL_5a03d973af9d4806bbddbb5144ea29f8",
        "IPY_MODEL_bbf0b1e35b0848e0ac5bf88c1f263358"
       ],
       "layout": "IPY_MODEL_1d0594fb26bd4d62b1c7658290f7e1ba",
       "tabbable": null,
       "tooltip": null
      }
     },
     "2aa0fa76bfd84b948c4e93653557a513": {
      "model_module": "@jupyter-widgets/controls",
      "model_module_version": "2.0.0",
      "model_name": "ProgressStyleModel",
      "state": {
       "_model_module": "@jupyter-widgets/controls",
       "_model_module_version": "2.0.0",
       "_model_name": "ProgressStyleModel",
       "_view_count": null,
       "_view_module": "@jupyter-widgets/base",
       "_view_module_version": "2.0.0",
       "_view_name": "StyleView",
       "bar_color": null,
       "description_width": ""
      }
     },
     "30fdc80e6ca6406092bb2deb995d6856": {
      "model_module": "@jupyter-widgets/base",
      "model_module_version": "2.0.0",
      "model_name": "LayoutModel",
      "state": {
       "_model_module": "@jupyter-widgets/base",
       "_model_module_version": "2.0.0",
       "_model_name": "LayoutModel",
       "_view_count": null,
       "_view_module": "@jupyter-widgets/base",
       "_view_module_version": "2.0.0",
       "_view_name": "LayoutView",
       "align_content": null,
       "align_items": null,
       "align_self": null,
       "border_bottom": null,
       "border_left": null,
       "border_right": null,
       "border_top": null,
       "bottom": null,
       "display": null,
       "flex": null,
       "flex_flow": null,
       "grid_area": null,
       "grid_auto_columns": null,
       "grid_auto_flow": null,
       "grid_auto_rows": null,
       "grid_column": null,
       "grid_gap": null,
       "grid_row": null,
       "grid_template_areas": null,
       "grid_template_columns": null,
       "grid_template_rows": null,
       "height": null,
       "justify_content": null,
       "justify_items": null,
       "left": null,
       "margin": null,
       "max_height": null,
       "max_width": null,
       "min_height": null,
       "min_width": null,
       "object_fit": null,
       "object_position": null,
       "order": null,
       "overflow": null,
       "padding": null,
       "right": null,
       "top": null,
       "visibility": null,
       "width": null
      }
     },
     "34c5dd78158c4111985dd51868a8c7f1": {
      "model_module": "@jupyter-widgets/controls",
      "model_module_version": "2.0.0",
      "model_name": "ProgressStyleModel",
      "state": {
       "_model_module": "@jupyter-widgets/controls",
       "_model_module_version": "2.0.0",
       "_model_name": "ProgressStyleModel",
       "_view_count": null,
       "_view_module": "@jupyter-widgets/base",
       "_view_module_version": "2.0.0",
       "_view_name": "StyleView",
       "bar_color": null,
       "description_width": ""
      }
     },
     "3756054e3d1e4e56b2c05f2450cab1fd": {
      "model_module": "@jupyter-widgets/base",
      "model_module_version": "2.0.0",
      "model_name": "LayoutModel",
      "state": {
       "_model_module": "@jupyter-widgets/base",
       "_model_module_version": "2.0.0",
       "_model_name": "LayoutModel",
       "_view_count": null,
       "_view_module": "@jupyter-widgets/base",
       "_view_module_version": "2.0.0",
       "_view_name": "LayoutView",
       "align_content": null,
       "align_items": null,
       "align_self": null,
       "border_bottom": null,
       "border_left": null,
       "border_right": null,
       "border_top": null,
       "bottom": null,
       "display": null,
       "flex": null,
       "flex_flow": null,
       "grid_area": null,
       "grid_auto_columns": null,
       "grid_auto_flow": null,
       "grid_auto_rows": null,
       "grid_column": null,
       "grid_gap": null,
       "grid_row": null,
       "grid_template_areas": null,
       "grid_template_columns": null,
       "grid_template_rows": null,
       "height": null,
       "justify_content": null,
       "justify_items": null,
       "left": null,
       "margin": null,
       "max_height": null,
       "max_width": null,
       "min_height": null,
       "min_width": null,
       "object_fit": null,
       "object_position": null,
       "order": null,
       "overflow": null,
       "padding": null,
       "right": null,
       "top": null,
       "visibility": null,
       "width": null
      }
     },
     "3c47ed41f6524f81a92ac54f7ca11138": {
      "model_module": "@jupyter-widgets/controls",
      "model_module_version": "2.0.0",
      "model_name": "ProgressStyleModel",
      "state": {
       "_model_module": "@jupyter-widgets/controls",
       "_model_module_version": "2.0.0",
       "_model_name": "ProgressStyleModel",
       "_view_count": null,
       "_view_module": "@jupyter-widgets/base",
       "_view_module_version": "2.0.0",
       "_view_name": "StyleView",
       "bar_color": null,
       "description_width": ""
      }
     },
     "3e17d7bf70574c7e910ca0678154be8f": {
      "model_module": "@jupyter-widgets/controls",
      "model_module_version": "2.0.0",
      "model_name": "HBoxModel",
      "state": {
       "_dom_classes": [],
       "_model_module": "@jupyter-widgets/controls",
       "_model_module_version": "2.0.0",
       "_model_name": "HBoxModel",
       "_view_count": null,
       "_view_module": "@jupyter-widgets/controls",
       "_view_module_version": "2.0.0",
       "_view_name": "HBoxView",
       "box_style": "",
       "children": [
        "IPY_MODEL_6de6727e91e84cd29dfd08c07ad6a9c3",
        "IPY_MODEL_0fbb5b2efa704dd582d7055a4e4ba137",
        "IPY_MODEL_076b30d8fc524b9ea7af04fab155b45a"
       ],
       "layout": "IPY_MODEL_175af61ac35c47eb86b4aa444a95a7ed",
       "tabbable": null,
       "tooltip": null
      }
     },
     "43edc5dbc30342a8b4cd54f3779b2f99": {
      "model_module": "@jupyter-widgets/controls",
      "model_module_version": "2.0.0",
      "model_name": "HBoxModel",
      "state": {
       "_dom_classes": [],
       "_model_module": "@jupyter-widgets/controls",
       "_model_module_version": "2.0.0",
       "_model_name": "HBoxModel",
       "_view_count": null,
       "_view_module": "@jupyter-widgets/controls",
       "_view_module_version": "2.0.0",
       "_view_name": "HBoxView",
       "box_style": "",
       "children": [
        "IPY_MODEL_ad09171c195d43ea874f8b16b67b18b9",
        "IPY_MODEL_48e6818b4c174bf5816a31f09002031a",
        "IPY_MODEL_25f352d6eaeb49f18b738c83bbb9b0ec"
       ],
       "layout": "IPY_MODEL_edd9ae25d76b45718e3d34d461eb0fdf",
       "tabbable": null,
       "tooltip": null
      }
     },
     "46136bdb217247f48123a78167a09ad3": {
      "model_module": "@jupyter-widgets/controls",
      "model_module_version": "2.0.0",
      "model_name": "HTMLStyleModel",
      "state": {
       "_model_module": "@jupyter-widgets/controls",
       "_model_module_version": "2.0.0",
       "_model_name": "HTMLStyleModel",
       "_view_count": null,
       "_view_module": "@jupyter-widgets/base",
       "_view_module_version": "2.0.0",
       "_view_name": "StyleView",
       "background": null,
       "description_width": "",
       "font_size": null,
       "text_color": null
      }
     },
     "477d466b195a4002ac7a535c578d244a": {
      "model_module": "@jupyter-widgets/base",
      "model_module_version": "2.0.0",
      "model_name": "LayoutModel",
      "state": {
       "_model_module": "@jupyter-widgets/base",
       "_model_module_version": "2.0.0",
       "_model_name": "LayoutModel",
       "_view_count": null,
       "_view_module": "@jupyter-widgets/base",
       "_view_module_version": "2.0.0",
       "_view_name": "LayoutView",
       "align_content": null,
       "align_items": null,
       "align_self": null,
       "border_bottom": null,
       "border_left": null,
       "border_right": null,
       "border_top": null,
       "bottom": null,
       "display": null,
       "flex": null,
       "flex_flow": null,
       "grid_area": null,
       "grid_auto_columns": null,
       "grid_auto_flow": null,
       "grid_auto_rows": null,
       "grid_column": null,
       "grid_gap": null,
       "grid_row": null,
       "grid_template_areas": null,
       "grid_template_columns": null,
       "grid_template_rows": null,
       "height": null,
       "justify_content": null,
       "justify_items": null,
       "left": null,
       "margin": null,
       "max_height": null,
       "max_width": null,
       "min_height": null,
       "min_width": null,
       "object_fit": null,
       "object_position": null,
       "order": null,
       "overflow": null,
       "padding": null,
       "right": null,
       "top": null,
       "visibility": null,
       "width": null
      }
     },
     "48e6818b4c174bf5816a31f09002031a": {
      "model_module": "@jupyter-widgets/controls",
      "model_module_version": "2.0.0",
      "model_name": "FloatProgressModel",
      "state": {
       "_dom_classes": [],
       "_model_module": "@jupyter-widgets/controls",
       "_model_module_version": "2.0.0",
       "_model_name": "FloatProgressModel",
       "_view_count": null,
       "_view_module": "@jupyter-widgets/controls",
       "_view_module_version": "2.0.0",
       "_view_name": "ProgressView",
       "bar_style": "success",
       "description": "",
       "description_allow_html": false,
       "layout": "IPY_MODEL_30fdc80e6ca6406092bb2deb995d6856",
       "max": 1913.0,
       "min": 0.0,
       "orientation": "horizontal",
       "style": "IPY_MODEL_34c5dd78158c4111985dd51868a8c7f1",
       "tabbable": null,
       "tooltip": null,
       "value": 1913.0
      }
     },
     "4b3cadef11aa4ec68a119562b318b651": {
      "model_module": "@jupyter-widgets/controls",
      "model_module_version": "2.0.0",
      "model_name": "HTMLStyleModel",
      "state": {
       "_model_module": "@jupyter-widgets/controls",
       "_model_module_version": "2.0.0",
       "_model_name": "HTMLStyleModel",
       "_view_count": null,
       "_view_module": "@jupyter-widgets/base",
       "_view_module_version": "2.0.0",
       "_view_name": "StyleView",
       "background": null,
       "description_width": "",
       "font_size": null,
       "text_color": null
      }
     },
     "5048f370ada746e0b11cc49ca457ef6f": {
      "model_module": "@jupyter-widgets/controls",
      "model_module_version": "2.0.0",
      "model_name": "FloatProgressModel",
      "state": {
       "_dom_classes": [],
       "_model_module": "@jupyter-widgets/controls",
       "_model_module_version": "2.0.0",
       "_model_name": "FloatProgressModel",
       "_view_count": null,
       "_view_module": "@jupyter-widgets/controls",
       "_view_module_version": "2.0.0",
       "_view_name": "ProgressView",
       "bar_style": "success",
       "description": "",
       "description_allow_html": false,
       "layout": "IPY_MODEL_76deccf09a8a42c2a7cdaae4893befd9",
       "max": 1915.0,
       "min": 0.0,
       "orientation": "horizontal",
       "style": "IPY_MODEL_6307512785de4586bf032f5f38dadcda",
       "tabbable": null,
       "tooltip": null,
       "value": 1915.0
      }
     },
     "59ed711cd44c480ba1f4a18a3723a298": {
      "model_module": "@jupyter-widgets/base",
      "model_module_version": "2.0.0",
      "model_name": "LayoutModel",
      "state": {
       "_model_module": "@jupyter-widgets/base",
       "_model_module_version": "2.0.0",
       "_model_name": "LayoutModel",
       "_view_count": null,
       "_view_module": "@jupyter-widgets/base",
       "_view_module_version": "2.0.0",
       "_view_name": "LayoutView",
       "align_content": null,
       "align_items": null,
       "align_self": null,
       "border_bottom": null,
       "border_left": null,
       "border_right": null,
       "border_top": null,
       "bottom": null,
       "display": null,
       "flex": null,
       "flex_flow": null,
       "grid_area": null,
       "grid_auto_columns": null,
       "grid_auto_flow": null,
       "grid_auto_rows": null,
       "grid_column": null,
       "grid_gap": null,
       "grid_row": null,
       "grid_template_areas": null,
       "grid_template_columns": null,
       "grid_template_rows": null,
       "height": null,
       "justify_content": null,
       "justify_items": null,
       "left": null,
       "margin": null,
       "max_height": null,
       "max_width": null,
       "min_height": null,
       "min_width": null,
       "object_fit": null,
       "object_position": null,
       "order": null,
       "overflow": null,
       "padding": null,
       "right": null,
       "top": null,
       "visibility": null,
       "width": null
      }
     },
     "5a03d973af9d4806bbddbb5144ea29f8": {
      "model_module": "@jupyter-widgets/controls",
      "model_module_version": "2.0.0",
      "model_name": "FloatProgressModel",
      "state": {
       "_dom_classes": [],
       "_model_module": "@jupyter-widgets/controls",
       "_model_module_version": "2.0.0",
       "_model_name": "FloatProgressModel",
       "_view_count": null,
       "_view_module": "@jupyter-widgets/controls",
       "_view_module_version": "2.0.0",
       "_view_name": "ProgressView",
       "bar_style": "success",
       "description": "",
       "description_allow_html": false,
       "layout": "IPY_MODEL_243029901da046b7baed0e9d4e00e8df",
       "max": 1915.0,
       "min": 0.0,
       "orientation": "horizontal",
       "style": "IPY_MODEL_2aa0fa76bfd84b948c4e93653557a513",
       "tabbable": null,
       "tooltip": null,
       "value": 1915.0
      }
     },
     "5d36d68a6031457b9851c15b18b1a4d0": {
      "model_module": "@jupyter-widgets/base",
      "model_module_version": "2.0.0",
      "model_name": "LayoutModel",
      "state": {
       "_model_module": "@jupyter-widgets/base",
       "_model_module_version": "2.0.0",
       "_model_name": "LayoutModel",
       "_view_count": null,
       "_view_module": "@jupyter-widgets/base",
       "_view_module_version": "2.0.0",
       "_view_name": "LayoutView",
       "align_content": null,
       "align_items": null,
       "align_self": null,
       "border_bottom": null,
       "border_left": null,
       "border_right": null,
       "border_top": null,
       "bottom": null,
       "display": null,
       "flex": null,
       "flex_flow": null,
       "grid_area": null,
       "grid_auto_columns": null,
       "grid_auto_flow": null,
       "grid_auto_rows": null,
       "grid_column": null,
       "grid_gap": null,
       "grid_row": null,
       "grid_template_areas": null,
       "grid_template_columns": null,
       "grid_template_rows": null,
       "height": null,
       "justify_content": null,
       "justify_items": null,
       "left": null,
       "margin": null,
       "max_height": null,
       "max_width": null,
       "min_height": null,
       "min_width": null,
       "object_fit": null,
       "object_position": null,
       "order": null,
       "overflow": null,
       "padding": null,
       "right": null,
       "top": null,
       "visibility": null,
       "width": null
      }
     },
     "610649d51fc848f2bc1b87163bfec653": {
      "model_module": "@jupyter-widgets/controls",
      "model_module_version": "2.0.0",
      "model_name": "ProgressStyleModel",
      "state": {
       "_model_module": "@jupyter-widgets/controls",
       "_model_module_version": "2.0.0",
       "_model_name": "ProgressStyleModel",
       "_view_count": null,
       "_view_module": "@jupyter-widgets/base",
       "_view_module_version": "2.0.0",
       "_view_name": "StyleView",
       "bar_color": null,
       "description_width": ""
      }
     },
     "61f5948db1d6425a8c3993e15406200d": {
      "model_module": "@jupyter-widgets/controls",
      "model_module_version": "2.0.0",
      "model_name": "ProgressStyleModel",
      "state": {
       "_model_module": "@jupyter-widgets/controls",
       "_model_module_version": "2.0.0",
       "_model_name": "ProgressStyleModel",
       "_view_count": null,
       "_view_module": "@jupyter-widgets/base",
       "_view_module_version": "2.0.0",
       "_view_name": "StyleView",
       "bar_color": null,
       "description_width": ""
      }
     },
     "6307512785de4586bf032f5f38dadcda": {
      "model_module": "@jupyter-widgets/controls",
      "model_module_version": "2.0.0",
      "model_name": "ProgressStyleModel",
      "state": {
       "_model_module": "@jupyter-widgets/controls",
       "_model_module_version": "2.0.0",
       "_model_name": "ProgressStyleModel",
       "_view_count": null,
       "_view_module": "@jupyter-widgets/base",
       "_view_module_version": "2.0.0",
       "_view_name": "StyleView",
       "bar_color": null,
       "description_width": ""
      }
     },
     "658d23d0e709468f8d769ae87aa321ce": {
      "model_module": "@jupyter-widgets/base",
      "model_module_version": "2.0.0",
      "model_name": "LayoutModel",
      "state": {
       "_model_module": "@jupyter-widgets/base",
       "_model_module_version": "2.0.0",
       "_model_name": "LayoutModel",
       "_view_count": null,
       "_view_module": "@jupyter-widgets/base",
       "_view_module_version": "2.0.0",
       "_view_name": "LayoutView",
       "align_content": null,
       "align_items": null,
       "align_self": null,
       "border_bottom": null,
       "border_left": null,
       "border_right": null,
       "border_top": null,
       "bottom": null,
       "display": null,
       "flex": null,
       "flex_flow": null,
       "grid_area": null,
       "grid_auto_columns": null,
       "grid_auto_flow": null,
       "grid_auto_rows": null,
       "grid_column": null,
       "grid_gap": null,
       "grid_row": null,
       "grid_template_areas": null,
       "grid_template_columns": null,
       "grid_template_rows": null,
       "height": null,
       "justify_content": null,
       "justify_items": null,
       "left": null,
       "margin": null,
       "max_height": null,
       "max_width": null,
       "min_height": null,
       "min_width": null,
       "object_fit": null,
       "object_position": null,
       "order": null,
       "overflow": null,
       "padding": null,
       "right": null,
       "top": null,
       "visibility": null,
       "width": null
      }
     },
     "69aad105ed7b467d88ad5fc251c25ed2": {
      "model_module": "@jupyter-widgets/base",
      "model_module_version": "2.0.0",
      "model_name": "LayoutModel",
      "state": {
       "_model_module": "@jupyter-widgets/base",
       "_model_module_version": "2.0.0",
       "_model_name": "LayoutModel",
       "_view_count": null,
       "_view_module": "@jupyter-widgets/base",
       "_view_module_version": "2.0.0",
       "_view_name": "LayoutView",
       "align_content": null,
       "align_items": null,
       "align_self": null,
       "border_bottom": null,
       "border_left": null,
       "border_right": null,
       "border_top": null,
       "bottom": null,
       "display": null,
       "flex": null,
       "flex_flow": null,
       "grid_area": null,
       "grid_auto_columns": null,
       "grid_auto_flow": null,
       "grid_auto_rows": null,
       "grid_column": null,
       "grid_gap": null,
       "grid_row": null,
       "grid_template_areas": null,
       "grid_template_columns": null,
       "grid_template_rows": null,
       "height": null,
       "justify_content": null,
       "justify_items": null,
       "left": null,
       "margin": null,
       "max_height": null,
       "max_width": null,
       "min_height": null,
       "min_width": null,
       "object_fit": null,
       "object_position": null,
       "order": null,
       "overflow": null,
       "padding": null,
       "right": null,
       "top": null,
       "visibility": null,
       "width": null
      }
     },
     "6de6727e91e84cd29dfd08c07ad6a9c3": {
      "model_module": "@jupyter-widgets/controls",
      "model_module_version": "2.0.0",
      "model_name": "HTMLModel",
      "state": {
       "_dom_classes": [],
       "_model_module": "@jupyter-widgets/controls",
       "_model_module_version": "2.0.0",
       "_model_name": "HTMLModel",
       "_view_count": null,
       "_view_module": "@jupyter-widgets/controls",
       "_view_module_version": "2.0.0",
       "_view_name": "HTMLView",
       "description": "",
       "description_allow_html": false,
       "layout": "IPY_MODEL_cb41548fec3e4227b8cd518497750710",
       "placeholder": "​",
       "style": "IPY_MODEL_9454646b924248a69aebe687710ca8cb",
       "tabbable": null,
       "tooltip": null,
       "value": "Map: 100%"
      }
     },
     "76deccf09a8a42c2a7cdaae4893befd9": {
      "model_module": "@jupyter-widgets/base",
      "model_module_version": "2.0.0",
      "model_name": "LayoutModel",
      "state": {
       "_model_module": "@jupyter-widgets/base",
       "_model_module_version": "2.0.0",
       "_model_name": "LayoutModel",
       "_view_count": null,
       "_view_module": "@jupyter-widgets/base",
       "_view_module_version": "2.0.0",
       "_view_name": "LayoutView",
       "align_content": null,
       "align_items": null,
       "align_self": null,
       "border_bottom": null,
       "border_left": null,
       "border_right": null,
       "border_top": null,
       "bottom": null,
       "display": null,
       "flex": null,
       "flex_flow": null,
       "grid_area": null,
       "grid_auto_columns": null,
       "grid_auto_flow": null,
       "grid_auto_rows": null,
       "grid_column": null,
       "grid_gap": null,
       "grid_row": null,
       "grid_template_areas": null,
       "grid_template_columns": null,
       "grid_template_rows": null,
       "height": null,
       "justify_content": null,
       "justify_items": null,
       "left": null,
       "margin": null,
       "max_height": null,
       "max_width": null,
       "min_height": null,
       "min_width": null,
       "object_fit": null,
       "object_position": null,
       "order": null,
       "overflow": null,
       "padding": null,
       "right": null,
       "top": null,
       "visibility": null,
       "width": null
      }
     },
     "7769175c58534e999e99d5fa402fd0c1": {
      "model_module": "@jupyter-widgets/base",
      "model_module_version": "2.0.0",
      "model_name": "LayoutModel",
      "state": {
       "_model_module": "@jupyter-widgets/base",
       "_model_module_version": "2.0.0",
       "_model_name": "LayoutModel",
       "_view_count": null,
       "_view_module": "@jupyter-widgets/base",
       "_view_module_version": "2.0.0",
       "_view_name": "LayoutView",
       "align_content": null,
       "align_items": null,
       "align_self": null,
       "border_bottom": null,
       "border_left": null,
       "border_right": null,
       "border_top": null,
       "bottom": null,
       "display": null,
       "flex": null,
       "flex_flow": null,
       "grid_area": null,
       "grid_auto_columns": null,
       "grid_auto_flow": null,
       "grid_auto_rows": null,
       "grid_column": null,
       "grid_gap": null,
       "grid_row": null,
       "grid_template_areas": null,
       "grid_template_columns": null,
       "grid_template_rows": null,
       "height": null,
       "justify_content": null,
       "justify_items": null,
       "left": null,
       "margin": null,
       "max_height": null,
       "max_width": null,
       "min_height": null,
       "min_width": null,
       "object_fit": null,
       "object_position": null,
       "order": null,
       "overflow": null,
       "padding": null,
       "right": null,
       "top": null,
       "visibility": null,
       "width": null
      }
     },
     "840911d6d2f74696b057073f589297fe": {
      "model_module": "@jupyter-widgets/controls",
      "model_module_version": "2.0.0",
      "model_name": "HTMLModel",
      "state": {
       "_dom_classes": [],
       "_model_module": "@jupyter-widgets/controls",
       "_model_module_version": "2.0.0",
       "_model_name": "HTMLModel",
       "_view_count": null,
       "_view_module": "@jupyter-widgets/controls",
       "_view_module_version": "2.0.0",
       "_view_name": "HTMLView",
       "description": "",
       "description_allow_html": false,
       "layout": "IPY_MODEL_02f1edcc138d431fb43e4856abd98f5a",
       "placeholder": "​",
       "style": "IPY_MODEL_8eea134062a44af4bf2d081e30898039",
       "tabbable": null,
       "tooltip": null,
       "value": " 15308/15308 [00:11&lt;00:00, 1369.75 examples/s]"
      }
     },
     "86c6760672394e25a567788333ee751a": {
      "model_module": "@jupyter-widgets/controls",
      "model_module_version": "2.0.0",
      "model_name": "FloatProgressModel",
      "state": {
       "_dom_classes": [],
       "_model_module": "@jupyter-widgets/controls",
       "_model_module_version": "2.0.0",
       "_model_name": "FloatProgressModel",
       "_view_count": null,
       "_view_module": "@jupyter-widgets/controls",
       "_view_module_version": "2.0.0",
       "_view_name": "ProgressView",
       "bar_style": "success",
       "description": "",
       "description_allow_html": false,
       "layout": "IPY_MODEL_69aad105ed7b467d88ad5fc251c25ed2",
       "max": 15308.0,
       "min": 0.0,
       "orientation": "horizontal",
       "style": "IPY_MODEL_3c47ed41f6524f81a92ac54f7ca11138",
       "tabbable": null,
       "tooltip": null,
       "value": 15308.0
      }
     },
     "89212781e1ba44999b3ad951727f37af": {
      "model_module": "@jupyter-widgets/base",
      "model_module_version": "2.0.0",
      "model_name": "LayoutModel",
      "state": {
       "_model_module": "@jupyter-widgets/base",
       "_model_module_version": "2.0.0",
       "_model_name": "LayoutModel",
       "_view_count": null,
       "_view_module": "@jupyter-widgets/base",
       "_view_module_version": "2.0.0",
       "_view_name": "LayoutView",
       "align_content": null,
       "align_items": null,
       "align_self": null,
       "border_bottom": null,
       "border_left": null,
       "border_right": null,
       "border_top": null,
       "bottom": null,
       "display": null,
       "flex": null,
       "flex_flow": null,
       "grid_area": null,
       "grid_auto_columns": null,
       "grid_auto_flow": null,
       "grid_auto_rows": null,
       "grid_column": null,
       "grid_gap": null,
       "grid_row": null,
       "grid_template_areas": null,
       "grid_template_columns": null,
       "grid_template_rows": null,
       "height": null,
       "justify_content": null,
       "justify_items": null,
       "left": null,
       "margin": null,
       "max_height": null,
       "max_width": null,
       "min_height": null,
       "min_width": null,
       "object_fit": null,
       "object_position": null,
       "order": null,
       "overflow": null,
       "padding": null,
       "right": null,
       "top": null,
       "visibility": null,
       "width": null
      }
     },
     "8eea134062a44af4bf2d081e30898039": {
      "model_module": "@jupyter-widgets/controls",
      "model_module_version": "2.0.0",
      "model_name": "HTMLStyleModel",
      "state": {
       "_model_module": "@jupyter-widgets/controls",
       "_model_module_version": "2.0.0",
       "_model_name": "HTMLStyleModel",
       "_view_count": null,
       "_view_module": "@jupyter-widgets/base",
       "_view_module_version": "2.0.0",
       "_view_name": "StyleView",
       "background": null,
       "description_width": "",
       "font_size": null,
       "text_color": null
      }
     },
     "9454646b924248a69aebe687710ca8cb": {
      "model_module": "@jupyter-widgets/controls",
      "model_module_version": "2.0.0",
      "model_name": "HTMLStyleModel",
      "state": {
       "_model_module": "@jupyter-widgets/controls",
       "_model_module_version": "2.0.0",
       "_model_name": "HTMLStyleModel",
       "_view_count": null,
       "_view_module": "@jupyter-widgets/base",
       "_view_module_version": "2.0.0",
       "_view_name": "StyleView",
       "background": null,
       "description_width": "",
       "font_size": null,
       "text_color": null
      }
     },
     "9b336143ef1c46c08e766842b0cfeeaf": {
      "model_module": "@jupyter-widgets/controls",
      "model_module_version": "2.0.0",
      "model_name": "HTMLModel",
      "state": {
       "_dom_classes": [],
       "_model_module": "@jupyter-widgets/controls",
       "_model_module_version": "2.0.0",
       "_model_name": "HTMLModel",
       "_view_count": null,
       "_view_module": "@jupyter-widgets/controls",
       "_view_module_version": "2.0.0",
       "_view_name": "HTMLView",
       "description": "",
       "description_allow_html": false,
       "layout": "IPY_MODEL_89212781e1ba44999b3ad951727f37af",
       "placeholder": "​",
       "style": "IPY_MODEL_a6e7ab2a7e5d4731b93773056ac58cac",
       "tabbable": null,
       "tooltip": null,
       "value": "Saving the dataset (1/1 shards): 100%"
      }
     },
     "9ff4f08c07ee4fc88630fc6d71a3e5c2": {
      "model_module": "@jupyter-widgets/base",
      "model_module_version": "2.0.0",
      "model_name": "LayoutModel",
      "state": {
       "_model_module": "@jupyter-widgets/base",
       "_model_module_version": "2.0.0",
       "_model_name": "LayoutModel",
       "_view_count": null,
       "_view_module": "@jupyter-widgets/base",
       "_view_module_version": "2.0.0",
       "_view_name": "LayoutView",
       "align_content": null,
       "align_items": null,
       "align_self": null,
       "border_bottom": null,
       "border_left": null,
       "border_right": null,
       "border_top": null,
       "bottom": null,
       "display": null,
       "flex": null,
       "flex_flow": null,
       "grid_area": null,
       "grid_auto_columns": null,
       "grid_auto_flow": null,
       "grid_auto_rows": null,
       "grid_column": null,
       "grid_gap": null,
       "grid_row": null,
       "grid_template_areas": null,
       "grid_template_columns": null,
       "grid_template_rows": null,
       "height": null,
       "justify_content": null,
       "justify_items": null,
       "left": null,
       "margin": null,
       "max_height": null,
       "max_width": null,
       "min_height": null,
       "min_width": null,
       "object_fit": null,
       "object_position": null,
       "order": null,
       "overflow": null,
       "padding": null,
       "right": null,
       "top": null,
       "visibility": null,
       "width": null
      }
     },
     "a0e0c810ddc24bf28d0549a796c6358c": {
      "model_module": "@jupyter-widgets/controls",
      "model_module_version": "2.0.0",
      "model_name": "HTMLStyleModel",
      "state": {
       "_model_module": "@jupyter-widgets/controls",
       "_model_module_version": "2.0.0",
       "_model_name": "HTMLStyleModel",
       "_view_count": null,
       "_view_module": "@jupyter-widgets/base",
       "_view_module_version": "2.0.0",
       "_view_name": "StyleView",
       "background": null,
       "description_width": "",
       "font_size": null,
       "text_color": null
      }
     },
     "a4b05a14bb2b42689e870c181ba2446e": {
      "model_module": "@jupyter-widgets/controls",
      "model_module_version": "2.0.0",
      "model_name": "HTMLModel",
      "state": {
       "_dom_classes": [],
       "_model_module": "@jupyter-widgets/controls",
       "_model_module_version": "2.0.0",
       "_model_name": "HTMLModel",
       "_view_count": null,
       "_view_module": "@jupyter-widgets/controls",
       "_view_module_version": "2.0.0",
       "_view_name": "HTMLView",
       "description": "",
       "description_allow_html": false,
       "layout": "IPY_MODEL_0c6fdf880a7f4e9cbdfbf5c8e9cc2abf",
       "placeholder": "​",
       "style": "IPY_MODEL_ccb42056dc494235bea6df112bc40267",
       "tabbable": null,
       "tooltip": null,
       "value": "Saving the dataset (1/1 shards): 100%"
      }
     },
     "a4f0090cccef4c73ad0a75fc72cb13a0": {
      "model_module": "@jupyter-widgets/base",
      "model_module_version": "2.0.0",
      "model_name": "LayoutModel",
      "state": {
       "_model_module": "@jupyter-widgets/base",
       "_model_module_version": "2.0.0",
       "_model_name": "LayoutModel",
       "_view_count": null,
       "_view_module": "@jupyter-widgets/base",
       "_view_module_version": "2.0.0",
       "_view_name": "LayoutView",
       "align_content": null,
       "align_items": null,
       "align_self": null,
       "border_bottom": null,
       "border_left": null,
       "border_right": null,
       "border_top": null,
       "bottom": null,
       "display": null,
       "flex": null,
       "flex_flow": null,
       "grid_area": null,
       "grid_auto_columns": null,
       "grid_auto_flow": null,
       "grid_auto_rows": null,
       "grid_column": null,
       "grid_gap": null,
       "grid_row": null,
       "grid_template_areas": null,
       "grid_template_columns": null,
       "grid_template_rows": null,
       "height": null,
       "justify_content": null,
       "justify_items": null,
       "left": null,
       "margin": null,
       "max_height": null,
       "max_width": null,
       "min_height": null,
       "min_width": null,
       "object_fit": null,
       "object_position": null,
       "order": null,
       "overflow": null,
       "padding": null,
       "right": null,
       "top": null,
       "visibility": null,
       "width": null
      }
     },
     "a600992dbe9a440291a0428dfc013e0a": {
      "model_module": "@jupyter-widgets/controls",
      "model_module_version": "2.0.0",
      "model_name": "HTMLStyleModel",
      "state": {
       "_model_module": "@jupyter-widgets/controls",
       "_model_module_version": "2.0.0",
       "_model_name": "HTMLStyleModel",
       "_view_count": null,
       "_view_module": "@jupyter-widgets/base",
       "_view_module_version": "2.0.0",
       "_view_name": "StyleView",
       "background": null,
       "description_width": "",
       "font_size": null,
       "text_color": null
      }
     },
     "a6e7ab2a7e5d4731b93773056ac58cac": {
      "model_module": "@jupyter-widgets/controls",
      "model_module_version": "2.0.0",
      "model_name": "HTMLStyleModel",
      "state": {
       "_model_module": "@jupyter-widgets/controls",
       "_model_module_version": "2.0.0",
       "_model_name": "HTMLStyleModel",
       "_view_count": null,
       "_view_module": "@jupyter-widgets/base",
       "_view_module_version": "2.0.0",
       "_view_name": "StyleView",
       "background": null,
       "description_width": "",
       "font_size": null,
       "text_color": null
      }
     },
     "ab3a9aa7fe774c169108271ab84aa575": {
      "model_module": "@jupyter-widgets/controls",
      "model_module_version": "2.0.0",
      "model_name": "HBoxModel",
      "state": {
       "_dom_classes": [],
       "_model_module": "@jupyter-widgets/controls",
       "_model_module_version": "2.0.0",
       "_model_name": "HBoxModel",
       "_view_count": null,
       "_view_module": "@jupyter-widgets/controls",
       "_view_module_version": "2.0.0",
       "_view_name": "HBoxView",
       "box_style": "",
       "children": [
        "IPY_MODEL_9b336143ef1c46c08e766842b0cfeeaf",
        "IPY_MODEL_5048f370ada746e0b11cc49ca457ef6f",
        "IPY_MODEL_08434e3fef7f4a6fa264442a70eda4e6"
       ],
       "layout": "IPY_MODEL_05bcac29d9c949389d19dc0c551f5e46",
       "tabbable": null,
       "tooltip": null
      }
     },
     "ab6ae05e9a694646870db49e130c4ede": {
      "model_module": "@jupyter-widgets/base",
      "model_module_version": "2.0.0",
      "model_name": "LayoutModel",
      "state": {
       "_model_module": "@jupyter-widgets/base",
       "_model_module_version": "2.0.0",
       "_model_name": "LayoutModel",
       "_view_count": null,
       "_view_module": "@jupyter-widgets/base",
       "_view_module_version": "2.0.0",
       "_view_name": "LayoutView",
       "align_content": null,
       "align_items": null,
       "align_self": null,
       "border_bottom": null,
       "border_left": null,
       "border_right": null,
       "border_top": null,
       "bottom": null,
       "display": null,
       "flex": null,
       "flex_flow": null,
       "grid_area": null,
       "grid_auto_columns": null,
       "grid_auto_flow": null,
       "grid_auto_rows": null,
       "grid_column": null,
       "grid_gap": null,
       "grid_row": null,
       "grid_template_areas": null,
       "grid_template_columns": null,
       "grid_template_rows": null,
       "height": null,
       "justify_content": null,
       "justify_items": null,
       "left": null,
       "margin": null,
       "max_height": null,
       "max_width": null,
       "min_height": null,
       "min_width": null,
       "object_fit": null,
       "object_position": null,
       "order": null,
       "overflow": null,
       "padding": null,
       "right": null,
       "top": null,
       "visibility": null,
       "width": null
      }
     },
     "ab9bbf438fd44b7f8994c6bbdddb99b1": {
      "model_module": "@jupyter-widgets/controls",
      "model_module_version": "2.0.0",
      "model_name": "FloatProgressModel",
      "state": {
       "_dom_classes": [],
       "_model_module": "@jupyter-widgets/controls",
       "_model_module_version": "2.0.0",
       "_model_name": "FloatProgressModel",
       "_view_count": null,
       "_view_module": "@jupyter-widgets/controls",
       "_view_module_version": "2.0.0",
       "_view_name": "ProgressView",
       "bar_style": "success",
       "description": "",
       "description_allow_html": false,
       "layout": "IPY_MODEL_658d23d0e709468f8d769ae87aa321ce",
       "max": 1913.0,
       "min": 0.0,
       "orientation": "horizontal",
       "style": "IPY_MODEL_61f5948db1d6425a8c3993e15406200d",
       "tabbable": null,
       "tooltip": null,
       "value": 1913.0
      }
     },
     "ad09171c195d43ea874f8b16b67b18b9": {
      "model_module": "@jupyter-widgets/controls",
      "model_module_version": "2.0.0",
      "model_name": "HTMLModel",
      "state": {
       "_dom_classes": [],
       "_model_module": "@jupyter-widgets/controls",
       "_model_module_version": "2.0.0",
       "_model_name": "HTMLModel",
       "_view_count": null,
       "_view_module": "@jupyter-widgets/controls",
       "_view_module_version": "2.0.0",
       "_view_name": "HTMLView",
       "description": "",
       "description_allow_html": false,
       "layout": "IPY_MODEL_477d466b195a4002ac7a535c578d244a",
       "placeholder": "​",
       "style": "IPY_MODEL_a0e0c810ddc24bf28d0549a796c6358c",
       "tabbable": null,
       "tooltip": null,
       "value": "Map: 100%"
      }
     },
     "bbf0b1e35b0848e0ac5bf88c1f263358": {
      "model_module": "@jupyter-widgets/controls",
      "model_module_version": "2.0.0",
      "model_name": "HTMLModel",
      "state": {
       "_dom_classes": [],
       "_model_module": "@jupyter-widgets/controls",
       "_model_module_version": "2.0.0",
       "_model_name": "HTMLModel",
       "_view_count": null,
       "_view_module": "@jupyter-widgets/controls",
       "_view_module_version": "2.0.0",
       "_view_name": "HTMLView",
       "description": "",
       "description_allow_html": false,
       "layout": "IPY_MODEL_5d36d68a6031457b9851c15b18b1a4d0",
       "placeholder": "​",
       "style": "IPY_MODEL_46136bdb217247f48123a78167a09ad3",
       "tabbable": null,
       "tooltip": null,
       "value": " 1915/1915 [00:00&lt;00:00, 17120.92 examples/s]"
      }
     },
     "bbfde667f15b4186ba8d0e5c0185bfd8": {
      "model_module": "@jupyter-widgets/controls",
      "model_module_version": "2.0.0",
      "model_name": "HTMLModel",
      "state": {
       "_dom_classes": [],
       "_model_module": "@jupyter-widgets/controls",
       "_model_module_version": "2.0.0",
       "_model_name": "HTMLModel",
       "_view_count": null,
       "_view_module": "@jupyter-widgets/controls",
       "_view_module_version": "2.0.0",
       "_view_name": "HTMLView",
       "description": "",
       "description_allow_html": false,
       "layout": "IPY_MODEL_9ff4f08c07ee4fc88630fc6d71a3e5c2",
       "placeholder": "​",
       "style": "IPY_MODEL_4b3cadef11aa4ec68a119562b318b651",
       "tabbable": null,
       "tooltip": null,
       "value": " 1913/1913 [00:01&lt;00:00, 1284.19 examples/s]"
      }
     },
     "cb41548fec3e4227b8cd518497750710": {
      "model_module": "@jupyter-widgets/base",
      "model_module_version": "2.0.0",
      "model_name": "LayoutModel",
      "state": {
       "_model_module": "@jupyter-widgets/base",
       "_model_module_version": "2.0.0",
       "_model_name": "LayoutModel",
       "_view_count": null,
       "_view_module": "@jupyter-widgets/base",
       "_view_module_version": "2.0.0",
       "_view_name": "LayoutView",
       "align_content": null,
       "align_items": null,
       "align_self": null,
       "border_bottom": null,
       "border_left": null,
       "border_right": null,
       "border_top": null,
       "bottom": null,
       "display": null,
       "flex": null,
       "flex_flow": null,
       "grid_area": null,
       "grid_auto_columns": null,
       "grid_auto_flow": null,
       "grid_auto_rows": null,
       "grid_column": null,
       "grid_gap": null,
       "grid_row": null,
       "grid_template_areas": null,
       "grid_template_columns": null,
       "grid_template_rows": null,
       "height": null,
       "justify_content": null,
       "justify_items": null,
       "left": null,
       "margin": null,
       "max_height": null,
       "max_width": null,
       "min_height": null,
       "min_width": null,
       "object_fit": null,
       "object_position": null,
       "order": null,
       "overflow": null,
       "padding": null,
       "right": null,
       "top": null,
       "visibility": null,
       "width": null
      }
     },
     "ccb42056dc494235bea6df112bc40267": {
      "model_module": "@jupyter-widgets/controls",
      "model_module_version": "2.0.0",
      "model_name": "HTMLStyleModel",
      "state": {
       "_model_module": "@jupyter-widgets/controls",
       "_model_module_version": "2.0.0",
       "_model_name": "HTMLStyleModel",
       "_view_count": null,
       "_view_module": "@jupyter-widgets/base",
       "_view_module_version": "2.0.0",
       "_view_name": "StyleView",
       "background": null,
       "description_width": "",
       "font_size": null,
       "text_color": null
      }
     },
     "d19abc6f833b45818d4ea64213cbc8ca": {
      "model_module": "@jupyter-widgets/base",
      "model_module_version": "2.0.0",
      "model_name": "LayoutModel",
      "state": {
       "_model_module": "@jupyter-widgets/base",
       "_model_module_version": "2.0.0",
       "_model_name": "LayoutModel",
       "_view_count": null,
       "_view_module": "@jupyter-widgets/base",
       "_view_module_version": "2.0.0",
       "_view_name": "LayoutView",
       "align_content": null,
       "align_items": null,
       "align_self": null,
       "border_bottom": null,
       "border_left": null,
       "border_right": null,
       "border_top": null,
       "bottom": null,
       "display": null,
       "flex": null,
       "flex_flow": null,
       "grid_area": null,
       "grid_auto_columns": null,
       "grid_auto_flow": null,
       "grid_auto_rows": null,
       "grid_column": null,
       "grid_gap": null,
       "grid_row": null,
       "grid_template_areas": null,
       "grid_template_columns": null,
       "grid_template_rows": null,
       "height": null,
       "justify_content": null,
       "justify_items": null,
       "left": null,
       "margin": null,
       "max_height": null,
       "max_width": null,
       "min_height": null,
       "min_width": null,
       "object_fit": null,
       "object_position": null,
       "order": null,
       "overflow": null,
       "padding": null,
       "right": null,
       "top": null,
       "visibility": null,
       "width": null
      }
     },
     "e4dd7224140a457c8939f9a28e203a8c": {
      "model_module": "@jupyter-widgets/controls",
      "model_module_version": "2.0.0",
      "model_name": "HTMLStyleModel",
      "state": {
       "_model_module": "@jupyter-widgets/controls",
       "_model_module_version": "2.0.0",
       "_model_name": "HTMLStyleModel",
       "_view_count": null,
       "_view_module": "@jupyter-widgets/base",
       "_view_module_version": "2.0.0",
       "_view_name": "StyleView",
       "background": null,
       "description_width": "",
       "font_size": null,
       "text_color": null
      }
     },
     "edd9ae25d76b45718e3d34d461eb0fdf": {
      "model_module": "@jupyter-widgets/base",
      "model_module_version": "2.0.0",
      "model_name": "LayoutModel",
      "state": {
       "_model_module": "@jupyter-widgets/base",
       "_model_module_version": "2.0.0",
       "_model_name": "LayoutModel",
       "_view_count": null,
       "_view_module": "@jupyter-widgets/base",
       "_view_module_version": "2.0.0",
       "_view_name": "LayoutView",
       "align_content": null,
       "align_items": null,
       "align_self": null,
       "border_bottom": null,
       "border_left": null,
       "border_right": null,
       "border_top": null,
       "bottom": null,
       "display": null,
       "flex": null,
       "flex_flow": null,
       "grid_area": null,
       "grid_auto_columns": null,
       "grid_auto_flow": null,
       "grid_auto_rows": null,
       "grid_column": null,
       "grid_gap": null,
       "grid_row": null,
       "grid_template_areas": null,
       "grid_template_columns": null,
       "grid_template_rows": null,
       "height": null,
       "justify_content": null,
       "justify_items": null,
       "left": null,
       "margin": null,
       "max_height": null,
       "max_width": null,
       "min_height": null,
       "min_width": null,
       "object_fit": null,
       "object_position": null,
       "order": null,
       "overflow": null,
       "padding": null,
       "right": null,
       "top": null,
       "visibility": null,
       "width": null
      }
     }
    },
    "version_major": 2,
    "version_minor": 0
   }
  }
 },
 "nbformat": 4,
 "nbformat_minor": 5
}
